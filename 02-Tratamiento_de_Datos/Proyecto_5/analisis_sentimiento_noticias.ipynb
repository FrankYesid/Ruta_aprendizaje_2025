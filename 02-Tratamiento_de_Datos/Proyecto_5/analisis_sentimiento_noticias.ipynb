{
 "cells": [
  {
   "cell_type": "markdown",
   "id": "38940327",
   "metadata": {},
   "source": [
    "# Análisis de Sentimiento y Engagement en Noticias\n",
    "Este cuaderno tiene como objetivo preprocesar datos de redes sociales para el análisis de sentimiento, explorando las interacciones de noticias de diferentes fuentes."
   ]
  },
  {
   "cell_type": "code",
   "execution_count": null,
   "id": "1e4842a5",
   "metadata": {},
   "outputs": [],
   "source": [
    "# Importar librerias\n",
    "import pandas as pd\n",
    "import matplotlib.pyplot as plt\n",
    "import seaborn as sns\n",
    "import re\n",
    "from textblob import TextBlob\n"
   ]
  },
  {
   "cell_type": "markdown",
   "id": "6659e24c",
   "metadata": {},
   "source": [
    "## 1. Carga de Datos\n",
    "\n",
    "Participación en las noticias globales en las redes sociales\n",
    "Información de CNN, BBC, Al Jazeera, Reuters\n",
    "Última actualización: hace 10 meses (versión 1)\n",
    "\n",
    "Acerca de este conjunto de datos\n",
    "Este conjunto de datos integral ofrece un análisis profundo de las métricas de participación en las redes sociales de casi 4000 publicaciones de cuatro de los principales canales de noticias del mundo: CNN, BBC, Al Jazeera y Reuters. La colección, seleccionada para brindar una visión integral de la interacción de las noticias globales en las redes sociales, se destaca por su meticuloso ensamblaje y su amplio espectro de contenido.\n",
    "\n",
    "Descripción general del conjunto de datos:\n",
    "Este conjunto de datos, que abarca varios eventos, temas y narrativas globales, es una instantánea de cómo se consumen las noticias y cómo se interactúa con ellas en las plataformas de redes sociales. Sirve como un recurso valioso para analizar tendencias, patrones de participación y la difusión de información a través de las fronteras internacionales.\n",
    "\n",
    "Aplicaciones de la ciencia de datos:\n",
    "Ideal para investigadores y entusiastas en los campos de la ciencia de datos, los estudios de medios y el análisis social, este conjunto de datos abre las puertas a numerosas exploraciones, como el análisis de la interacción, la previsión de tendencias, la optimización de la estrategia de contenido y el estudio del flujo de información en espacios digitales. También tiene potencial para proyectos de aprendizaje automático que apuntan a predecir la interacción o clasificar el contenido en función de métricas de interacción.\n",
    "\n",
    "Descriptores de columnas:\n",
    "Cada registro del conjunto de datos se detalla con las siguientes columnas:\n",
    "\n",
    "texto: el título o el contenido principal de la publicación.\n",
    "me gusta: la cantidad de me gusta que ha obtenido cada publicación.\n",
    "comentarios: la cantidad de comentarios que dejaron los espectadores.\n",
    "compartidos: la cantidad de veces que se compartió la publicación.\n",
    "Datos extraídos éticamente:\n",
    "La recopilación de este conjunto de datos se realizó teniendo en cuenta los estándares éticos más altos, lo que garantiza el cumplimiento de las leyes de privacidad de datos y las políticas de la plataforma. Al anonimizar los datos cuando sea necesario y centrarse únicamente en la información disponible públicamente, respeta tanto la privacidad individual como los derechos de propiedad intelectual.\n",
    "\n",
    "Queremos agradecer especialmente a la plataforma de Facebook y a los canales de noticias respectivos por su apertura y la gran cantidad de datos públicos que brindan. Este conjunto de datos no solo celebra el vibrante intercambio en las redes sociales, sino que también subraya la importancia del uso y el intercambio responsable de datos para fomentar la comprensión y la innovación.\n",
    "\n",
    "Cargaremos los datos de cuatro archivos CSV correspondientes a diferentes fuentes de noticias: `al_jazeera.csv`, `bbc.csv`, `cnn.csv` y `reuters.csv`. Estos contienen las siguientes columnas:\n",
    "- `text`: Contenido de la noticia compartida.\n",
    "- `likes`: Cantidad de 'me gusta'.\n",
    "- `comments`: Número de comentarios.\n",
    "- `shares`: Número de veces compartido.\n",
    "\n",
    "Fuente: https://www.kaggle.com/code/helizain/an-lisis-sentimiental-del-engagement-de-noticias/notebook"
   ]
  },
  {
   "cell_type": "code",
   "execution_count": null,
   "id": "9835eec2",
   "metadata": {},
   "outputs": [],
   "source": [
    "# Lista de archivos\n",
    "files = ['al_jazeera.csv', 'bbc.csv', 'cnn.csv', 'reuters.csv']\n",
    "\n",
    "# Cargar los archivos en un diccionario de DataFrames\n",
    "dfs = {file: pd.read_csv(\"./data/\"+file) for file in files}\n",
    "\n",
    "# Mostrar las primeras filas de cada archivo\n",
    "for name, df in dfs.items():\n",
    "    print(f\"\\n{name}:\")\n",
    "    display(df.head())"
   ]
  },
  {
   "cell_type": "markdown",
   "id": "2b25283d",
   "metadata": {},
   "source": [
    "## 2. Exploración y Estadísticas Descriptivas\n",
    "Vamos a analizar la estructura y características de los datos, identificando valores faltantes y distribuciones de interacciones."
   ]
  },
  {
   "cell_type": "code",
   "execution_count": null,
   "id": "e1e984a7",
   "metadata": {},
   "outputs": [],
   "source": [
    "# Verificar valores nulos en cada archivo\n",
    "for name, df in dfs.items():\n",
    "    print(f\"\\nValores nulos en {name}:\")\n",
    "    print(df.isnull().sum())"
   ]
  },
  {
   "cell_type": "markdown",
   "id": "b0999c58",
   "metadata": {},
   "source": [
    "## 3. Visualización de Datos\n",
    "Generaremos gráficos para entender el comportamiento de los likes, comentarios y compartidos."
   ]
  },
  {
   "cell_type": "code",
   "execution_count": null,
   "id": "a56d8651",
   "metadata": {},
   "outputs": [],
   "source": [
    "for name, df in dfs.items():\n",
    "    plt.figure(figsize=(10, 5))\n",
    "    sns.boxplot(data=df[['likes', 'comments', 'shares']])\n",
    "    plt.title(f'Distribución de interacciones en {name}')\n",
    "    plt.show()"
   ]
  },
  {
   "cell_type": "markdown",
   "id": "5d2d1bdc",
   "metadata": {},
   "source": [
    "## 4. Procesamiento de Texto\n",
    "Limpieza de datos textuales mediante eliminación de caracteres especiales y conversión a minúsculas."
   ]
  },
  {
   "cell_type": "code",
   "execution_count": null,
   "id": "1a932d51",
   "metadata": {},
   "outputs": [],
   "source": [
    "# Función para limpiar el texto\n",
    "def clean_text(text):\n",
    "    text = text.lower()\n",
    "    text = re.sub(r'[^a-zA-Z0-9\\s]', '', text)\n",
    "    return text\n",
    "\n",
    "for name, df in dfs.items():\n",
    "    df['clean_text'] = df['text'].apply(clean_text)\n",
    "    print(f\"\\nTexto procesado en {name}:\")\n",
    "    display(df[['text', 'clean_text']].head())"
   ]
  },
  {
   "cell_type": "markdown",
   "id": "e35e0f57",
   "metadata": {},
   "source": [
    "## 5. Análisis de Sentimiento\n",
    "Usaremos la biblioteca `TextBlob` para asignar una puntuación de sentimiento a cada texto."
   ]
  },
  {
   "cell_type": "code",
   "execution_count": null,
   "id": "aa79f4d7",
   "metadata": {},
   "outputs": [],
   "source": [
    "# Análisis de sentimiento\n",
    "for name, df in dfs.items():\n",
    "    df['sentiment'] = df['clean_text'].apply(lambda x: TextBlob(x).sentiment.polarity)\n",
    "    print(f\"\\nAnálisis de sentimiento en {name}:\")\n",
    "    display(df[['clean_text', 'sentiment']].head())"
   ]
  },
  {
   "cell_type": "markdown",
   "id": "d97f560a",
   "metadata": {},
   "source": [
    "## 6. Conclusiones\n",
    "Tras el análisis, hemos identificado patrones en el engagement de noticias de diferentes fuentes y cómo el sentimiento del texto puede influir en la interacción del público. Este estudio puede servir como base para modelos predictivos o de recomendación en el futuro."
   ]
  }
 ],
 "metadata": {
  "language_info": {
   "name": "python"
  }
 },
 "nbformat": 4,
 "nbformat_minor": 5
}
