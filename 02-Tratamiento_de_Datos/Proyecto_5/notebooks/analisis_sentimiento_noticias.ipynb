{
 "cells": [
  {
   "cell_type": "markdown",
   "id": "38940327",
   "metadata": {},
   "source": [
    "# Análisis de Sentimiento y Engagement en Noticias\n",
    "Este cuaderno tiene como objetivo preprocesar datos de redes sociales para el análisis de sentimiento, explorando las interacciones de noticias de diferentes fuentes."
   ]
  },
  {
   "cell_type": "markdown",
   "id": "6659e24c",
   "metadata": {},
   "source": [
    "## 1. Carga de Datos\n",
    "\n",
    "Participación en las noticias globales en las redes sociales\n",
    "Información de CNN, BBC, Al Jazeera, Reuters\n",
    "Última actualización: hace 10 meses (versión 1)\n",
    "\n",
    "Acerca de este conjunto de datos\n",
    "Este conjunto de datos integral ofrece un análisis profundo de las métricas de participación en las redes sociales de casi 4000 publicaciones de cuatro de los principales canales de noticias del mundo: CNN, BBC, Al Jazeera y Reuters. La colección, seleccionada para brindar una visión integral de la interacción de las noticias globales en las redes sociales, se destaca por su meticuloso ensamblaje y su amplio espectro de contenido.\n",
    "\n",
    "Descripción general del conjunto de datos:\n",
    "Este conjunto de datos, que abarca varios eventos, temas y narrativas globales, es una instantánea de cómo se consumen las noticias y cómo se interactúa con ellas en las plataformas de redes sociales. Sirve como un recurso valioso para analizar tendencias, patrones de participación y la difusión de información a través de las fronteras internacionales.\n",
    "\n",
    "Aplicaciones de la ciencia de datos:\n",
    "Ideal para investigadores y entusiastas en los campos de la ciencia de datos, los estudios de medios y el análisis social, este conjunto de datos abre las puertas a numerosas exploraciones, como el análisis de la interacción, la previsión de tendencias, la optimización de la estrategia de contenido y el estudio del flujo de información en espacios digitales. También tiene potencial para proyectos de aprendizaje automático que apuntan a predecir la interacción o clasificar el contenido en función de métricas de interacción.\n",
    "\n",
    "Descriptores de columnas:\n",
    "Cada registro del conjunto de datos se detalla con las siguientes columnas:\n",
    "\n",
    "texto: el título o el contenido principal de la publicación.\n",
    "me gusta: la cantidad de me gusta que ha obtenido cada publicación.\n",
    "comentarios: la cantidad de comentarios que dejaron los espectadores.\n",
    "compartidos: la cantidad de veces que se compartió la publicación.\n",
    "Datos extraídos éticamente:\n",
    "La recopilación de este conjunto de datos se realizó teniendo en cuenta los estándares éticos más altos, lo que garantiza el cumplimiento de las leyes de privacidad de datos y las políticas de la plataforma. Al anonimizar los datos cuando sea necesario y centrarse únicamente en la información disponible públicamente, respeta tanto la privacidad individual como los derechos de propiedad intelectual.\n",
    "\n",
    "Queremos agradecer especialmente a la plataforma de Facebook y a los canales de noticias respectivos por su apertura y la gran cantidad de datos públicos que brindan. Este conjunto de datos no solo celebra el vibrante intercambio en las redes sociales, sino que también subraya la importancia del uso y el intercambio responsable de datos para fomentar la comprensión y la innovación.\n",
    "\n",
    "Cargaremos los datos de cuatro archivos CSV correspondientes a diferentes fuentes de noticias: `al_jazeera.csv`, `bbc.csv`, `cnn.csv` y `reuters.csv`. Estos contienen las siguientes columnas:\n",
    "- `text`: Contenido de la noticia compartida.\n",
    "- `likes`: Cantidad de 'me gusta'.\n",
    "- `comments`: Número de comentarios.\n",
    "- `shares`: Número de veces compartido.\n",
    "\n",
    "Fuente: https://www.kaggle.com/code/helizain/an-lisis-sentimiental-del-engagement-de-noticias/notebook"
   ]
  },
  {
   "cell_type": "code",
   "execution_count": 1,
   "id": "1e4842a5",
   "metadata": {},
   "outputs": [
    {
     "ename": "ModuleNotFoundError",
     "evalue": "No module named 'src'",
     "output_type": "error",
     "traceback": [
      "\u001b[1;31m---------------------------------------------------------------------------\u001b[0m",
      "\u001b[1;31mModuleNotFoundError\u001b[0m                       Traceback (most recent call last)",
      "Cell \u001b[1;32mIn[1], line 7\u001b[0m\n\u001b[0;32m      5\u001b[0m \u001b[38;5;28;01mimport\u001b[39;00m \u001b[38;5;21;01mre\u001b[39;00m\n\u001b[0;32m      6\u001b[0m \u001b[38;5;28;01mfrom\u001b[39;00m \u001b[38;5;21;01mtextblob\u001b[39;00m \u001b[38;5;28;01mimport\u001b[39;00m TextBlob\n\u001b[1;32m----> 7\u001b[0m \u001b[38;5;28;01mfrom\u001b[39;00m \u001b[38;5;21;01msrc\u001b[39;00m\u001b[38;5;21;01m.\u001b[39;00m\u001b[38;5;21;01mpreprocessing\u001b[39;00m \u001b[38;5;28;01mimport\u001b[39;00m clean_text\n\u001b[0;32m      8\u001b[0m \u001b[38;5;66;03m# from wordcloud import WordCloud\u001b[39;00m\n\u001b[0;32m      9\u001b[0m \u001b[38;5;66;03m# import nltk\u001b[39;00m\n\u001b[0;32m     10\u001b[0m \u001b[38;5;66;03m# from nltk.corpus import stopwords\u001b[39;00m\n\u001b[1;32m   (...)\u001b[0m\n\u001b[0;32m     27\u001b[0m \u001b[38;5;66;03m# from sklearn.model_selection import GridSearchCV\u001b[39;00m\n\u001b[0;32m     28\u001b[0m \u001b[38;5;66;03m# from sklearn.pipeline import Pipeline\u001b[39;00m\n",
      "\u001b[1;31mModuleNotFoundError\u001b[0m: No module named 'src'"
     ]
    }
   ],
   "source": [
    "# Importar librerias\n",
    "import pandas as pd\n",
    "import matplotlib.pyplot as plt\n",
    "import seaborn as sns\n",
    "import re\n",
    "from textblob import TextBlob\n",
    "from src.preprocessing import clean_text\n",
    "# from wordcloud import WordCloud\n",
    "# import nltk\n",
    "# from nltk.corpus import stopwords\n",
    "# from nltk.tokenize import word_tokenize\n",
    "# from nltk.probability import FreqDist\n",
    "# from nltk import ngrams\n",
    "# from nltk.stem import SnowballStemmer\n",
    "# import string\n",
    "# import numpy as np\n",
    "# from sklearn.feature_extraction.text import CountVectorizer, TfidfVectorizer, TfidfTransformer, HashingVectorizer, ENGLISH_STOP_WORDS\n",
    "# from sklearn.model_selection import train_test_split\n",
    "# from sklearn.linear_model import LogisticRegression\n",
    "# from sklearn.metrics import accuracy_score, confusion_matrix, classification_report\n",
    "# from sklearn.pipeline import make_pipeline\n",
    "# from sklearn.preprocessing import StandardScaler\n",
    "# from sklearn.svm import SVC\n",
    "# from sklearn.ensemble import RandomForestClassifier\n",
    "# from sklearn.naive_bayes import MultinomialNB\n",
    "# from sklearn.model_selection import cross_val_score\n",
    "# from sklearn.model_selection import GridSearchCV\n",
    "# from sklearn.pipeline import Pipeline\n"
   ]
  },
  {
   "cell_type": "code",
   "execution_count": 3,
   "id": "9835eec2",
   "metadata": {},
   "outputs": [
    {
     "name": "stdout",
     "output_type": "stream",
     "text": [
      "\n",
      "al_jazeera.csv:\n"
     ]
    },
    {
     "data": {
      "text/html": [
       "<div>\n",
       "<style scoped>\n",
       "    .dataframe tbody tr th:only-of-type {\n",
       "        vertical-align: middle;\n",
       "    }\n",
       "\n",
       "    .dataframe tbody tr th {\n",
       "        vertical-align: top;\n",
       "    }\n",
       "\n",
       "    .dataframe thead th {\n",
       "        text-align: right;\n",
       "    }\n",
       "</style>\n",
       "<table border=\"1\" class=\"dataframe\">\n",
       "  <thead>\n",
       "    <tr style=\"text-align: right;\">\n",
       "      <th></th>\n",
       "      <th>text</th>\n",
       "      <th>likes</th>\n",
       "      <th>comments</th>\n",
       "      <th>shares</th>\n",
       "    </tr>\n",
       "  </thead>\n",
       "  <tbody>\n",
       "    <tr>\n",
       "      <th>0</th>\n",
       "      <td>“Numbers dropped by around half after the eart...</td>\n",
       "      <td>303</td>\n",
       "      <td>15</td>\n",
       "      <td>5</td>\n",
       "    </tr>\n",
       "    <tr>\n",
       "      <th>1</th>\n",
       "      <td>This exclusive footage obtained by Al Jazeera ...</td>\n",
       "      <td>809</td>\n",
       "      <td>174</td>\n",
       "      <td>81</td>\n",
       "    </tr>\n",
       "    <tr>\n",
       "      <th>2</th>\n",
       "      <td>The disappearance of 6-year-old Joshlin Smith ...</td>\n",
       "      <td>236</td>\n",
       "      <td>75</td>\n",
       "      <td>33</td>\n",
       "    </tr>\n",
       "    <tr>\n",
       "      <th>3</th>\n",
       "      <td>Millions are still suffering the pandemic’s li...</td>\n",
       "      <td>87</td>\n",
       "      <td>11</td>\n",
       "      <td>11</td>\n",
       "    </tr>\n",
       "    <tr>\n",
       "      <th>4</th>\n",
       "      <td>Multan Sultans face Peshawar Zalmi in the Paki...</td>\n",
       "      <td>522</td>\n",
       "      <td>71</td>\n",
       "      <td>5</td>\n",
       "    </tr>\n",
       "  </tbody>\n",
       "</table>\n",
       "</div>"
      ],
      "text/plain": [
       "                                                text  likes  comments  shares\n",
       "0  “Numbers dropped by around half after the eart...    303        15       5\n",
       "1  This exclusive footage obtained by Al Jazeera ...    809       174      81\n",
       "2  The disappearance of 6-year-old Joshlin Smith ...    236        75      33\n",
       "3  Millions are still suffering the pandemic’s li...     87        11      11\n",
       "4  Multan Sultans face Peshawar Zalmi in the Paki...    522        71       5"
      ]
     },
     "metadata": {},
     "output_type": "display_data"
    },
    {
     "name": "stdout",
     "output_type": "stream",
     "text": [
      "\n",
      "bbc.csv:\n"
     ]
    },
    {
     "data": {
      "text/html": [
       "<div>\n",
       "<style scoped>\n",
       "    .dataframe tbody tr th:only-of-type {\n",
       "        vertical-align: middle;\n",
       "    }\n",
       "\n",
       "    .dataframe tbody tr th {\n",
       "        vertical-align: top;\n",
       "    }\n",
       "\n",
       "    .dataframe thead th {\n",
       "        text-align: right;\n",
       "    }\n",
       "</style>\n",
       "<table border=\"1\" class=\"dataframe\">\n",
       "  <thead>\n",
       "    <tr style=\"text-align: right;\">\n",
       "      <th></th>\n",
       "      <th>text</th>\n",
       "      <th>likes</th>\n",
       "      <th>comments</th>\n",
       "      <th>shares</th>\n",
       "    </tr>\n",
       "  </thead>\n",
       "  <tbody>\n",
       "    <tr>\n",
       "      <th>0</th>\n",
       "      <td>Queen Camilla was given a miniature version of...</td>\n",
       "      <td>577</td>\n",
       "      <td>228</td>\n",
       "      <td>50</td>\n",
       "    </tr>\n",
       "    <tr>\n",
       "      <th>1</th>\n",
       "      <td>The study found females of five \"menopausal\" w...</td>\n",
       "      <td>174</td>\n",
       "      <td>18</td>\n",
       "      <td>52</td>\n",
       "    </tr>\n",
       "    <tr>\n",
       "      <th>2</th>\n",
       "      <td>The Ivy League university is named after Elihu...</td>\n",
       "      <td>116</td>\n",
       "      <td>59</td>\n",
       "      <td>44</td>\n",
       "    </tr>\n",
       "    <tr>\n",
       "      <th>3</th>\n",
       "      <td>When the law passed in 2019, it sparked mass p...</td>\n",
       "      <td>133</td>\n",
       "      <td>56</td>\n",
       "      <td>16</td>\n",
       "    </tr>\n",
       "    <tr>\n",
       "      <th>4</th>\n",
       "      <td>Freedom Village is located inside Korea's DMZ,...</td>\n",
       "      <td>117</td>\n",
       "      <td>18</td>\n",
       "      <td>26</td>\n",
       "    </tr>\n",
       "  </tbody>\n",
       "</table>\n",
       "</div>"
      ],
      "text/plain": [
       "                                                text  likes  comments  shares\n",
       "0  Queen Camilla was given a miniature version of...    577       228      50\n",
       "1  The study found females of five \"menopausal\" w...    174        18      52\n",
       "2  The Ivy League university is named after Elihu...    116        59      44\n",
       "3  When the law passed in 2019, it sparked mass p...    133        56      16\n",
       "4  Freedom Village is located inside Korea's DMZ,...    117        18      26"
      ]
     },
     "metadata": {},
     "output_type": "display_data"
    },
    {
     "name": "stdout",
     "output_type": "stream",
     "text": [
      "\n",
      "cnn.csv:\n"
     ]
    },
    {
     "data": {
      "text/html": [
       "<div>\n",
       "<style scoped>\n",
       "    .dataframe tbody tr th:only-of-type {\n",
       "        vertical-align: middle;\n",
       "    }\n",
       "\n",
       "    .dataframe tbody tr th {\n",
       "        vertical-align: top;\n",
       "    }\n",
       "\n",
       "    .dataframe thead th {\n",
       "        text-align: right;\n",
       "    }\n",
       "</style>\n",
       "<table border=\"1\" class=\"dataframe\">\n",
       "  <thead>\n",
       "    <tr style=\"text-align: right;\">\n",
       "      <th></th>\n",
       "      <th>text</th>\n",
       "      <th>likes</th>\n",
       "      <th>comments</th>\n",
       "      <th>shares</th>\n",
       "    </tr>\n",
       "  </thead>\n",
       "  <tbody>\n",
       "    <tr>\n",
       "      <th>0</th>\n",
       "      <td>Measles cases are increasing in the United Sta...</td>\n",
       "      <td>17</td>\n",
       "      <td>34</td>\n",
       "      <td>1</td>\n",
       "    </tr>\n",
       "    <tr>\n",
       "      <th>1</th>\n",
       "      <td>At the turn of the millennium, web-based techn...</td>\n",
       "      <td>192</td>\n",
       "      <td>81</td>\n",
       "      <td>28</td>\n",
       "    </tr>\n",
       "    <tr>\n",
       "      <th>2</th>\n",
       "      <td>SpaceX launched the world's most powerful rock...</td>\n",
       "      <td>233</td>\n",
       "      <td>122</td>\n",
       "      <td>68</td>\n",
       "    </tr>\n",
       "    <tr>\n",
       "      <th>3</th>\n",
       "      <td>Italy’s competition authority has fined TikTok...</td>\n",
       "      <td>131</td>\n",
       "      <td>144</td>\n",
       "      <td>17</td>\n",
       "    </tr>\n",
       "    <tr>\n",
       "      <th>4</th>\n",
       "      <td>SpaceX's Starship, the most powerful rocket ev...</td>\n",
       "      <td>390</td>\n",
       "      <td>237</td>\n",
       "      <td>37</td>\n",
       "    </tr>\n",
       "  </tbody>\n",
       "</table>\n",
       "</div>"
      ],
      "text/plain": [
       "                                                text  likes  comments  shares\n",
       "0  Measles cases are increasing in the United Sta...     17        34       1\n",
       "1  At the turn of the millennium, web-based techn...    192        81      28\n",
       "2  SpaceX launched the world's most powerful rock...    233       122      68\n",
       "3  Italy’s competition authority has fined TikTok...    131       144      17\n",
       "4  SpaceX's Starship, the most powerful rocket ev...    390       237      37"
      ]
     },
     "metadata": {},
     "output_type": "display_data"
    },
    {
     "name": "stdout",
     "output_type": "stream",
     "text": [
      "\n",
      "reuters.csv:\n"
     ]
    },
    {
     "data": {
      "text/html": [
       "<div>\n",
       "<style scoped>\n",
       "    .dataframe tbody tr th:only-of-type {\n",
       "        vertical-align: middle;\n",
       "    }\n",
       "\n",
       "    .dataframe tbody tr th {\n",
       "        vertical-align: top;\n",
       "    }\n",
       "\n",
       "    .dataframe thead th {\n",
       "        text-align: right;\n",
       "    }\n",
       "</style>\n",
       "<table border=\"1\" class=\"dataframe\">\n",
       "  <thead>\n",
       "    <tr style=\"text-align: right;\">\n",
       "      <th></th>\n",
       "      <th>text</th>\n",
       "      <th>likes</th>\n",
       "      <th>comments</th>\n",
       "      <th>shares</th>\n",
       "    </tr>\n",
       "  </thead>\n",
       "  <tbody>\n",
       "    <tr>\n",
       "      <th>0</th>\n",
       "      <td>Taiwan dispatched coast guard boats to join a ...</td>\n",
       "      <td>3</td>\n",
       "      <td>1</td>\n",
       "      <td>1</td>\n",
       "    </tr>\n",
       "    <tr>\n",
       "      <th>1</th>\n",
       "      <td>Croatia's historic city of Dubrovnik aims to l...</td>\n",
       "      <td>11</td>\n",
       "      <td>5</td>\n",
       "      <td>1</td>\n",
       "    </tr>\n",
       "    <tr>\n",
       "      <th>2</th>\n",
       "      <td>As Senegal holds a delayed election on March 2...</td>\n",
       "      <td>5</td>\n",
       "      <td>4</td>\n",
       "      <td>2</td>\n",
       "    </tr>\n",
       "    <tr>\n",
       "      <th>3</th>\n",
       "      <td>Exclusive: Citigroup is investigating workplac...</td>\n",
       "      <td>4</td>\n",
       "      <td>6</td>\n",
       "      <td>0</td>\n",
       "    </tr>\n",
       "    <tr>\n",
       "      <th>4</th>\n",
       "      <td>Research in the expanding field of space medic...</td>\n",
       "      <td>15</td>\n",
       "      <td>6</td>\n",
       "      <td>2</td>\n",
       "    </tr>\n",
       "  </tbody>\n",
       "</table>\n",
       "</div>"
      ],
      "text/plain": [
       "                                                text  likes  comments  shares\n",
       "0  Taiwan dispatched coast guard boats to join a ...      3         1       1\n",
       "1  Croatia's historic city of Dubrovnik aims to l...     11         5       1\n",
       "2  As Senegal holds a delayed election on March 2...      5         4       2\n",
       "3  Exclusive: Citigroup is investigating workplac...      4         6       0\n",
       "4  Research in the expanding field of space medic...     15         6       2"
      ]
     },
     "metadata": {},
     "output_type": "display_data"
    }
   ],
   "source": [
    "# Lista de archivos\n",
    "files = ['al_jazeera.csv', 'bbc.csv', 'cnn.csv', 'reuters.csv']\n",
    "\n",
    "# Cargar los archivos en un diccionario de DataFrames\n",
    "dfs = {file: pd.read_csv(\"../data/\"+file) for file in files}\n",
    "\n",
    "# Mostrar las primeras filas de cada archivo\n",
    "for name, df in dfs.items():\n",
    "    print(f\"\\n{name}:\")\n",
    "    display(df.head())"
   ]
  },
  {
   "cell_type": "markdown",
   "id": "2b25283d",
   "metadata": {},
   "source": [
    "## 2. Exploración y Estadísticas Descriptivas\n",
    "Vamos a analizar la estructura y características de los datos, identificando valores faltantes y distribuciones de interacciones."
   ]
  },
  {
   "cell_type": "code",
   "execution_count": 4,
   "id": "e1e984a7",
   "metadata": {},
   "outputs": [
    {
     "name": "stdout",
     "output_type": "stream",
     "text": [
      "\n",
      "Valores nulos en al_jazeera.csv:\n",
      "text        19\n",
      "likes        0\n",
      "comments     0\n",
      "shares       0\n",
      "dtype: int64\n",
      "\n",
      "Valores nulos en bbc.csv:\n",
      "text        0\n",
      "likes       0\n",
      "comments    0\n",
      "shares      0\n",
      "dtype: int64\n",
      "\n",
      "Valores nulos en cnn.csv:\n",
      "text        0\n",
      "likes       0\n",
      "comments    0\n",
      "shares      0\n",
      "dtype: int64\n",
      "\n",
      "Valores nulos en reuters.csv:\n",
      "text        0\n",
      "likes       0\n",
      "comments    0\n",
      "shares      0\n",
      "dtype: int64\n"
     ]
    }
   ],
   "source": [
    "# Verificar valores nulos en cada archivo\n",
    "for name, df in dfs.items():\n",
    "    print(f\"\\nValores nulos en {name}:\")\n",
    "    print(df.isnull().sum())"
   ]
  },
  {
   "cell_type": "code",
   "execution_count": null,
   "id": "fda2fe52",
   "metadata": {},
   "outputs": [],
   "source": []
  },
  {
   "cell_type": "markdown",
   "id": "b0999c58",
   "metadata": {},
   "source": [
    "## 3. Visualización de Datos\n",
    "Generaremos gráficos para entender el comportamiento de los likes, comentarios y compartidos."
   ]
  },
  {
   "cell_type": "code",
   "execution_count": 5,
   "id": "a56d8651",
   "metadata": {},
   "outputs": [
    {
     "data": {
      "image/png": "[encoded data removed]",
      "text/plain": [
       "<Figure size 1000x500 with 1 Axes>"
      ]
     },
     "metadata": {},
     "output_type": "display_data"
    },
    {
     "data": {
      "image/png": "[encoded data removed]",
      "text/plain": [
       "<Figure size 1000x500 with 1 Axes>"
      ]
     },
     "metadata": {},
     "output_type": "display_data"
    },
    {
     "data": {
      "image/png": "[encoded data removed]",
      "text/plain": [
       "<Figure size 1000x500 with 1 Axes>"
      ]
     },
     "metadata": {},
     "output_type": "display_data"
    },
    {
     "data": {
      "image/png": "[encoded data removed]",
      "text/plain": [
       "<Figure size 1000x500 with 1 Axes>"
      ]
     },
     "metadata": {},
     "output_type": "display_data"
    }
   ],
   "source": [
    "for name, df in dfs.items():\n",
    "    plt.figure(figsize=(10, 5))\n",
    "    sns.boxplot(data=df[['likes', 'comments', 'shares']])\n",
    "    plt.title(f'Distribución de interacciones en {name}')\n",
    "    plt.show()"
   ]
  },
  {
   "cell_type": "markdown",
   "id": "5d2d1bdc",
   "metadata": {},
   "source": [
    "## 4. Procesamiento de Texto\n",
    "Limpieza de datos textuales mediante eliminación de caracteres especiales y conversión a minúsculas."
   ]
  },
  {
   "cell_type": "code",
   "execution_count": 7,
   "id": "db2bae49",
   "metadata": {},
   "outputs": [
    {
     "data": {
      "text/plain": [
       "0      “Numbers dropped by around half after the eart...\n",
       "1      This exclusive footage obtained by Al Jazeera ...\n",
       "2      The disappearance of 6-year-old Joshlin Smith ...\n",
       "3      Millions are still suffering the pandemic’s li...\n",
       "4      Multan Sultans face Peshawar Zalmi in the Paki...\n",
       "                             ...                        \n",
       "995    “It is the food of animals.” Umm Muhammad Hamm...\n",
       "996    🔴 \"...The facility recently coped with 78 deli...\n",
       "997    Hungary replaces President Katalin Novak with ...\n",
       "998    🔴 Doctors at al-Shifa Hospital in Gaza City ar...\n",
       "999    A Pakistani police officer is being hailed as ...\n",
       "Name: text, Length: 1000, dtype: object"
      ]
     },
     "execution_count": 7,
     "metadata": {},
     "output_type": "execute_result"
    }
   ],
   "source": [
    "df['text']"
   ]
  },
  {
   "cell_type": "code",
   "execution_count": 8,
   "id": "1a932d51",
   "metadata": {},
   "outputs": [
    {
     "name": "stdout",
     "output_type": "stream",
     "text": [
      "\n",
      "Texto procesado en al_jazeera.csv:\n"
     ]
    },
    {
     "data": {
      "text/html": [
       "<div>\n",
       "<style scoped>\n",
       "    .dataframe tbody tr th:only-of-type {\n",
       "        vertical-align: middle;\n",
       "    }\n",
       "\n",
       "    .dataframe tbody tr th {\n",
       "        vertical-align: top;\n",
       "    }\n",
       "\n",
       "    .dataframe thead th {\n",
       "        text-align: right;\n",
       "    }\n",
       "</style>\n",
       "<table border=\"1\" class=\"dataframe\">\n",
       "  <thead>\n",
       "    <tr style=\"text-align: right;\">\n",
       "      <th></th>\n",
       "      <th>text</th>\n",
       "      <th>clean_text</th>\n",
       "    </tr>\n",
       "  </thead>\n",
       "  <tbody>\n",
       "    <tr>\n",
       "      <th>0</th>\n",
       "      <td>“Numbers dropped by around half after the eart...</td>\n",
       "      <td>numbers dropped by around half after the earth...</td>\n",
       "    </tr>\n",
       "    <tr>\n",
       "      <th>1</th>\n",
       "      <td>This exclusive footage obtained by Al Jazeera ...</td>\n",
       "      <td>this exclusive footage obtained by al jazeera ...</td>\n",
       "    </tr>\n",
       "    <tr>\n",
       "      <th>2</th>\n",
       "      <td>The disappearance of 6-year-old Joshlin Smith ...</td>\n",
       "      <td>the disappearance of 6yearold joshlin smith ha...</td>\n",
       "    </tr>\n",
       "    <tr>\n",
       "      <th>3</th>\n",
       "      <td>Millions are still suffering the pandemic’s li...</td>\n",
       "      <td>millions are still suffering the pandemics lin...</td>\n",
       "    </tr>\n",
       "    <tr>\n",
       "      <th>4</th>\n",
       "      <td>Multan Sultans face Peshawar Zalmi in the Paki...</td>\n",
       "      <td>multan sultans face peshawar zalmi in the paki...</td>\n",
       "    </tr>\n",
       "  </tbody>\n",
       "</table>\n",
       "</div>"
      ],
      "text/plain": [
       "                                                text  \\\n",
       "0  “Numbers dropped by around half after the eart...   \n",
       "1  This exclusive footage obtained by Al Jazeera ...   \n",
       "2  The disappearance of 6-year-old Joshlin Smith ...   \n",
       "3  Millions are still suffering the pandemic’s li...   \n",
       "4  Multan Sultans face Peshawar Zalmi in the Paki...   \n",
       "\n",
       "                                          clean_text  \n",
       "0  numbers dropped by around half after the earth...  \n",
       "1  this exclusive footage obtained by al jazeera ...  \n",
       "2  the disappearance of 6yearold joshlin smith ha...  \n",
       "3  millions are still suffering the pandemics lin...  \n",
       "4  multan sultans face peshawar zalmi in the paki...  "
      ]
     },
     "metadata": {},
     "output_type": "display_data"
    },
    {
     "name": "stdout",
     "output_type": "stream",
     "text": [
      "\n",
      "Texto procesado en bbc.csv:\n"
     ]
    },
    {
     "data": {
      "text/html": [
       "<div>\n",
       "<style scoped>\n",
       "    .dataframe tbody tr th:only-of-type {\n",
       "        vertical-align: middle;\n",
       "    }\n",
       "\n",
       "    .dataframe tbody tr th {\n",
       "        vertical-align: top;\n",
       "    }\n",
       "\n",
       "    .dataframe thead th {\n",
       "        text-align: right;\n",
       "    }\n",
       "</style>\n",
       "<table border=\"1\" class=\"dataframe\">\n",
       "  <thead>\n",
       "    <tr style=\"text-align: right;\">\n",
       "      <th></th>\n",
       "      <th>text</th>\n",
       "      <th>clean_text</th>\n",
       "    </tr>\n",
       "  </thead>\n",
       "  <tbody>\n",
       "    <tr>\n",
       "      <th>0</th>\n",
       "      <td>Queen Camilla was given a miniature version of...</td>\n",
       "      <td>queen camilla was given a miniature version of...</td>\n",
       "    </tr>\n",
       "    <tr>\n",
       "      <th>1</th>\n",
       "      <td>The study found females of five \"menopausal\" w...</td>\n",
       "      <td>the study found females of five menopausal wha...</td>\n",
       "    </tr>\n",
       "    <tr>\n",
       "      <th>2</th>\n",
       "      <td>The Ivy League university is named after Elihu...</td>\n",
       "      <td>the ivy league university is named after elihu...</td>\n",
       "    </tr>\n",
       "    <tr>\n",
       "      <th>3</th>\n",
       "      <td>When the law passed in 2019, it sparked mass p...</td>\n",
       "      <td>when the law passed in 2019 it sparked mass pr...</td>\n",
       "    </tr>\n",
       "    <tr>\n",
       "      <th>4</th>\n",
       "      <td>Freedom Village is located inside Korea's DMZ,...</td>\n",
       "      <td>freedom village is located inside koreas dmz a...</td>\n",
       "    </tr>\n",
       "  </tbody>\n",
       "</table>\n",
       "</div>"
      ],
      "text/plain": [
       "                                                text  \\\n",
       "0  Queen Camilla was given a miniature version of...   \n",
       "1  The study found females of five \"menopausal\" w...   \n",
       "2  The Ivy League university is named after Elihu...   \n",
       "3  When the law passed in 2019, it sparked mass p...   \n",
       "4  Freedom Village is located inside Korea's DMZ,...   \n",
       "\n",
       "                                          clean_text  \n",
       "0  queen camilla was given a miniature version of...  \n",
       "1  the study found females of five menopausal wha...  \n",
       "2  the ivy league university is named after elihu...  \n",
       "3  when the law passed in 2019 it sparked mass pr...  \n",
       "4  freedom village is located inside koreas dmz a...  "
      ]
     },
     "metadata": {},
     "output_type": "display_data"
    },
    {
     "name": "stdout",
     "output_type": "stream",
     "text": [
      "\n",
      "Texto procesado en cnn.csv:\n"
     ]
    },
    {
     "data": {
      "text/html": [
       "<div>\n",
       "<style scoped>\n",
       "    .dataframe tbody tr th:only-of-type {\n",
       "        vertical-align: middle;\n",
       "    }\n",
       "\n",
       "    .dataframe tbody tr th {\n",
       "        vertical-align: top;\n",
       "    }\n",
       "\n",
       "    .dataframe thead th {\n",
       "        text-align: right;\n",
       "    }\n",
       "</style>\n",
       "<table border=\"1\" class=\"dataframe\">\n",
       "  <thead>\n",
       "    <tr style=\"text-align: right;\">\n",
       "      <th></th>\n",
       "      <th>text</th>\n",
       "      <th>clean_text</th>\n",
       "    </tr>\n",
       "  </thead>\n",
       "  <tbody>\n",
       "    <tr>\n",
       "      <th>0</th>\n",
       "      <td>Measles cases are increasing in the United Sta...</td>\n",
       "      <td>measles cases are increasing in the united sta...</td>\n",
       "    </tr>\n",
       "    <tr>\n",
       "      <th>1</th>\n",
       "      <td>At the turn of the millennium, web-based techn...</td>\n",
       "      <td>at the turn of the millennium webbased technol...</td>\n",
       "    </tr>\n",
       "    <tr>\n",
       "      <th>2</th>\n",
       "      <td>SpaceX launched the world's most powerful rock...</td>\n",
       "      <td>spacex launched the worlds most powerful rocke...</td>\n",
       "    </tr>\n",
       "    <tr>\n",
       "      <th>3</th>\n",
       "      <td>Italy’s competition authority has fined TikTok...</td>\n",
       "      <td>italys competition authority has fined tiktok ...</td>\n",
       "    </tr>\n",
       "    <tr>\n",
       "      <th>4</th>\n",
       "      <td>SpaceX's Starship, the most powerful rocket ev...</td>\n",
       "      <td>spacexs starship the most powerful rocket ever...</td>\n",
       "    </tr>\n",
       "  </tbody>\n",
       "</table>\n",
       "</div>"
      ],
      "text/plain": [
       "                                                text  \\\n",
       "0  Measles cases are increasing in the United Sta...   \n",
       "1  At the turn of the millennium, web-based techn...   \n",
       "2  SpaceX launched the world's most powerful rock...   \n",
       "3  Italy’s competition authority has fined TikTok...   \n",
       "4  SpaceX's Starship, the most powerful rocket ev...   \n",
       "\n",
       "                                          clean_text  \n",
       "0  measles cases are increasing in the united sta...  \n",
       "1  at the turn of the millennium webbased technol...  \n",
       "2  spacex launched the worlds most powerful rocke...  \n",
       "3  italys competition authority has fined tiktok ...  \n",
       "4  spacexs starship the most powerful rocket ever...  "
      ]
     },
     "metadata": {},
     "output_type": "display_data"
    },
    {
     "name": "stdout",
     "output_type": "stream",
     "text": [
      "\n",
      "Texto procesado en reuters.csv:\n"
     ]
    },
    {
     "data": {
      "text/html": [
       "<div>\n",
       "<style scoped>\n",
       "    .dataframe tbody tr th:only-of-type {\n",
       "        vertical-align: middle;\n",
       "    }\n",
       "\n",
       "    .dataframe tbody tr th {\n",
       "        vertical-align: top;\n",
       "    }\n",
       "\n",
       "    .dataframe thead th {\n",
       "        text-align: right;\n",
       "    }\n",
       "</style>\n",
       "<table border=\"1\" class=\"dataframe\">\n",
       "  <thead>\n",
       "    <tr style=\"text-align: right;\">\n",
       "      <th></th>\n",
       "      <th>text</th>\n",
       "      <th>clean_text</th>\n",
       "    </tr>\n",
       "  </thead>\n",
       "  <tbody>\n",
       "    <tr>\n",
       "      <th>0</th>\n",
       "      <td>Taiwan dispatched coast guard boats to join a ...</td>\n",
       "      <td>taiwan dispatched coast guard boats to join a ...</td>\n",
       "    </tr>\n",
       "    <tr>\n",
       "      <th>1</th>\n",
       "      <td>Croatia's historic city of Dubrovnik aims to l...</td>\n",
       "      <td>croatias historic city of dubrovnik aims to lu...</td>\n",
       "    </tr>\n",
       "    <tr>\n",
       "      <th>2</th>\n",
       "      <td>As Senegal holds a delayed election on March 2...</td>\n",
       "      <td>as senegal holds a delayed election on march 2...</td>\n",
       "    </tr>\n",
       "    <tr>\n",
       "      <th>3</th>\n",
       "      <td>Exclusive: Citigroup is investigating workplac...</td>\n",
       "      <td>exclusive citigroup is investigating workplace...</td>\n",
       "    </tr>\n",
       "    <tr>\n",
       "      <th>4</th>\n",
       "      <td>Research in the expanding field of space medic...</td>\n",
       "      <td>research in the expanding field of space medic...</td>\n",
       "    </tr>\n",
       "  </tbody>\n",
       "</table>\n",
       "</div>"
      ],
      "text/plain": [
       "                                                text  \\\n",
       "0  Taiwan dispatched coast guard boats to join a ...   \n",
       "1  Croatia's historic city of Dubrovnik aims to l...   \n",
       "2  As Senegal holds a delayed election on March 2...   \n",
       "3  Exclusive: Citigroup is investigating workplac...   \n",
       "4  Research in the expanding field of space medic...   \n",
       "\n",
       "                                          clean_text  \n",
       "0  taiwan dispatched coast guard boats to join a ...  \n",
       "1  croatias historic city of dubrovnik aims to lu...  \n",
       "2  as senegal holds a delayed election on march 2...  \n",
       "3  exclusive citigroup is investigating workplace...  \n",
       "4  research in the expanding field of space medic...  "
      ]
     },
     "metadata": {},
     "output_type": "display_data"
    }
   ],
   "source": [
    "for name, df in dfs.items():\n",
    "    df['text'] = df['text'].astype(str)  # Convertir toda la columna a string\n",
    "    df['clean_text'] = df['text'].apply(clean_text)\n",
    "    print(f\"\\nTexto procesado en {name}:\")\n",
    "    display(df[['text', 'clean_text']].head())"
   ]
  },
  {
   "cell_type": "markdown",
   "id": "e35e0f57",
   "metadata": {},
   "source": [
    "## 5. Análisis de Sentimiento\n",
    "Usaremos la biblioteca `TextBlob` para asignar una puntuación de sentimiento a cada texto."
   ]
  },
  {
   "cell_type": "code",
   "execution_count": 9,
   "id": "aa79f4d7",
   "metadata": {},
   "outputs": [
    {
     "name": "stdout",
     "output_type": "stream",
     "text": [
      "\n",
      "Análisis de sentimiento en al_jazeera.csv:\n"
     ]
    },
    {
     "data": {
      "text/html": [
       "<div>\n",
       "<style scoped>\n",
       "    .dataframe tbody tr th:only-of-type {\n",
       "        vertical-align: middle;\n",
       "    }\n",
       "\n",
       "    .dataframe tbody tr th {\n",
       "        vertical-align: top;\n",
       "    }\n",
       "\n",
       "    .dataframe thead th {\n",
       "        text-align: right;\n",
       "    }\n",
       "</style>\n",
       "<table border=\"1\" class=\"dataframe\">\n",
       "  <thead>\n",
       "    <tr style=\"text-align: right;\">\n",
       "      <th></th>\n",
       "      <th>clean_text</th>\n",
       "      <th>sentiment</th>\n",
       "    </tr>\n",
       "  </thead>\n",
       "  <tbody>\n",
       "    <tr>\n",
       "      <th>0</th>\n",
       "      <td>numbers dropped by around half after the earth...</td>\n",
       "      <td>0.111111</td>\n",
       "    </tr>\n",
       "    <tr>\n",
       "      <th>1</th>\n",
       "      <td>this exclusive footage obtained by al jazeera ...</td>\n",
       "      <td>0.000000</td>\n",
       "    </tr>\n",
       "    <tr>\n",
       "      <th>2</th>\n",
       "      <td>the disappearance of 6yearold joshlin smith ha...</td>\n",
       "      <td>0.000000</td>\n",
       "    </tr>\n",
       "    <tr>\n",
       "      <th>3</th>\n",
       "      <td>millions are still suffering the pandemics lin...</td>\n",
       "      <td>-0.112500</td>\n",
       "    </tr>\n",
       "    <tr>\n",
       "      <th>4</th>\n",
       "      <td>multan sultans face peshawar zalmi in the paki...</td>\n",
       "      <td>0.234848</td>\n",
       "    </tr>\n",
       "  </tbody>\n",
       "</table>\n",
       "</div>"
      ],
      "text/plain": [
       "                                          clean_text  sentiment\n",
       "0  numbers dropped by around half after the earth...   0.111111\n",
       "1  this exclusive footage obtained by al jazeera ...   0.000000\n",
       "2  the disappearance of 6yearold joshlin smith ha...   0.000000\n",
       "3  millions are still suffering the pandemics lin...  -0.112500\n",
       "4  multan sultans face peshawar zalmi in the paki...   0.234848"
      ]
     },
     "metadata": {},
     "output_type": "display_data"
    },
    {
     "name": "stdout",
     "output_type": "stream",
     "text": [
      "\n",
      "Análisis de sentimiento en bbc.csv:\n"
     ]
    },
    {
     "data": {
      "text/html": [
       "<div>\n",
       "<style scoped>\n",
       "    .dataframe tbody tr th:only-of-type {\n",
       "        vertical-align: middle;\n",
       "    }\n",
       "\n",
       "    .dataframe tbody tr th {\n",
       "        vertical-align: top;\n",
       "    }\n",
       "\n",
       "    .dataframe thead th {\n",
       "        text-align: right;\n",
       "    }\n",
       "</style>\n",
       "<table border=\"1\" class=\"dataframe\">\n",
       "  <thead>\n",
       "    <tr style=\"text-align: right;\">\n",
       "      <th></th>\n",
       "      <th>clean_text</th>\n",
       "      <th>sentiment</th>\n",
       "    </tr>\n",
       "  </thead>\n",
       "  <tbody>\n",
       "    <tr>\n",
       "      <th>0</th>\n",
       "      <td>queen camilla was given a miniature version of...</td>\n",
       "      <td>0.500</td>\n",
       "    </tr>\n",
       "    <tr>\n",
       "      <th>1</th>\n",
       "      <td>the study found females of five menopausal wha...</td>\n",
       "      <td>-0.125</td>\n",
       "    </tr>\n",
       "    <tr>\n",
       "      <th>2</th>\n",
       "      <td>the ivy league university is named after elihu...</td>\n",
       "      <td>0.000</td>\n",
       "    </tr>\n",
       "    <tr>\n",
       "      <th>3</th>\n",
       "      <td>when the law passed in 2019 it sparked mass pr...</td>\n",
       "      <td>0.500</td>\n",
       "    </tr>\n",
       "    <tr>\n",
       "      <th>4</th>\n",
       "      <td>freedom village is located inside koreas dmz a...</td>\n",
       "      <td>0.400</td>\n",
       "    </tr>\n",
       "  </tbody>\n",
       "</table>\n",
       "</div>"
      ],
      "text/plain": [
       "                                          clean_text  sentiment\n",
       "0  queen camilla was given a miniature version of...      0.500\n",
       "1  the study found females of five menopausal wha...     -0.125\n",
       "2  the ivy league university is named after elihu...      0.000\n",
       "3  when the law passed in 2019 it sparked mass pr...      0.500\n",
       "4  freedom village is located inside koreas dmz a...      0.400"
      ]
     },
     "metadata": {},
     "output_type": "display_data"
    },
    {
     "name": "stdout",
     "output_type": "stream",
     "text": [
      "\n",
      "Análisis de sentimiento en cnn.csv:\n"
     ]
    },
    {
     "data": {
      "text/html": [
       "<div>\n",
       "<style scoped>\n",
       "    .dataframe tbody tr th:only-of-type {\n",
       "        vertical-align: middle;\n",
       "    }\n",
       "\n",
       "    .dataframe tbody tr th {\n",
       "        vertical-align: top;\n",
       "    }\n",
       "\n",
       "    .dataframe thead th {\n",
       "        text-align: right;\n",
       "    }\n",
       "</style>\n",
       "<table border=\"1\" class=\"dataframe\">\n",
       "  <thead>\n",
       "    <tr style=\"text-align: right;\">\n",
       "      <th></th>\n",
       "      <th>clean_text</th>\n",
       "      <th>sentiment</th>\n",
       "    </tr>\n",
       "  </thead>\n",
       "  <tbody>\n",
       "    <tr>\n",
       "      <th>0</th>\n",
       "      <td>measles cases are increasing in the united sta...</td>\n",
       "      <td>0.000000</td>\n",
       "    </tr>\n",
       "    <tr>\n",
       "      <th>1</th>\n",
       "      <td>at the turn of the millennium webbased technol...</td>\n",
       "      <td>0.250000</td>\n",
       "    </tr>\n",
       "    <tr>\n",
       "      <th>2</th>\n",
       "      <td>spacex launched the worlds most powerful rocke...</td>\n",
       "      <td>0.147115</td>\n",
       "    </tr>\n",
       "    <tr>\n",
       "      <th>3</th>\n",
       "      <td>italys competition authority has fined tiktok ...</td>\n",
       "      <td>-0.312500</td>\n",
       "    </tr>\n",
       "    <tr>\n",
       "      <th>4</th>\n",
       "      <td>spacexs starship the most powerful rocket ever...</td>\n",
       "      <td>0.234091</td>\n",
       "    </tr>\n",
       "  </tbody>\n",
       "</table>\n",
       "</div>"
      ],
      "text/plain": [
       "                                          clean_text  sentiment\n",
       "0  measles cases are increasing in the united sta...   0.000000\n",
       "1  at the turn of the millennium webbased technol...   0.250000\n",
       "2  spacex launched the worlds most powerful rocke...   0.147115\n",
       "3  italys competition authority has fined tiktok ...  -0.312500\n",
       "4  spacexs starship the most powerful rocket ever...   0.234091"
      ]
     },
     "metadata": {},
     "output_type": "display_data"
    },
    {
     "name": "stdout",
     "output_type": "stream",
     "text": [
      "\n",
      "Análisis de sentimiento en reuters.csv:\n"
     ]
    },
    {
     "data": {
      "text/html": [
       "<div>\n",
       "<style scoped>\n",
       "    .dataframe tbody tr th:only-of-type {\n",
       "        vertical-align: middle;\n",
       "    }\n",
       "\n",
       "    .dataframe tbody tr th {\n",
       "        vertical-align: top;\n",
       "    }\n",
       "\n",
       "    .dataframe thead th {\n",
       "        text-align: right;\n",
       "    }\n",
       "</style>\n",
       "<table border=\"1\" class=\"dataframe\">\n",
       "  <thead>\n",
       "    <tr style=\"text-align: right;\">\n",
       "      <th></th>\n",
       "      <th>clean_text</th>\n",
       "      <th>sentiment</th>\n",
       "    </tr>\n",
       "  </thead>\n",
       "  <tbody>\n",
       "    <tr>\n",
       "      <th>0</th>\n",
       "      <td>taiwan dispatched coast guard boats to join a ...</td>\n",
       "      <td>0.100000</td>\n",
       "    </tr>\n",
       "    <tr>\n",
       "      <th>1</th>\n",
       "      <td>croatias historic city of dubrovnik aims to lu...</td>\n",
       "      <td>0.085707</td>\n",
       "    </tr>\n",
       "    <tr>\n",
       "      <th>2</th>\n",
       "      <td>as senegal holds a delayed election on march 2...</td>\n",
       "      <td>0.003704</td>\n",
       "    </tr>\n",
       "    <tr>\n",
       "      <th>3</th>\n",
       "      <td>exclusive citigroup is investigating workplace...</td>\n",
       "      <td>-0.100000</td>\n",
       "    </tr>\n",
       "    <tr>\n",
       "      <th>4</th>\n",
       "      <td>research in the expanding field of space medic...</td>\n",
       "      <td>0.120671</td>\n",
       "    </tr>\n",
       "  </tbody>\n",
       "</table>\n",
       "</div>"
      ],
      "text/plain": [
       "                                          clean_text  sentiment\n",
       "0  taiwan dispatched coast guard boats to join a ...   0.100000\n",
       "1  croatias historic city of dubrovnik aims to lu...   0.085707\n",
       "2  as senegal holds a delayed election on march 2...   0.003704\n",
       "3  exclusive citigroup is investigating workplace...  -0.100000\n",
       "4  research in the expanding field of space medic...   0.120671"
      ]
     },
     "metadata": {},
     "output_type": "display_data"
    }
   ],
   "source": [
    "# Análisis de sentimiento\n",
    "for name, df in dfs.items():\n",
    "    df['sentiment'] = df['clean_text'].apply(lambda x: TextBlob(x).sentiment.polarity)\n",
    "    print(f\"\\nAnálisis de sentimiento en {name}:\")\n",
    "    display(df[['clean_text', 'sentiment']].head())"
   ]
  },
  {
   "cell_type": "markdown",
   "id": "d97f560a",
   "metadata": {},
   "source": [
    "## 6. Conclusiones\n",
    "Tras el análisis, hemos identificado patrones en el engagement de noticias de diferentes fuentes y cómo el sentimiento del texto puede influir en la interacción del público. Este estudio puede servir como base para modelos predictivos o de recomendación en el futuro."
   ]
  }
 ],
 "metadata": {
  "kernelspec": {
   "display_name": "base",
   "language": "python",
   "name": "python3"
  },
  "language_info": {
   "codemirror_mode": {
    "name": "ipython",
    "version": 3
   },
   "file_extension": ".py",
   "mimetype": "text/x-python",
   "name": "python",
   "nbconvert_exporter": "python",
   "pygments_lexer": "ipython3",
   "version": "3.12.4"
  }
 },
 "nbformat": 4,
 "nbformat_minor": 5
}
