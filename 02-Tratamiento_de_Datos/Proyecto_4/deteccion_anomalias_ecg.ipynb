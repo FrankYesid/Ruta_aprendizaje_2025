{
 "cells": [
  {
   "cell_type": "markdown",
   "id": "417ed51a",
   "metadata": {},
   "source": [
    "\n",
    "# Detección de Anomalías en Señales ECG\n",
    "\n",
    "Este cuaderno realiza la detección de anomalías en señales de ECG almacenadas en archivos `.mat`.  \n",
    "Los pasos incluyen:\n",
    "1. **Carga de datos**\n",
    "2. **Procesamiento de señales**\n",
    "3. **Visualización**\n",
    "4. **Detección de outliers**\n",
    "5. **Exportación de resultados**\n"
   ]
  },
  {
   "cell_type": "code",
   "execution_count": null,
   "id": "7ea9e5f0",
   "metadata": {},
   "outputs": [],
   "source": [
    "# importar librerías\n",
    "import pandas as pd\n",
    "import matplotlib.pyplot as plt\n",
    "import numpy as np\n",
    "import glob\n",
    "from scipy.io import loadmat\n",
    "import re\n",
    "\n",
    "# Configuración para gráficos\n",
    "plt.style.use('seaborn-darkgrid')\n"
   ]
  },
  {
   "cell_type": "markdown",
   "id": "642276f6",
   "metadata": {},
   "source": [
    "# ECG signals (1000 fragments)\n",
    "\n",
    "For research purposes, the ECG signals were obtained from the PhysioNet service (http://www.physionet.org) from the MIT-BIH Arrhythmia database. The created database with ECG signals is described below. 1) The ECG signals were from 45 patients: 19 female (age: 23-89) and 26 male (age: 32-89). 2) The ECG signals contained 17 classes: normal sinus rhythm, pacemaker rhythm, and 15 types of cardiac dysfunctions (for each of which at least 10 signal fragments were collected). 3) All ECG signals were recorded at a sampling frequency of 360 [Hz] and a gain of 200 [adu / mV]. 4) For the analysis, 1000, 10-second (3600 samples) fragments of the ECG signal (not overlapping) were randomly selected. 5) Only signals derived from one lead, the MLII, were used. 6) Data are in mat format (Matlab).\n",
    "\n",
    "## Evaluación de clasificador usando Edge Impulse\n",
    "- Usamos la base de datos: https://data.mendeley.com/datasets/7dybx7wyfn/3\n",
    "- Articulo base: https://www.sciencedirect.com/science/article/pii/S0957417417306292?via%3Dihub\n",
    "\n",
    "### Enfermedades cardiovasculares: \n",
    "Las enfermedades cardiovasculares (ECV) son un grupo de trastornos que afectan el corazón y los vasos sanguíneos, siendo una de las principales causas de morbilidad y mortalidad en todo el mundo. Algunas de las enfermedades cardiovasculares más comunes incluyen:\n",
    "\n",
    "### Enfermedad coronaria: \n",
    "También conocida como enfermedad arterial coronaria (EAC) o enfermedad coronaria del corazón, se caracteriza por la acumulación de placa en las arterias coronarias que suministran sangre al corazón. Esto puede conducir a la angina de pecho (dolor en el pecho) o a un ataque cardíaco si se produce una obstrucción completa del flujo sanguíneo.\n",
    "\n",
    "### Infarto de miocardio: \n",
    "También conocido como ataque cardíaco, ocurre cuando una parte del músculo cardíaco se ve privada de sangre debido a la obstrucción de una arteria coronaria, lo que lleva a la muerte del tejido cardíaco.\n",
    "\n",
    "### Insuficiencia cardíaca: \n",
    "Es una afección en la que el corazón no puede bombear suficiente sangre para satisfacer las necesidades del cuerpo. Puede ser causada por diversas condiciones, como hipertensión, enfermedad coronaria, enfermedades valvulares o miocardiopatías.\n",
    "\n",
    "### Hipertensión arterial: \n",
    "Se refiere a la presión arterial alta, lo que significa que la fuerza ejercida por la sangre contra las paredes de las arterias es mayor de lo normal. Con el tiempo, la hipertensión puede dañar los vasos sanguíneos y aumentar el riesgo de otras enfermedades cardiovasculares.\n",
    "\n",
    "### Accidente cerebrovascular: \n",
    "También conocido como ictus o apoplejía, ocurre cuando se interrumpe el flujo sanguíneo al cerebro debido a un coágulo o una ruptura de un vaso sanguíneo. Puede ser isquémico (por un coágulo) o hemorrágico (por la ruptura de un vaso).\n",
    "\n",
    "### Arritmias cardíacas: \n",
    "Son trastornos del ritmo cardíaco, donde el corazón puede latir demasiado rápido (taquicardia), demasiado lento (bradicardia) o de forma irregular.\n",
    "\n",
    "### Enfermedades valvulares: \n",
    "Implican un mal funcionamiento de las válvulas cardíacas, que pueden estar estrechas (estenosis) o tener fugas (insuficiencia), lo que afecta el flujo sanguíneo normal.\n",
    "\n",
    "### Cardiopatías congénitas: \n",
    "Son anomalías en la estructura del corazón presentes desde el nacimiento y pueden afectar su funcionamiento.\n",
    "\n",
    "Los factores de riesgo para desarrollar enfermedades cardiovasculares incluyen la hipertensión, el colesterol alto, la diabetes, el tabaquismo, la obesidad, la falta de actividad física, la dieta poco saludable y la predisposición genética. La prevención y el tratamiento de las enfermedades cardiovasculares implican cambios en el estilo de vida, medicamentos, procedimientos médicos y, en algunos casos, cirugía. Es fundamental llevar un estilo de vida saludable, controlar los factores de riesgo y consultar a un profesional de la salud regularmente para mantener el corazón y los vasos sanguíneos en buen estado.\n",
    "\n",
    "## Solucion planteada:\n",
    "Clasificador inferido en microcontrolador como wearable para pacientes hospitalizados con alguna enfermedad cardiovascular(ECV). El sistema permitirá generar alarmas cuando encuentre una anomalia asociada a una ECV."
   ]
  },
  {
   "cell_type": "markdown",
   "id": "c76e46b1",
   "metadata": {},
   "source": [
    "Fuente: https://www.kaggle.com/datasets/moisesstevend/ecg-signals-1000-fragments?select=MLII"
   ]
  },
  {
   "cell_type": "markdown",
   "id": "554866a8",
   "metadata": {},
   "source": [
    "## Descarga de información"
   ]
  },
  {
   "cell_type": "code",
   "execution_count": null,
   "id": "dd18a028",
   "metadata": {},
   "outputs": [],
   "source": [
    "# Descarga de datos\n",
    "import kagglehub\n",
    "\n",
    "# Download latest version\n",
    "path = kagglehub.dataset_download(\"moisesstevend/ecg-signals-1000-fragments\")\n",
    "\n",
    "print(\"Path to dataset files:\", path)"
   ]
  },
  {
   "cell_type": "markdown",
   "id": "e37d8641",
   "metadata": {},
   "source": [
    "## 1. Carga de Datos"
   ]
  },
  {
   "cell_type": "code",
   "execution_count": null,
   "id": "5a947b1e",
   "metadata": {},
   "outputs": [],
   "source": [
    "\n",
    "# Ruta a los datos\n",
    "path = \"/kaggle/input/ecg-signals-1000-fragments/MLII\"\n",
    "dirs = glob.glob(path + \"/*\", recursive=True)\n",
    "\n",
    "# Exploramos las carpetas disponibles\n",
    "print(\"Carpetas disponibles:\", dirs)\n",
    "\n",
    "# Función para obtener el nombre de la carpeta\n",
    "def get_name_dir(_dir_text):\n",
    "    pattern = r'\\b(\\w+)\\b$'\n",
    "    match = re.search(pattern, _dir_text)\n",
    "    if match:\n",
    "        return match.group(1)\n",
    "    return None\n",
    "\n",
    "# Ejemplo: obtener el nombre de una carpeta específica\n",
    "example_dir = '/kaggle/input/ecg-signals-1000-fragments/MLII/10 VT'\n",
    "print(\"Nombre de la carpeta:\", get_name_dir(example_dir))\n"
   ]
  },
  {
   "cell_type": "markdown",
   "id": "720fd82c",
   "metadata": {},
   "source": [
    "## 2. Procesamiento de Datos"
   ]
  },
  {
   "cell_type": "code",
   "execution_count": null,
   "id": "cac308fc",
   "metadata": {},
   "outputs": [],
   "source": [
    "\n",
    "# Función para obtener los archivos dentro de un directorio\n",
    "def get_files_from_dir(_dir):\n",
    "    return glob.glob(_dir + \"/*\", recursive=True)\n",
    "\n",
    "# Ejemplo: listar archivos en la primera carpeta\n",
    "files_in_dir = get_files_from_dir(dirs[0])\n",
    "print(\"Archivos en el directorio:\", files_in_dir)\n",
    "\n",
    "# Cargamos un archivo .mat de ejemplo\n",
    "mat = loadmat(files_in_dir[0])\n",
    "signal = mat['val'][0]  # Extraemos la señal\n",
    "\n",
    "# Mostramos información básica de la señal\n",
    "print(\"Dimensiones de la señal:\", signal.shape)\n"
   ]
  },
  {
   "cell_type": "markdown",
   "id": "15921d31",
   "metadata": {},
   "source": [
    "## 3. Visualización de Datos"
   ]
  },
  {
   "cell_type": "code",
   "execution_count": null,
   "id": "1e896c30",
   "metadata": {},
   "outputs": [],
   "source": [
    "\n",
    "# Visualizamos una señal de ejemplo\n",
    "plt.figure(figsize=(10, 4))\n",
    "plt.plot(signal, color='blue', label='Señal ECG')\n",
    "plt.title(\"Ejemplo de señal ECG\")\n",
    "plt.xlabel(\"Muestras\")\n",
    "plt.ylabel(\"Amplitud\")\n",
    "plt.legend()\n",
    "plt.grid(ls=\":\")\n",
    "plt.show()\n"
   ]
  },
  {
   "cell_type": "markdown",
   "id": "6f9832c7",
   "metadata": {},
   "source": [
    "## 4. Detección de Anomalías (Outliers)"
   ]
  },
  {
   "cell_type": "code",
   "execution_count": null,
   "id": "718b0743",
   "metadata": {},
   "outputs": [],
   "source": [
    "\n",
    "# Detección de outliers usando desviación estándar\n",
    "mean = np.mean(signal)\n",
    "std = np.std(signal)\n",
    "threshold = 3  # Umbral de desviación estándar\n",
    "\n",
    "# Identificamos los valores atípicos\n",
    "outliers = np.where((signal > mean + threshold * std) | (signal < mean - threshold * std))[0]\n",
    "\n",
    "print(\"Número de outliers detectados:\", len(outliers))\n",
    "\n",
    "# Visualizamos los outliers\n",
    "plt.figure(figsize=(10, 4))\n",
    "plt.plot(signal, label=\"Señal ECG\")\n",
    "plt.scatter(outliers, signal[outliers], color='red', label='Outliers')\n",
    "plt.title(\"Detección de outliers en señal ECG\")\n",
    "plt.xlabel(\"Muestras\")\n",
    "plt.ylabel(\"Amplitud\")\n",
    "plt.legend()\n",
    "plt.grid(ls=\":\")\n",
    "plt.show()\n"
   ]
  },
  {
   "cell_type": "markdown",
   "id": "50d77599",
   "metadata": {},
   "source": [
    "## 5. Exportación de Resultados"
   ]
  },
  {
   "cell_type": "code",
   "execution_count": null,
   "id": "3509e7f4",
   "metadata": {},
   "outputs": [],
   "source": [
    "\n",
    "# Guardamos los índices de los outliers en un archivo CSV\n",
    "outliers_data = pd.DataFrame({\"Index\": outliers, \"Value\": signal[outliers]})\n",
    "outliers_data.to_csv(\"outliers_detected.csv\", index=False)\n",
    "print(\"Archivo de outliers guardado como 'outliers_detected.csv'\")\n"
   ]
  },
  {
   "cell_type": "markdown",
   "id": "834d8b59",
   "metadata": {},
   "source": [
    "\n",
    "## 6. Conclusión\n",
    "\n",
    "En este cuaderno, hemos:\n",
    "\n",
    "✅ Cargado datos de señales ECG.  \n",
    "✅ Procesado las señales.  \n",
    "✅ Visualizado las señales.  \n",
    "✅ Detectado outliers basados en la desviación estándar.  \n",
    "✅ Exportado los resultados a un archivo CSV.  \n",
    "\n",
    "Los datos pueden usarse para entrenar modelos en **Edge Impulse** o cualquier otro sistema de análisis de señales biomédicas.\n"
   ]
  }
 ],
 "metadata": {
  "kernelspec": {
   "display_name": "base",
   "language": "python",
   "name": "python3"
  },
  "language_info": {
   "name": "python",
   "version": "3.12.4"
  }
 },
 "nbformat": 4,
 "nbformat_minor": 5
}
