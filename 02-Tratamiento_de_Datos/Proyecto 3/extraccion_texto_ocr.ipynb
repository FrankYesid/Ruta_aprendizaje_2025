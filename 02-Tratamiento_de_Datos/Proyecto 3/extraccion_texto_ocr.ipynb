{
 "cells": [
  {
   "cell_type": "markdown",
   "id": "a030ab04",
   "metadata": {},
   "source": [
    "\n",
    "# Extracción de Texto desde Imágenes con OCR\n",
    "Este cuaderno utiliza `OpenCV` y `Pytesseract` para extraer texto de imágenes.\n",
    "Incluye pasos detallados para cargar imágenes, preprocesarlas, aplicar técnicas de \n",
    "detección de contornos y extraer texto mediante OCR.\n"
   ]
  },
  {
   "cell_type": "code",
   "execution_count": 2,
   "id": "54add582",
   "metadata": {},
   "outputs": [
    {
     "ename": "ModuleNotFoundError",
     "evalue": "No module named 'pytesseract'",
     "output_type": "error",
     "traceback": [
      "\u001b[1;31m---------------------------------------------------------------------------\u001b[0m",
      "\u001b[1;31mModuleNotFoundError\u001b[0m                       Traceback (most recent call last)",
      "Cell \u001b[1;32mIn[2], line 3\u001b[0m\n\u001b[0;32m      1\u001b[0m \u001b[38;5;66;03m# Import required packages\u001b[39;00m\n\u001b[0;32m      2\u001b[0m \u001b[38;5;28;01mimport\u001b[39;00m \u001b[38;5;21;01mcv2\u001b[39;00m\n\u001b[1;32m----> 3\u001b[0m \u001b[38;5;28;01mimport\u001b[39;00m \u001b[38;5;21;01mpytesseract\u001b[39;00m\n\u001b[0;32m      4\u001b[0m \u001b[38;5;28;01mimport\u001b[39;00m \u001b[38;5;21;01mmatplotlib\u001b[39;00m\u001b[38;5;21;01m.\u001b[39;00m\u001b[38;5;21;01mpyplot\u001b[39;00m \u001b[38;5;28;01mas\u001b[39;00m \u001b[38;5;21;01mplt\u001b[39;00m\n",
      "\u001b[1;31mModuleNotFoundError\u001b[0m: No module named 'pytesseract'"
     ]
    }
   ],
   "source": [
    "# Import required packages\n",
    "import cv2\n",
    "import pytesseract\n",
    "import matplotlib.pyplot as plt"
   ]
  },
  {
   "cell_type": "code",
   "execution_count": null,
   "id": "eff68357",
   "metadata": {},
   "outputs": [],
   "source": [
    "\n",
    "# Mention the installed location of Tesseract-OCR in your system\n",
    "pytesseract.pytesseract.tesseract_cmd = r'C:\\Program Files\\Tesseract-OCR\\tesseract.exe'\n"
   ]
  },
  {
   "cell_type": "code",
   "execution_count": null,
   "id": "71b348c2",
   "metadata": {},
   "outputs": [],
   "source": [
    "\n",
    "# Read the image from which text needs to be extracted\n",
    "img = cv2.imread(\"resources/text_images/paragraph4.jpeg\")\n",
    "\n",
    "# Convert the image to grayscale\n",
    "gray = cv2.cvtColor(img, cv2.COLOR_BGR2GRAY)\n"
   ]
  },
  {
   "cell_type": "code",
   "execution_count": null,
   "id": "6fa06b32",
   "metadata": {},
   "outputs": [],
   "source": [
    "\n",
    "# Perform OTSU thresholding\n",
    "ret, thresh1 = cv2.threshold(gray, 0, 255, cv2.THRESH_OTSU | cv2.THRESH_BINARY_INV)\n",
    "\n",
    "# Define the dilation kernel\n",
    "rect_kernel = cv2.getStructuringElement(cv2.MORPH_RECT, (25, 25))\n",
    "\n",
    "# Apply dilation on the thresholded image\n",
    "dilation = cv2.dilate(thresh1, rect_kernel, iterations=1)\n"
   ]
  },
  {
   "cell_type": "code",
   "execution_count": null,
   "id": "ec33c43f",
   "metadata": {},
   "outputs": [],
   "source": [
    "\n",
    "# Find contours\n",
    "contours, hierarchy = cv2.findContours(dilation, cv2.RETR_EXTERNAL, cv2.CHAIN_APPROX_NONE)\n",
    "\n",
    "# Create a copy of the image\n",
    "im2 = gray.copy()\n",
    "\n",
    "cnt_list = []\n",
    "for cnt in contours:\n",
    "    x, y, w, h = cv2.boundingRect(cnt)\n",
    "    \n",
    "    # Draw rectangles and crop regions\n",
    "    rect = cv2.rectangle(im2, (x, y), (x + w, y + h), (0, 255, 0), 5)\n",
    "    cropped = im2[y:y + h, x:x + w]\n",
    "    \n",
    "    # Apply OCR on the cropped image\n",
    "    text = pytesseract.image_to_string(cropped)\n",
    "    cnt_list.append([x, y, text])\n",
    "\n",
    "# Sort text blocks by vertical position (y-coordinate)\n",
    "sorted_list = sorted(cnt_list, key=lambda x: x[1])\n"
   ]
  },
  {
   "cell_type": "code",
   "execution_count": null,
   "id": "9080de3a",
   "metadata": {},
   "outputs": [],
   "source": [
    "\n",
    "# Write the recognized text to a file\n",
    "file = open(\"recognized.txt\", \"w+\")\n",
    "file.write(\"\")\n",
    "file.close()\n",
    "\n",
    "for x, y, text in sorted_list:\n",
    "    with open(\"recognized.txt\", \"a\") as file:\n",
    "        file.write(text + \"\\n\")\n"
   ]
  },
  {
   "cell_type": "code",
   "execution_count": null,
   "id": "4887c9a0",
   "metadata": {},
   "outputs": [],
   "source": [
    "\n",
    "# Resize images for display\n",
    "rgb_image = cv2.resize(im2, (0, 0), fx=0.4, fy=0.4)\n",
    "dilation = cv2.resize(dilation, (0, 0), fx=0.4, fy=0.4)\n",
    "\n",
    "# Display the processed images\n",
    "cv2.imshow('Dilation', dilation)\n",
    "cv2.imshow('Grayscale', gray)\n",
    "\n",
    "# Wait for user interaction and close windows\n",
    "cv2.waitKey(0)\n",
    "cv2.destroyAllWindows()\n"
   ]
  }
 ],
 "metadata": {
  "kernelspec": {
   "display_name": "base",
   "language": "python",
   "name": "python3"
  },
  "language_info": {
   "codemirror_mode": {
    "name": "ipython",
    "version": 3
   },
   "file_extension": ".py",
   "mimetype": "text/x-python",
   "name": "python",
   "nbconvert_exporter": "python",
   "pygments_lexer": "ipython3",
   "version": "3.12.4"
  }
 },
 "nbformat": 4,
 "nbformat_minor": 5
}
