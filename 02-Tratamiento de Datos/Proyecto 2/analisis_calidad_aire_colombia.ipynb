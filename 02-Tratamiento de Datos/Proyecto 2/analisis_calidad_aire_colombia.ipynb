{
 "cells": [
  {
   "cell_type": "markdown",
   "metadata": {},
   "source": [
    "# Análisis de Calidad del Aire en Colombia\n",
    "Este cuaderno detalla el proceso de carga, limpieza y análisis de datos relacionados con la calidad del aire en diferentes regiones de Colombia."
   ]
  },
  {
   "cell_type": "markdown",
   "id": "920ee47c",
   "metadata": {},
   "source": [
    "## 1. Carga de Datos\n",
    "Se comienza cargando los datos de sensores de calidad del aire proporcionados en un archivo CSV."
   ]
  },
  {
   "cell_type": "code",
   "execution_count": null,
   "id": "ed4e62c0",
   "metadata": {},
   "outputs": [],
   "source": [
    "import kagglehub\n",
    "\n",
    "# Download latest version\n",
    "path = kagglehub.dataset_download(\"pancachocaliente/calidad-del-aire-en-colombia\")\n",
    "\n",
    "print(\"Path to dataset files:\", path)"
   ]
  },
  {
   "cell_type": "code",
   "execution_count": null,
   "id": "a73c9770",
   "metadata": {},
   "outputs": [],
   "source": [
    "import pandas as pd\n",
    "import numpy as np\n",
    "import matplotlib.pyplot as plt\n",
    "import seaborn as sns\n",
    "from datetime import datetime\n",
    "\n",
    "# Cargar los datos\n",
    "file_path = './data/DATOS_DE_CALIDAD_DEL_AIRE_EN_COLOMBIA_2011-2018_20240311.csv'\n",
    "data = pd.read_csv(file_path)\n",
    "\n",
    "# Mostrar las primeras filas\n",
    "data.head()"
   ]
  },
  {
   "cell_type": "markdown",
   "id": "ff1d4cea",
   "metadata": {},
   "source": [
    "## 2. Exploración Inicial de los Datos\n",
    "Se examinan las dimensiones del conjunto de datos y se identifican valores nulos, duplicados y tipos de datos."
   ]
  },
  {
   "cell_type": "code",
   "execution_count": null,
   "id": "eb511580",
   "metadata": {},
   "outputs": [],
   "source": [
    "# Dimensiones y tipos de datos\n",
    "print(data.info())\n",
    "\n",
    "# Valores nulos\n",
    "print(data.isnull().sum())\n",
    "\n",
    "# Duplicados\n",
    "print(f\"Duplicados: {data.duplicated().sum()}\")"
   ]
  },
  {
   "cell_type": "markdown",
   "metadata": {},
   "source": [
    "## 3. Limpieza de Datos\n",
    "En esta sección se manejan valores nulos, se corrigen inconsistencias en los datos y se transforman columnas clave para el análisis."
   ]
  },
  {
   "cell_type": "code",
   "execution_count": null,
   "metadata": {},
   "outputs": [],
   "source": [
    "# Eliminar duplicados\n",
    "data = data.drop_duplicates()\n",
    "\n",
    "# Manejo de valores nulos\n",
    "data = data.dropna()\n",
    "\n",
    "# Corrección de formatos de columnas\n",
    "data['Fecha'] = pd.to_datetime(data['Fecha'], errors='coerce')\n",
    "\n",
    "# Filtrar filas con fechas válidas\n",
    "data = data[data['Fecha'].notnull()]\n",
    "\n",
    "# Inspeccionar nuevamente\n",
    "print(data.info())"
   ]
  },
  {
   "cell_type": "markdown",
   "metadata": {},
   "source": [
    "## 4. Transformación de Datos\n",
    "Se generan columnas adicionales para facilitar el análisis, como mes, año y región."
   ]
  },
  {
   "cell_type": "code",
   "execution_count": null,
   "metadata": {},
   "outputs": [],
   "source": [
    "# Agregar columnas adicionales\n",
    "data['Año'] = data['Fecha'].dt.year\n",
    "data['Mes'] = data['Fecha'].dt.month\n",
    "data['Región'] = data['Departamento'] + ' - ' + data['Nombre del municipio']\n",
    "\n",
    "# Verificar las nuevas columnas\n",
    "data.head()"
   ]
  },
  {
   "cell_type": "markdown",
   "metadata": {},
   "source": [
    "## 5. Análisis de Datos\n",
    "Se realiza un análisis exploratorio para identificar patrones, tendencias y posibles problemas de calidad del aire por región y año."
   ]
  },
  {
   "cell_type": "code",
   "execution_count": null,
   "metadata": {},
   "outputs": [],
   "source": [
    "# Análisis por regiones\n",
    "plt.figure(figsize=(12, 6))\n",
    "sns.countplot(data=data, y='Región', order=data['Región'].value_counts().index)\n",
    "plt.title('Número de registros por Región')\n",
    "plt.show()\n",
    "\n",
    "# Análisis por años\n",
    "plt.figure(figsize=(12, 6))\n",
    "sns.countplot(data=data, x='Año', palette='viridis')\n",
    "plt.title('Número de registros por Año')\n",
    "plt.xticks(rotation=45)\n",
    "plt.show()"
   ]
  },
  {
   "cell_type": "markdown",
   "metadata": {},
   "source": [
    "## 6. Generación de Informe con Sweetviz\n",
    "Se utiliza la biblioteca Sweetviz para generar un informe detallado de los datos en formato HTML."
   ]
  },
  {
   "cell_type": "code",
   "execution_count": null,
   "metadata": {},
   "outputs": [],
   "source": [
    "import sweetviz as sv\n",
    "\n",
    "# Crear el informe\n",
    "reporte = sv.analyze(data)\n",
    "\n",
    "# Guardar el informe como HTML\n",
    "reporte.show_html('./report/informe_calidad_aire.html')"
   ]
  },
  {
   "cell_type": "markdown",
   "metadata": {},
   "source": [
    "## 7. Conclusiones\n",
    "Se detallan los principales hallazgos del análisis de calidad del aire en las diferentes regiones de Colombia."
   ]
  }
 ],
 "metadata": {
  "kernelspec": {
   "display_name": "base",
   "language": "python",
   "name": "python3"
  },
  "language_info": {
   "name": "python",
   "version": "3.12.4"
  }
 },
 "nbformat": 4,
 "nbformat_minor": 5
}
