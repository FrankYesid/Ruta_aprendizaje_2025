{
 "cells": [
  {
   "cell_type": "markdown",
   "metadata": {},
   "source": [
    "# Análisis de Calidad del Aire en Colombia\n",
    "Este cuaderno detalla el proceso de carga, limpieza y análisis de datos relacionados con la calidad del aire en diferentes regiones de Colombia."
   ]
  },
  {
   "cell_type": "markdown",
   "id": "03a80855",
   "metadata": {},
   "source": [
    "Datos de Calidad de aire (Inmisión) y variables climatológicas, reportadas por las Autoridades Ambientales al SISAIRE ( Subsistema de Información de la Calidad del Aire) durante los años 2011 - 2017.\n",
    "\n",
    "Puedes revisar mas información acerca de este dataset en la siguiente página https://www.datos.gov.co/login y la documentación aquí: http://sisaire.ideam.gov.co/ideam-sisaire-web/publicaciones.xhtml?clase=DOCUMENTOS.\n",
    "\n",
    "Fuente: https://www.kaggle.com/datasets/pancachocaliente/calidad-del-aire-en-colombia"
   ]
  },
  {
   "cell_type": "markdown",
   "id": "920ee47c",
   "metadata": {},
   "source": [
    "## 1. Carga de Datos\n",
    "Se comienza cargando los datos de sensores de calidad del aire proporcionados en un archivo CSV."
   ]
  },
  {
   "cell_type": "code",
   "execution_count": 1,
   "id": "209d244c",
   "metadata": {},
   "outputs": [
    {
     "name": "stdout",
     "output_type": "stream",
     "text": [
      "Warning: Looks like you're using an outdated `kagglehub` version (installed: 0.3.5), please consider upgrading to the latest version (0.3.6).\n",
      "Path to dataset files: C:\\Users\\frany\\.cache\\kagglehub\\datasets\\pancachocaliente\\calidad-del-aire-en-colombia\\versions\\1\n"
     ]
    }
   ],
   "source": [
    "import kagglehub\n",
    "\n",
    "# Download latest version\n",
    "path = kagglehub.dataset_download(\"pancachocaliente/calidad-del-aire-en-colombia\")\n",
    "\n",
    "print(\"Path to dataset files:\", path)"
   ]
  },
  {
   "cell_type": "markdown",
   "id": "4e6b1dcd",
   "metadata": {},
   "source": [
    "Descargar la base de datos y almacenar en una carpeta"
   ]
  },
  {
   "cell_type": "code",
   "execution_count": 2,
   "id": "a73c9770",
   "metadata": {},
   "outputs": [
    {
     "name": "stderr",
     "output_type": "stream",
     "text": [
      "C:\\Users\\frany\\AppData\\Local\\Temp\\ipykernel_13784\\2235742378.py:9: DtypeWarning: Columns (3) have mixed types. Specify dtype option on import or set low_memory=False.\n",
      "  data = pd.read_csv(file_path)\n"
     ]
    },
    {
     "data": {
      "text/html": [
       "<div>\n",
       "<style scoped>\n",
       "    .dataframe tbody tr th:only-of-type {\n",
       "        vertical-align: middle;\n",
       "    }\n",
       "\n",
       "    .dataframe tbody tr th {\n",
       "        vertical-align: top;\n",
       "    }\n",
       "\n",
       "    .dataframe thead th {\n",
       "        text-align: right;\n",
       "    }\n",
       "</style>\n",
       "<table border=\"1\" class=\"dataframe\">\n",
       "  <thead>\n",
       "    <tr style=\"text-align: right;\">\n",
       "      <th></th>\n",
       "      <th>Fecha</th>\n",
       "      <th>Autoridad Ambiental</th>\n",
       "      <th>Nombre de la estación</th>\n",
       "      <th>Tecnología</th>\n",
       "      <th>Latitud</th>\n",
       "      <th>Longitud</th>\n",
       "      <th>Código del departamento</th>\n",
       "      <th>Departamento</th>\n",
       "      <th>Código del municipio</th>\n",
       "      <th>Nombre del municipio</th>\n",
       "      <th>Tipo de estación</th>\n",
       "      <th>Tiempo de exposición</th>\n",
       "      <th>Variable</th>\n",
       "      <th>Unidades</th>\n",
       "      <th>Concentración</th>\n",
       "      <th>Nueva columna georreferenciada</th>\n",
       "    </tr>\n",
       "  </thead>\n",
       "  <tbody>\n",
       "    <tr>\n",
       "      <th>0</th>\n",
       "      <td>09/04/2011 12:00:00 a. m.</td>\n",
       "      <td>AMVA</td>\n",
       "      <td>BAR-Hosp. S.V. Paul</td>\n",
       "      <td>Manual</td>\n",
       "      <td>6.436</td>\n",
       "      <td>-75.333431</td>\n",
       "      <td>5.0</td>\n",
       "      <td>ANTIOQUIA</td>\n",
       "      <td>5079.0</td>\n",
       "      <td>BARBOSA</td>\n",
       "      <td>Fija</td>\n",
       "      <td>24</td>\n",
       "      <td>PM10</td>\n",
       "      <td>µg/m3</td>\n",
       "      <td>55.57</td>\n",
       "      <td>(6.436, -75.333431)</td>\n",
       "    </tr>\n",
       "    <tr>\n",
       "      <th>1</th>\n",
       "      <td>13/04/2011 12:00:00 a. m.</td>\n",
       "      <td>AMVA</td>\n",
       "      <td>BAR-Hosp. S.V. Paul</td>\n",
       "      <td>Manual</td>\n",
       "      <td>6.436</td>\n",
       "      <td>-75.333431</td>\n",
       "      <td>5.0</td>\n",
       "      <td>ANTIOQUIA</td>\n",
       "      <td>5079.0</td>\n",
       "      <td>BARBOSA</td>\n",
       "      <td>Fija</td>\n",
       "      <td>24</td>\n",
       "      <td>PM10</td>\n",
       "      <td>µg/m3</td>\n",
       "      <td>30.81</td>\n",
       "      <td>(6.436, -75.333431)</td>\n",
       "    </tr>\n",
       "    <tr>\n",
       "      <th>2</th>\n",
       "      <td>15/04/2011 12:00:00 a. m.</td>\n",
       "      <td>AMVA</td>\n",
       "      <td>BAR-Hosp. S.V. Paul</td>\n",
       "      <td>Manual</td>\n",
       "      <td>6.436</td>\n",
       "      <td>-75.333431</td>\n",
       "      <td>5.0</td>\n",
       "      <td>ANTIOQUIA</td>\n",
       "      <td>5079.0</td>\n",
       "      <td>BARBOSA</td>\n",
       "      <td>Fija</td>\n",
       "      <td>24</td>\n",
       "      <td>PM10</td>\n",
       "      <td>µg/m3</td>\n",
       "      <td>21.01</td>\n",
       "      <td>(6.436, -75.333431)</td>\n",
       "    </tr>\n",
       "    <tr>\n",
       "      <th>3</th>\n",
       "      <td>18/04/2011 12:00:00 a. m.</td>\n",
       "      <td>AMVA</td>\n",
       "      <td>BAR-Hosp. S.V. Paul</td>\n",
       "      <td>Manual</td>\n",
       "      <td>6.436</td>\n",
       "      <td>-75.333431</td>\n",
       "      <td>5.0</td>\n",
       "      <td>ANTIOQUIA</td>\n",
       "      <td>5079.0</td>\n",
       "      <td>BARBOSA</td>\n",
       "      <td>Fija</td>\n",
       "      <td>24</td>\n",
       "      <td>PM10</td>\n",
       "      <td>µg/m3</td>\n",
       "      <td>30.73</td>\n",
       "      <td>(6.436, -75.333431)</td>\n",
       "    </tr>\n",
       "    <tr>\n",
       "      <th>4</th>\n",
       "      <td>20/04/2011 12:00:00 a. m.</td>\n",
       "      <td>AMVA</td>\n",
       "      <td>BAR-Hosp. S.V. Paul</td>\n",
       "      <td>Manual</td>\n",
       "      <td>6.436</td>\n",
       "      <td>-75.333431</td>\n",
       "      <td>5.0</td>\n",
       "      <td>ANTIOQUIA</td>\n",
       "      <td>5079.0</td>\n",
       "      <td>BARBOSA</td>\n",
       "      <td>Fija</td>\n",
       "      <td>24</td>\n",
       "      <td>PM10</td>\n",
       "      <td>µg/m3</td>\n",
       "      <td>24.72</td>\n",
       "      <td>(6.436, -75.333431)</td>\n",
       "    </tr>\n",
       "  </tbody>\n",
       "</table>\n",
       "</div>"
      ],
      "text/plain": [
       "                       Fecha Autoridad Ambiental Nombre de la estación  \\\n",
       "0  09/04/2011 12:00:00 a. m.                AMVA   BAR-Hosp. S.V. Paul   \n",
       "1  13/04/2011 12:00:00 a. m.                AMVA   BAR-Hosp. S.V. Paul   \n",
       "2  15/04/2011 12:00:00 a. m.                AMVA   BAR-Hosp. S.V. Paul   \n",
       "3  18/04/2011 12:00:00 a. m.                AMVA   BAR-Hosp. S.V. Paul   \n",
       "4  20/04/2011 12:00:00 a. m.                AMVA   BAR-Hosp. S.V. Paul   \n",
       "\n",
       "  Tecnología  Latitud   Longitud  Código del departamento Departamento  \\\n",
       "0     Manual    6.436 -75.333431                      5.0    ANTIOQUIA   \n",
       "1     Manual    6.436 -75.333431                      5.0    ANTIOQUIA   \n",
       "2     Manual    6.436 -75.333431                      5.0    ANTIOQUIA   \n",
       "3     Manual    6.436 -75.333431                      5.0    ANTIOQUIA   \n",
       "4     Manual    6.436 -75.333431                      5.0    ANTIOQUIA   \n",
       "\n",
       "   Código del municipio Nombre del municipio Tipo de estación  \\\n",
       "0                5079.0              BARBOSA             Fija   \n",
       "1                5079.0              BARBOSA             Fija   \n",
       "2                5079.0              BARBOSA             Fija   \n",
       "3                5079.0              BARBOSA             Fija   \n",
       "4                5079.0              BARBOSA             Fija   \n",
       "\n",
       "   Tiempo de exposición Variable Unidades  Concentración  \\\n",
       "0                    24     PM10    µg/m3          55.57   \n",
       "1                    24     PM10    µg/m3          30.81   \n",
       "2                    24     PM10    µg/m3          21.01   \n",
       "3                    24     PM10    µg/m3          30.73   \n",
       "4                    24     PM10    µg/m3          24.72   \n",
       "\n",
       "  Nueva columna georreferenciada  \n",
       "0            (6.436, -75.333431)  \n",
       "1            (6.436, -75.333431)  \n",
       "2            (6.436, -75.333431)  \n",
       "3            (6.436, -75.333431)  \n",
       "4            (6.436, -75.333431)  "
      ]
     },
     "execution_count": 2,
     "metadata": {},
     "output_type": "execute_result"
    }
   ],
   "source": [
    "import pandas as pd\n",
    "import polars as pl\n",
    "import numpy as np\n",
    "import matplotlib.pyplot as plt\n",
    "import seaborn as sns\n",
    "from datetime import datetime\n",
    "\n",
    "# Cargar los datos\n",
    "file_path = 'C:/Users/frany/.cache/kagglehub/datasets/pancachocaliente/calidad-del-aire-en-colombia/versions/1/DATOS_DE_CALIDAD_DEL_AIRE_EN_COLOMBIA_2011-2018_20240311.csv'\n",
    "data = pl.read_csv(file_path)\n",
    "\n",
    "# Mostrar las primeras filas\n",
    "data.head()"
   ]
  },
  {
   "cell_type": "markdown",
   "id": "ff1d4cea",
   "metadata": {},
   "source": [
    "## 2. Exploración Inicial de los Datos\n",
    "Se examinan las dimensiones del conjunto de datos y se identifican valores nulos, duplicados y tipos de datos."
   ]
  },
  {
   "cell_type": "code",
   "execution_count": 3,
   "id": "eb511580",
   "metadata": {},
   "outputs": [
    {
     "name": "stdout",
     "output_type": "stream",
     "text": [
      "<class 'pandas.core.frame.DataFrame'>\n",
      "RangeIndex: 20389245 entries, 0 to 20389244\n",
      "Data columns (total 16 columns):\n",
      " #   Column                          Dtype  \n",
      "---  ------                          -----  \n",
      " 0   Fecha                           object \n",
      " 1   Autoridad Ambiental             object \n",
      " 2   Nombre de la estación           object \n",
      " 3   Tecnología                      object \n",
      " 4   Latitud                         float64\n",
      " 5   Longitud                        float64\n",
      " 6   Código del departamento         float64\n",
      " 7   Departamento                    object \n",
      " 8   Código del municipio            float64\n",
      " 9   Nombre del municipio            object \n",
      " 10  Tipo de estación                object \n",
      " 11  Tiempo de exposición            int64  \n",
      " 12  Variable                        object \n",
      " 13  Unidades                        object \n",
      " 14  Concentración                   float64\n",
      " 15  Nueva columna georreferenciada  object \n",
      "dtypes: float64(5), int64(1), object(10)\n",
      "memory usage: 2.4+ GB\n",
      "None\n",
      "Fecha                                   0\n",
      "Autoridad Ambiental                     0\n",
      "Nombre de la estación                   0\n",
      "Tecnología                        4732181\n",
      "Latitud                               365\n",
      "Longitud                              365\n",
      "Código del departamento               365\n",
      "Departamento                          365\n",
      "Código del municipio                  365\n",
      "Nombre del municipio                  365\n",
      "Tipo de estación                      365\n",
      "Tiempo de exposición                    0\n",
      "Variable                                0\n",
      "Unidades                                0\n",
      "Concentración                     1382386\n",
      "Nueva columna georreferenciada        365\n",
      "dtype: int64\n",
      "Duplicados: 8585\n"
     ]
    }
   ],
   "source": [
    "# Dimensiones y tipos de datos\n",
    "print(data.info())\n",
    "\n",
    "# Valores nulos\n",
    "print(data.isnull().sum())\n",
    "\n",
    "# Duplicados\n",
    "print(f\"Duplicados: {data.duplicated().sum()}\")"
   ]
  },
  {
   "cell_type": "markdown",
   "metadata": {},
   "source": [
    "## 3. Limpieza de Datos\n",
    "En esta sección se manejan valores nulos, se corrigen inconsistencias en los datos y se transforman columnas clave para el análisis."
   ]
  },
  {
   "cell_type": "code",
   "execution_count": null,
   "metadata": {},
   "outputs": [
    {
     "name": "stderr",
     "output_type": "stream",
     "text": [
      "C:\\Users\\frany\\AppData\\Local\\Temp\\ipykernel_13784\\1083294951.py:8: UserWarning: Could not infer format, so each element will be parsed individually, falling back to `dateutil`. To ensure parsing is consistent and as-expected, please specify a format.\n",
      "  data['Fecha'] = pd.to_datetime(data['Fecha'], errors='coerce')\n"
     ]
    }
   ],
   "source": [
    "# Eliminar duplicados\n",
    "data = data.drop_duplicates()\n",
    "\n",
    "# Manejo de valores nulos\n",
    "data = data.dropna()\n",
    "\n",
    "# Corrección de formatos de columnas\n",
    "data['Fecha'] = pd.to_datetime(data['Fecha'], errors='coerce')\n",
    "\n",
    "# Filtrar filas con fechas válidas\n",
    "data = data[data['Fecha'].notnull()]\n",
    "\n",
    "# Inspeccionar nuevamente\n",
    "print(data.info())"
   ]
  },
  {
   "cell_type": "markdown",
   "metadata": {},
   "source": [
    "## 4. Transformación de Datos\n",
    "Se generan columnas adicionales para facilitar el análisis, como mes, año y región."
   ]
  },
  {
   "cell_type": "code",
   "execution_count": null,
   "metadata": {},
   "outputs": [],
   "source": [
    "# Agregar columnas adicionales\n",
    "data['Año'] = data['Fecha'].dt.year\n",
    "data['Mes'] = data['Fecha'].dt.month\n",
    "data['Región'] = data['Departamento'] + ' - ' + data['Nombre del municipio']\n",
    "\n",
    "# Verificar las nuevas columnas\n",
    "data.head()"
   ]
  },
  {
   "cell_type": "markdown",
   "metadata": {},
   "source": [
    "## 5. Análisis de Datos\n",
    "Se realiza un análisis exploratorio para identificar patrones, tendencias y posibles problemas de calidad del aire por región y año."
   ]
  },
  {
   "cell_type": "code",
   "execution_count": null,
   "metadata": {},
   "outputs": [],
   "source": [
    "# Análisis por regiones\n",
    "plt.figure(figsize=(12, 6))\n",
    "sns.countplot(data=data, y='Región', order=data['Región'].value_counts().index)\n",
    "plt.title('Número de registros por Región')\n",
    "plt.show()\n",
    "\n",
    "# Análisis por años\n",
    "plt.figure(figsize=(12, 6))\n",
    "sns.countplot(data=data, x='Año', palette='viridis')\n",
    "plt.title('Número de registros por Año')\n",
    "plt.xticks(rotation=45)\n",
    "plt.show()"
   ]
  },
  {
   "cell_type": "markdown",
   "metadata": {},
   "source": [
    "## 6. Generación de Informe con Sweetviz\n",
    "Se utiliza la biblioteca Sweetviz para generar un informe detallado de los datos en formato HTML."
   ]
  },
  {
   "cell_type": "code",
   "execution_count": null,
   "metadata": {},
   "outputs": [],
   "source": [
    "import sweetviz as sv\n",
    "\n",
    "# Crear el informe\n",
    "reporte = sv.analyze(data)\n",
    "\n",
    "# Guardar el informe como HTML\n",
    "reporte.show_html('./report/informe_calidad_aire.html')"
   ]
  },
  {
   "cell_type": "markdown",
   "metadata": {},
   "source": [
    "## 7. Conclusiones\n",
    "Se detallan los principales hallazgos del análisis de calidad del aire en las diferentes regiones de Colombia."
   ]
  }
 ],
 "metadata": {
  "kernelspec": {
   "display_name": "base",
   "language": "python",
   "name": "python3"
  },
  "language_info": {
   "codemirror_mode": {
    "name": "ipython",
    "version": 3
   },
   "file_extension": ".py",
   "mimetype": "text/x-python",
   "name": "python",
   "nbconvert_exporter": "python",
   "pygments_lexer": "ipython3",
   "version": "3.12.4"
  }
 },
 "nbformat": 4,
 "nbformat_minor": 5
}
