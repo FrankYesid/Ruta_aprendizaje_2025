{
 "cells": [
  {
   "cell_type": "markdown",
   "metadata": {},
   "source": [
    "# Visualización de Desigualdad de Género\n",
    "Este cuaderno analiza y visualiza las brechas de género en ingresos, educación y empleo utilizando datos de la Encuesta de Igualdad de Género. Los datos fueron recolectados por Facebook en colaboración con instituciones internacionales en 2020.\n",
    "\n",
    "### Descripción de la base de datos\n",
    "- **Geography**: País o región.\n",
    "- **Question Code**: Código de la pregunta.\n",
    "- **Question Text**: Texto de la pregunta.\n",
    "- **Response Category**: Categoría de respuesta.\n",
    "- **Response Variable**: Variable de respuesta numérica o categórica.\n",
    "- **Gender**: Género de los encuestados (masculino o femenino).\n",
    "- **Value**: Valor asociado a la respuesta.\n",
    "\n",
    "### Análisis y visualizaciones\n",
    "- Análisis descriptivo de la base de datos.\n",
    "- Comparación de respuestas por género en educación, ingresos y empleo.\n",
    "- Visualización de brechas de género en países de Latinoamérica.\n"
   ]
  },
  {
   "cell_type": "code",
   "execution_count": 23,
   "metadata": {},
   "outputs": [],
   "source": [
    "# Importar bibliotecas\n",
    "import pandas as pd\n",
    "import matplotlib.pyplot as plt\n",
    "import seaborn as sns\n",
    "import plotly.express as px\n",
    "import plotly.figure_factory as ff\n",
    "\n",
    "# Configuración de gráficos\n",
    "sns.set(style=\"whitegrid\")\n",
    "plt.rcParams['figure.figsize'] = (12, 6)\n"
   ]
  },
  {
   "cell_type": "markdown",
   "id": "73e6b105",
   "metadata": {},
   "source": [
    "## 1. Cargar los datos\n",
    "Cargamos los datos desde el archivo CSV proporcionado."
   ]
  },
  {
   "cell_type": "code",
   "execution_count": 2,
   "id": "760a968b",
   "metadata": {},
   "outputs": [],
   "source": [
    "# Descargar la base de datos\n",
    "# import kagglehub\n",
    "\n",
    "# # Download latest version\n",
    "# path = kagglehub.dataset_download(\"yamilernestomorfa/encuesta-de-igualdad-de-genero-proyecto-rp\")\n",
    "\n",
    "# print(\"Path to dataset files:\", path)"
   ]
  },
  {
   "cell_type": "code",
   "execution_count": 3,
   "id": "a245721e",
   "metadata": {},
   "outputs": [],
   "source": [
    "data_path = './data/Encuesta_de_Igualdad_de_Genero.csv'\n",
    "data = pd.read_csv(data_path)"
   ]
  },
  {
   "cell_type": "markdown",
   "id": "a179ec95",
   "metadata": {},
   "source": [
    "## 2. Limpieza de datos"
   ]
  },
  {
   "cell_type": "code",
   "execution_count": 4,
   "id": "1db5d84a",
   "metadata": {},
   "outputs": [],
   "source": [
    "# Filtrar por países de Latinoamérica\n",
    "latam_countries = [\n",
    "    'México', 'Argentina', 'Bolivia', 'Brasil', 'Chile', 'Colombia',\n",
    "    'Costa Rica', 'Ecuador', 'El Salvador', 'Guatemala', 'Haití',\n",
    "    'Honduras', 'Nicaragua', 'Panamá', 'Paraguay', 'Perú', 'Uruguay'\n",
    "]\n",
    "data_latam = data[data['Geography'].isin(latam_countries)]"
   ]
  },
  {
   "cell_type": "markdown",
   "id": "523356d1",
   "metadata": {},
   "source": [
    "## 3. Visualización de datos"
   ]
  },
  {
   "cell_type": "code",
   "execution_count": null,
   "id": "4c8d8291",
   "metadata": {},
   "outputs": [
    {
     "name": "stderr",
     "output_type": "stream",
     "text": [
      "d:\\Programs\\Anaconda3\\Lib\\site-packages\\plotly\\express\\_core.py:2065: FutureWarning: When grouping with a length-1 list-like, you will need to pass a length-1 tuple to get_group in a future version of pandas. Pass `(name,)` instead of `name` to silence this warning.\n",
      "  sf: grouped.get_group(s if len(s) > 1 else s[0])\n"
     ]
    },
    {
     "data": {
      "application/vnd.plotly.v1+json": {
       "config": {
        "plotlyServerURL": "https://plot.ly"
       },
       "data": [
        {
         "hovertemplate": "Género=%{y}<br>País=%{x}<br>Cantidad de respuestas=%{marker.size}<extra></extra>",
         "legendgroup": "combined",
         "marker": {
          "color": "#636efa",
          "size": [
           16,
           16,
           16,
           16,
           16,
           16,
           16,
           16,
           16,
           16,
           16,
           16
          ],
          "sizemode": "area",
          "sizeref": 0.0044444444444444444,
          "symbol": "circle"
         },
         "mode": "markers",
         "name": "combined",
         "orientation": "v",
         "showlegend": true,
         "type": "scatter",
         "x": [
          "Argentina",
          "Bolivia",
          "Chile",
          "Colombia",
          "Costa Rica",
          "Ecuador",
          "El Salvador",
          "Guatemala",
          "Honduras",
          "Nicaragua",
          "Paraguay",
          "Uruguay"
         ],
         "xaxis": "x",
         "y": [
          "combined",
          "combined",
          "combined",
          "combined",
          "combined",
          "combined",
          "combined",
          "combined",
          "combined",
          "combined",
          "combined",
          "combined"
         ],
         "yaxis": "y"
        },
        {
         "hovertemplate": "Género=%{y}<br>País=%{x}<br>Cantidad de respuestas=%{marker.size}<extra></extra>",
         "legendgroup": "female",
         "marker": {
          "color": "#EF553B",
          "size": [
           16,
           16,
           16,
           16,
           16,
           16,
           16,
           16,
           16,
           16,
           16,
           16
          ],
          "sizemode": "area",
          "sizeref": 0.0044444444444444444,
          "symbol": "circle"
         },
         "mode": "markers",
         "name": "female",
         "orientation": "v",
         "showlegend": true,
         "type": "scatter",
         "x": [
          "Argentina",
          "Bolivia",
          "Chile",
          "Colombia",
          "Costa Rica",
          "Ecuador",
          "El Salvador",
          "Guatemala",
          "Honduras",
          "Nicaragua",
          "Paraguay",
          "Uruguay"
         ],
         "xaxis": "x",
         "y": [
          "female",
          "female",
          "female",
          "female",
          "female",
          "female",
          "female",
          "female",
          "female",
          "female",
          "female",
          "female"
         ],
         "yaxis": "y"
        },
        {
         "hovertemplate": "Género=%{y}<br>País=%{x}<br>Cantidad de respuestas=%{marker.size}<extra></extra>",
         "legendgroup": "male",
         "marker": {
          "color": "#00cc96",
          "size": [
           16,
           16,
           16,
           16,
           16,
           16,
           16,
           16,
           16,
           16,
           16,
           16
          ],
          "sizemode": "area",
          "sizeref": 0.0044444444444444444,
          "symbol": "circle"
         },
         "mode": "markers",
         "name": "male",
         "orientation": "v",
         "showlegend": true,
         "type": "scatter",
         "x": [
          "Argentina",
          "Bolivia",
          "Chile",
          "Colombia",
          "Costa Rica",
          "Ecuador",
          "El Salvador",
          "Guatemala",
          "Honduras",
          "Nicaragua",
          "Paraguay",
          "Uruguay"
         ],
         "xaxis": "x",
         "y": [
          "male",
          "male",
          "male",
          "male",
          "male",
          "male",
          "male",
          "male",
          "male",
          "male",
          "male",
          "male"
         ],
         "yaxis": "y"
        }
       ],
       "layout": {
        "legend": {
         "itemsizing": "constant",
         "title": {
          "text": "Género"
         },
         "tracegroupgap": 0
        },
        "template": {
         "data": {
          "bar": [
           {
            "error_x": {
             "color": "#2a3f5f"
            },
            "error_y": {
             "color": "#2a3f5f"
            },
            "marker": {
             "line": {
              "color": "#E5ECF6",
              "width": 0.5
             },
             "pattern": {
              "fillmode": "overlay",
              "size": 10,
              "solidity": 0.2
             }
            },
            "type": "bar"
           }
          ],
          "barpolar": [
           {
            "marker": {
             "line": {
              "color": "#E5ECF6",
              "width": 0.5
             },
             "pattern": {
              "fillmode": "overlay",
              "size": 10,
              "solidity": 0.2
             }
            },
            "type": "barpolar"
           }
          ],
          "carpet": [
           {
            "aaxis": {
             "endlinecolor": "#2a3f5f",
             "gridcolor": "white",
             "linecolor": "white",
             "minorgridcolor": "white",
             "startlinecolor": "#2a3f5f"
            },
            "baxis": {
             "endlinecolor": "#2a3f5f",
             "gridcolor": "white",
             "linecolor": "white",
             "minorgridcolor": "white",
             "startlinecolor": "#2a3f5f"
            },
            "type": "carpet"
           }
          ],
          "choropleth": [
           {
            "colorbar": {
             "outlinewidth": 0,
             "ticks": ""
            },
            "type": "choropleth"
           }
          ],
          "contour": [
           {
            "colorbar": {
             "outlinewidth": 0,
             "ticks": ""
            },
            "colorscale": [
             [
              0,
              "#0d0887"
             ],
             [
              0.1111111111111111,
              "#46039f"
             ],
             [
              0.2222222222222222,
              "#7201a8"
             ],
             [
              0.3333333333333333,
              "#9c179e"
             ],
             [
              0.4444444444444444,
              "#bd3786"
             ],
             [
              0.5555555555555556,
              "#d8576b"
             ],
             [
              0.6666666666666666,
              "#ed7953"
             ],
             [
              0.7777777777777778,
              "#fb9f3a"
             ],
             [
              0.8888888888888888,
              "#fdca26"
             ],
             [
              1,
              "#f0f921"
             ]
            ],
            "type": "contour"
           }
          ],
          "contourcarpet": [
           {
            "colorbar": {
             "outlinewidth": 0,
             "ticks": ""
            },
            "type": "contourcarpet"
           }
          ],
          "heatmap": [
           {
            "colorbar": {
             "outlinewidth": 0,
             "ticks": ""
            },
            "colorscale": [
             [
              0,
              "#0d0887"
             ],
             [
              0.1111111111111111,
              "#46039f"
             ],
             [
              0.2222222222222222,
              "#7201a8"
             ],
             [
              0.3333333333333333,
              "#9c179e"
             ],
             [
              0.4444444444444444,
              "#bd3786"
             ],
             [
              0.5555555555555556,
              "#d8576b"
             ],
             [
              0.6666666666666666,
              "#ed7953"
             ],
             [
              0.7777777777777778,
              "#fb9f3a"
             ],
             [
              0.8888888888888888,
              "#fdca26"
             ],
             [
              1,
              "#f0f921"
             ]
            ],
            "type": "heatmap"
           }
          ],
          "heatmapgl": [
           {
            "colorbar": {
             "outlinewidth": 0,
             "ticks": ""
            },
            "colorscale": [
             [
              0,
              "#0d0887"
             ],
             [
              0.1111111111111111,
              "#46039f"
             ],
             [
              0.2222222222222222,
              "#7201a8"
             ],
             [
              0.3333333333333333,
              "#9c179e"
             ],
             [
              0.4444444444444444,
              "#bd3786"
             ],
             [
              0.5555555555555556,
              "#d8576b"
             ],
             [
              0.6666666666666666,
              "#ed7953"
             ],
             [
              0.7777777777777778,
              "#fb9f3a"
             ],
             [
              0.8888888888888888,
              "#fdca26"
             ],
             [
              1,
              "#f0f921"
             ]
            ],
            "type": "heatmapgl"
           }
          ],
          "histogram": [
           {
            "marker": {
             "pattern": {
              "fillmode": "overlay",
              "size": 10,
              "solidity": 0.2
             }
            },
            "type": "histogram"
           }
          ],
          "histogram2d": [
           {
            "colorbar": {
             "outlinewidth": 0,
             "ticks": ""
            },
            "colorscale": [
             [
              0,
              "#0d0887"
             ],
             [
              0.1111111111111111,
              "#46039f"
             ],
             [
              0.2222222222222222,
              "#7201a8"
             ],
             [
              0.3333333333333333,
              "#9c179e"
             ],
             [
              0.4444444444444444,
              "#bd3786"
             ],
             [
              0.5555555555555556,
              "#d8576b"
             ],
             [
              0.6666666666666666,
              "#ed7953"
             ],
             [
              0.7777777777777778,
              "#fb9f3a"
             ],
             [
              0.8888888888888888,
              "#fdca26"
             ],
             [
              1,
              "#f0f921"
             ]
            ],
            "type": "histogram2d"
           }
          ],
          "histogram2dcontour": [
           {
            "colorbar": {
             "outlinewidth": 0,
             "ticks": ""
            },
            "colorscale": [
             [
              0,
              "#0d0887"
             ],
             [
              0.1111111111111111,
              "#46039f"
             ],
             [
              0.2222222222222222,
              "#7201a8"
             ],
             [
              0.3333333333333333,
              "#9c179e"
             ],
             [
              0.4444444444444444,
              "#bd3786"
             ],
             [
              0.5555555555555556,
              "#d8576b"
             ],
             [
              0.6666666666666666,
              "#ed7953"
             ],
             [
              0.7777777777777778,
              "#fb9f3a"
             ],
             [
              0.8888888888888888,
              "#fdca26"
             ],
             [
              1,
              "#f0f921"
             ]
            ],
            "type": "histogram2dcontour"
           }
          ],
          "mesh3d": [
           {
            "colorbar": {
             "outlinewidth": 0,
             "ticks": ""
            },
            "type": "mesh3d"
           }
          ],
          "parcoords": [
           {
            "line": {
             "colorbar": {
              "outlinewidth": 0,
              "ticks": ""
             }
            },
            "type": "parcoords"
           }
          ],
          "pie": [
           {
            "automargin": true,
            "type": "pie"
           }
          ],
          "scatter": [
           {
            "fillpattern": {
             "fillmode": "overlay",
             "size": 10,
             "solidity": 0.2
            },
            "type": "scatter"
           }
          ],
          "scatter3d": [
           {
            "line": {
             "colorbar": {
              "outlinewidth": 0,
              "ticks": ""
             }
            },
            "marker": {
             "colorbar": {
              "outlinewidth": 0,
              "ticks": ""
             }
            },
            "type": "scatter3d"
           }
          ],
          "scattercarpet": [
           {
            "marker": {
             "colorbar": {
              "outlinewidth": 0,
              "ticks": ""
             }
            },
            "type": "scattercarpet"
           }
          ],
          "scattergeo": [
           {
            "marker": {
             "colorbar": {
              "outlinewidth": 0,
              "ticks": ""
             }
            },
            "type": "scattergeo"
           }
          ],
          "scattergl": [
           {
            "marker": {
             "colorbar": {
              "outlinewidth": 0,
              "ticks": ""
             }
            },
            "type": "scattergl"
           }
          ],
          "scattermapbox": [
           {
            "marker": {
             "colorbar": {
              "outlinewidth": 0,
              "ticks": ""
             }
            },
            "type": "scattermapbox"
           }
          ],
          "scatterpolar": [
           {
            "marker": {
             "colorbar": {
              "outlinewidth": 0,
              "ticks": ""
             }
            },
            "type": "scatterpolar"
           }
          ],
          "scatterpolargl": [
           {
            "marker": {
             "colorbar": {
              "outlinewidth": 0,
              "ticks": ""
             }
            },
            "type": "scatterpolargl"
           }
          ],
          "scatterternary": [
           {
            "marker": {
             "colorbar": {
              "outlinewidth": 0,
              "ticks": ""
             }
            },
            "type": "scatterternary"
           }
          ],
          "surface": [
           {
            "colorbar": {
             "outlinewidth": 0,
             "ticks": ""
            },
            "colorscale": [
             [
              0,
              "#0d0887"
             ],
             [
              0.1111111111111111,
              "#46039f"
             ],
             [
              0.2222222222222222,
              "#7201a8"
             ],
             [
              0.3333333333333333,
              "#9c179e"
             ],
             [
              0.4444444444444444,
              "#bd3786"
             ],
             [
              0.5555555555555556,
              "#d8576b"
             ],
             [
              0.6666666666666666,
              "#ed7953"
             ],
             [
              0.7777777777777778,
              "#fb9f3a"
             ],
             [
              0.8888888888888888,
              "#fdca26"
             ],
             [
              1,
              "#f0f921"
             ]
            ],
            "type": "surface"
           }
          ],
          "table": [
           {
            "cells": {
             "fill": {
              "color": "#EBF0F8"
             },
             "line": {
              "color": "white"
             }
            },
            "header": {
             "fill": {
              "color": "#C8D4E3"
             },
             "line": {
              "color": "white"
             }
            },
            "type": "table"
           }
          ]
         },
         "layout": {
          "annotationdefaults": {
           "arrowcolor": "#2a3f5f",
           "arrowhead": 0,
           "arrowwidth": 1
          },
          "autotypenumbers": "strict",
          "coloraxis": {
           "colorbar": {
            "outlinewidth": 0,
            "ticks": ""
           }
          },
          "colorscale": {
           "diverging": [
            [
             0,
             "#8e0152"
            ],
            [
             0.1,
             "#c51b7d"
            ],
            [
             0.2,
             "#de77ae"
            ],
            [
             0.3,
             "#f1b6da"
            ],
            [
             0.4,
             "#fde0ef"
            ],
            [
             0.5,
             "#f7f7f7"
            ],
            [
             0.6,
             "#e6f5d0"
            ],
            [
             0.7,
             "#b8e186"
            ],
            [
             0.8,
             "#7fbc41"
            ],
            [
             0.9,
             "#4d9221"
            ],
            [
             1,
             "#276419"
            ]
           ],
           "sequential": [
            [
             0,
             "#0d0887"
            ],
            [
             0.1111111111111111,
             "#46039f"
            ],
            [
             0.2222222222222222,
             "#7201a8"
            ],
            [
             0.3333333333333333,
             "#9c179e"
            ],
            [
             0.4444444444444444,
             "#bd3786"
            ],
            [
             0.5555555555555556,
             "#d8576b"
            ],
            [
             0.6666666666666666,
             "#ed7953"
            ],
            [
             0.7777777777777778,
             "#fb9f3a"
            ],
            [
             0.8888888888888888,
             "#fdca26"
            ],
            [
             1,
             "#f0f921"
            ]
           ],
           "sequentialminus": [
            [
             0,
             "#0d0887"
            ],
            [
             0.1111111111111111,
             "#46039f"
            ],
            [
             0.2222222222222222,
             "#7201a8"
            ],
            [
             0.3333333333333333,
             "#9c179e"
            ],
            [
             0.4444444444444444,
             "#bd3786"
            ],
            [
             0.5555555555555556,
             "#d8576b"
            ],
            [
             0.6666666666666666,
             "#ed7953"
            ],
            [
             0.7777777777777778,
             "#fb9f3a"
            ],
            [
             0.8888888888888888,
             "#fdca26"
            ],
            [
             1,
             "#f0f921"
            ]
           ]
          },
          "colorway": [
           "#636efa",
           "#EF553B",
           "#00cc96",
           "#ab63fa",
           "#FFA15A",
           "#19d3f3",
           "#FF6692",
           "#B6E880",
           "#FF97FF",
           "#FECB52"
          ],
          "font": {
           "color": "#2a3f5f"
          },
          "geo": {
           "bgcolor": "white",
           "lakecolor": "white",
           "landcolor": "#E5ECF6",
           "showlakes": true,
           "showland": true,
           "subunitcolor": "white"
          },
          "hoverlabel": {
           "align": "left"
          },
          "hovermode": "closest",
          "mapbox": {
           "style": "light"
          },
          "paper_bgcolor": "white",
          "plot_bgcolor": "#E5ECF6",
          "polar": {
           "angularaxis": {
            "gridcolor": "white",
            "linecolor": "white",
            "ticks": ""
           },
           "bgcolor": "#E5ECF6",
           "radialaxis": {
            "gridcolor": "white",
            "linecolor": "white",
            "ticks": ""
           }
          },
          "scene": {
           "xaxis": {
            "backgroundcolor": "#E5ECF6",
            "gridcolor": "white",
            "gridwidth": 2,
            "linecolor": "white",
            "showbackground": true,
            "ticks": "",
            "zerolinecolor": "white"
           },
           "yaxis": {
            "backgroundcolor": "#E5ECF6",
            "gridcolor": "white",
            "gridwidth": 2,
            "linecolor": "white",
            "showbackground": true,
            "ticks": "",
            "zerolinecolor": "white"
           },
           "zaxis": {
            "backgroundcolor": "#E5ECF6",
            "gridcolor": "white",
            "gridwidth": 2,
            "linecolor": "white",
            "showbackground": true,
            "ticks": "",
            "zerolinecolor": "white"
           }
          },
          "shapedefaults": {
           "line": {
            "color": "#2a3f5f"
           }
          },
          "ternary": {
           "aaxis": {
            "gridcolor": "white",
            "linecolor": "white",
            "ticks": ""
           },
           "baxis": {
            "gridcolor": "white",
            "linecolor": "white",
            "ticks": ""
           },
           "bgcolor": "#E5ECF6",
           "caxis": {
            "gridcolor": "white",
            "linecolor": "white",
            "ticks": ""
           }
          },
          "title": {
           "x": 0.05
          },
          "xaxis": {
           "automargin": true,
           "gridcolor": "white",
           "linecolor": "white",
           "ticks": "",
           "title": {
            "standoff": 15
           },
           "zerolinecolor": "white",
           "zerolinewidth": 2
          },
          "yaxis": {
           "automargin": true,
           "gridcolor": "white",
           "linecolor": "white",
           "ticks": "",
           "title": {
            "standoff": 15
           },
           "zerolinecolor": "white",
           "zerolinewidth": 2
          }
         }
        },
        "title": {
         "text": "Distribución de poblaciones por Geography y Gender"
        },
        "xaxis": {
         "anchor": "y",
         "domain": [
          0,
          1
         ],
         "title": {
          "text": "País"
         }
        },
        "yaxis": {
         "anchor": "x",
         "categoryarray": [
          "male",
          "female",
          "combined"
         ],
         "categoryorder": "array",
         "domain": [
          0,
          1
         ],
         "title": {
          "text": "Género"
         }
        }
       }
      }
     },
     "metadata": {},
     "output_type": "display_data"
    }
   ],
   "source": [
    "# Visualización 1: Distribución de respuestas por género y país\n",
    "# Contar las respuestas por Geography y Gender\n",
    "data_counts = data_latam.groupby(['Geography', 'Gender']).size().reset_index(name='Counts')\n",
    "\n",
    "# Crear el Bubble Chart\n",
    "fig = px.scatter(data_counts, x='Geography', y='Gender', size='Counts', color='Gender',\n",
    "                 title='Distribución de poblaciones por Geography y Gender',\n",
    "                 labels={'Geography': 'País', 'Gender': 'Género', 'Counts': 'Cantidad de respuestas'},\n",
    "                 size_max=60)\n",
    "\n",
    "fig.show()"
   ]
  },
  {
   "cell_type": "code",
   "execution_count": 6,
   "id": "5e002e32",
   "metadata": {},
   "outputs": [
    {
     "name": "stderr",
     "output_type": "stream",
     "text": [
      "C:\\Users\\frany\\AppData\\Local\\Temp\\ipykernel_18232\\842851237.py:3: FutureWarning:\n",
      "\n",
      "\n",
      "\n",
      "Passing `palette` without assigning `hue` is deprecated and will be removed in v0.14.0. Assign the `x` variable to `hue` and set `legend=False` for the same effect.\n",
      "\n",
      "\n"
     ]
    },
    {
     "data": {
      "image/png": "[encoded data removed]",
      "text/plain": [
       "<Figure size 1200x600 with 1 Axes>"
      ]
     },
     "metadata": {},
     "output_type": "display_data"
    }
   ],
   "source": [
    "# Visualización 2: Distribución de respuestas por género\n",
    "plt.figure()\n",
    "sns.countplot(data=data_latam, x='Gender', palette='viridis')\n",
    "plt.title('Distribución de respuestas por género')\n",
    "plt.xlabel('Género')\n",
    "plt.ylabel('Cantidad de respuestas')\n",
    "plt.show()\n",
    "\n"
   ]
  },
  {
   "cell_type": "code",
   "execution_count": 7,
   "id": "3cfb2227",
   "metadata": {},
   "outputs": [
    {
     "data": {
      "text/plain": [
       "Index(['Geography', 'Question Code', 'Question Text', 'Response Category',\n",
       "       'Response Variable', 'Gender', 'Value'],\n",
       "      dtype='object')"
      ]
     },
     "execution_count": 7,
     "metadata": {},
     "output_type": "execute_result"
    }
   ],
   "source": [
    "data_latam.columns"
   ]
  },
  {
   "cell_type": "code",
   "execution_count": 8,
   "id": "2c5b503c",
   "metadata": {},
   "outputs": [
    {
     "data": {
      "text/plain": [
       "array([nan, 'Yes', 'No', 'Self', 'Does not fully cover own expenses',\n",
       "       'Fully cover own expenses or fully covers their own expenses and others expenses',\n",
       "       'Strongly Agree/Agree', 'Neutral', 'Strongly Disagree/Disagree',\n",
       "       'Wages from employment of household members',\n",
       "       'Any response except \"Wage\"', 'Full access',\n",
       "       'Limited or No access'], dtype=object)"
      ]
     },
     "execution_count": 8,
     "metadata": {},
     "output_type": "execute_result"
    }
   ],
   "source": [
    "data_latam['Response Category'].unique()"
   ]
  },
  {
   "cell_type": "code",
   "execution_count": null,
   "id": "e0f84f9f",
   "metadata": {},
   "outputs": [
    {
     "name": "stderr",
     "output_type": "stream",
     "text": [
      "C:\\Users\\frany\\AppData\\Local\\Temp\\ipykernel_18232\\3252305556.py:27: SettingWithCopyWarning:\n",
      "\n",
      "\n",
      "A value is trying to be set on a copy of a slice from a DataFrame.\n",
      "Try using .loc[row_indexer,col_indexer] = value instead\n",
      "\n",
      "See the caveats in the documentation: https://pandas.pydata.org/pandas-docs/stable/user_guide/indexing.html#returning-a-view-versus-a-copy\n",
      "\n",
      "C:\\Users\\frany\\AppData\\Local\\Temp\\ipykernel_18232\\3252305556.py:35: FutureWarning:\n",
      "\n",
      "\n",
      "\n",
      "The `ci` parameter is deprecated. Use `errorbar=None` for the same effect.\n",
      "\n",
      "\n"
     ]
    },
    {
     "data": {
      "image/png": "[encoded data removed]",
      "text/plain": [
       "<Figure size 1200x600 with 1 Axes>"
      ]
     },
     "metadata": {},
     "output_type": "display_data"
    }
   ],
   "source": [
    "# Visualización 3: Distribución de respuestas con ingresos, educación y empleo\n",
    "# Definir categorías relacionadas con ingresos, educación y empleo\n",
    "income_related = [\n",
    "    'Does not fully cover own expenses',\n",
    "    'Fully cover own expenses or fully covers their own expenses and others expenses',\n",
    "    'Wages from employment of household members'\n",
    "]\n",
    "education_related = [\n",
    "    'Full access',\n",
    "    'Limited or No access'\n",
    "]\n",
    "employment_related = [\n",
    "    'Any response except \"Wage\"'\n",
    "]\n",
    "\n",
    "# Crear una columna que agrupe las categorías en temas clave\n",
    "def categorize_response(response):\n",
    "    if response in income_related:\n",
    "        return 'Income'\n",
    "    elif response in education_related:\n",
    "        return 'Education'\n",
    "    elif response in employment_related:\n",
    "        return 'Employment'\n",
    "    else:\n",
    "        return 'Other'\n",
    "\n",
    "# Aplicar la categorización al dataset\n",
    "data_latam['Category'] = data_latam['Response Category'].apply(categorize_response)\n",
    "\n",
    "# Filtrar datos de interés\n",
    "categories_of_interest = ['Income', 'Education', 'Employment']\n",
    "data_interest = data_latam[data_latam['Category'].isin(categories_of_interest)]\n",
    "\n",
    "# Visualización de brechas de género\n",
    "plt.figure(figsize=(12, 6))\n",
    "sns.barplot(\n",
    "    data=data_interest,\n",
    "    x='Category', y='Value', hue='Gender', ci=None, palette='viridis'\n",
    ")\n",
    "plt.title('Brechas de género en ingresos, educación y empleo en LATAM', fontsize=16)\n",
    "plt.xlabel('Categoría', fontsize=12)\n",
    "plt.ylabel('Valor promedio', fontsize=12)\n",
    "plt.legend(title='Género')\n",
    "plt.xticks(rotation=30)\n",
    "plt.tight_layout()\n",
    "plt.show()\n"
   ]
  },
  {
   "cell_type": "code",
   "execution_count": 10,
   "id": "218d7f13",
   "metadata": {},
   "outputs": [
    {
     "data": {
      "application/vnd.plotly.v1+json": {
       "config": {
        "plotlyServerURL": "https://plot.ly"
       },
       "data": [
        {
         "coloraxis": "coloraxis",
         "geo": "geo",
         "hovertemplate": "Geography=%{location}<br>Valor Promedio=%{z}<extra></extra>",
         "locationmode": "country names",
         "locations": [
          "Argentina",
          "Bolivia",
          "Chile",
          "Colombia",
          "Costa Rica",
          "Ecuador",
          "El Salvador",
          "Guatemala",
          "Honduras",
          "Nicaragua",
          "Paraguay",
          "Uruguay"
         ],
         "name": "",
         "type": "choropleth",
         "z": [
          41.86145833333333,
          39.930416666666666,
          41.94895833333333,
          40.00125,
          40.35145833333333,
          39.154375,
          40.033541666666665,
          39.515208333333334,
          39.843333333333334,
          39.93833333333333,
          40.99979166666667,
          41.43020833333333
         ]
        }
       ],
       "layout": {
        "coloraxis": {
         "colorbar": {
          "title": {
           "text": "Valor Promedio"
          }
         },
         "colorscale": [
          [
           0,
           "#440154"
          ],
          [
           0.1111111111111111,
           "#482878"
          ],
          [
           0.2222222222222222,
           "#3e4989"
          ],
          [
           0.3333333333333333,
           "#31688e"
          ],
          [
           0.4444444444444444,
           "#26828e"
          ],
          [
           0.5555555555555556,
           "#1f9e89"
          ],
          [
           0.6666666666666666,
           "#35b779"
          ],
          [
           0.7777777777777778,
           "#6ece58"
          ],
          [
           0.8888888888888888,
           "#b5de2b"
          ],
          [
           1,
           "#fde725"
          ]
         ]
        },
        "geo": {
         "center": {},
         "coastlinecolor": "LightGrey",
         "domain": {
          "x": [
           0,
           1
          ],
          "y": [
           0,
           1
          ]
         },
         "showcoastlines": true,
         "showframe": false
        },
        "legend": {
         "tracegroupgap": 0
        },
        "template": {
         "data": {
          "bar": [
           {
            "error_x": {
             "color": "#2a3f5f"
            },
            "error_y": {
             "color": "#2a3f5f"
            },
            "marker": {
             "line": {
              "color": "#E5ECF6",
              "width": 0.5
             },
             "pattern": {
              "fillmode": "overlay",
              "size": 10,
              "solidity": 0.2
             }
            },
            "type": "bar"
           }
          ],
          "barpolar": [
           {
            "marker": {
             "line": {
              "color": "#E5ECF6",
              "width": 0.5
             },
             "pattern": {
              "fillmode": "overlay",
              "size": 10,
              "solidity": 0.2
             }
            },
            "type": "barpolar"
           }
          ],
          "carpet": [
           {
            "aaxis": {
             "endlinecolor": "#2a3f5f",
             "gridcolor": "white",
             "linecolor": "white",
             "minorgridcolor": "white",
             "startlinecolor": "#2a3f5f"
            },
            "baxis": {
             "endlinecolor": "#2a3f5f",
             "gridcolor": "white",
             "linecolor": "white",
             "minorgridcolor": "white",
             "startlinecolor": "#2a3f5f"
            },
            "type": "carpet"
           }
          ],
          "choropleth": [
           {
            "colorbar": {
             "outlinewidth": 0,
             "ticks": ""
            },
            "type": "choropleth"
           }
          ],
          "contour": [
           {
            "colorbar": {
             "outlinewidth": 0,
             "ticks": ""
            },
            "colorscale": [
             [
              0,
              "#0d0887"
             ],
             [
              0.1111111111111111,
              "#46039f"
             ],
             [
              0.2222222222222222,
              "#7201a8"
             ],
             [
              0.3333333333333333,
              "#9c179e"
             ],
             [
              0.4444444444444444,
              "#bd3786"
             ],
             [
              0.5555555555555556,
              "#d8576b"
             ],
             [
              0.6666666666666666,
              "#ed7953"
             ],
             [
              0.7777777777777778,
              "#fb9f3a"
             ],
             [
              0.8888888888888888,
              "#fdca26"
             ],
             [
              1,
              "#f0f921"
             ]
            ],
            "type": "contour"
           }
          ],
          "contourcarpet": [
           {
            "colorbar": {
             "outlinewidth": 0,
             "ticks": ""
            },
            "type": "contourcarpet"
           }
          ],
          "heatmap": [
           {
            "colorbar": {
             "outlinewidth": 0,
             "ticks": ""
            },
            "colorscale": [
             [
              0,
              "#0d0887"
             ],
             [
              0.1111111111111111,
              "#46039f"
             ],
             [
              0.2222222222222222,
              "#7201a8"
             ],
             [
              0.3333333333333333,
              "#9c179e"
             ],
             [
              0.4444444444444444,
              "#bd3786"
             ],
             [
              0.5555555555555556,
              "#d8576b"
             ],
             [
              0.6666666666666666,
              "#ed7953"
             ],
             [
              0.7777777777777778,
              "#fb9f3a"
             ],
             [
              0.8888888888888888,
              "#fdca26"
             ],
             [
              1,
              "#f0f921"
             ]
            ],
            "type": "heatmap"
           }
          ],
          "heatmapgl": [
           {
            "colorbar": {
             "outlinewidth": 0,
             "ticks": ""
            },
            "colorscale": [
             [
              0,
              "#0d0887"
             ],
             [
              0.1111111111111111,
              "#46039f"
             ],
             [
              0.2222222222222222,
              "#7201a8"
             ],
             [
              0.3333333333333333,
              "#9c179e"
             ],
             [
              0.4444444444444444,
              "#bd3786"
             ],
             [
              0.5555555555555556,
              "#d8576b"
             ],
             [
              0.6666666666666666,
              "#ed7953"
             ],
             [
              0.7777777777777778,
              "#fb9f3a"
             ],
             [
              0.8888888888888888,
              "#fdca26"
             ],
             [
              1,
              "#f0f921"
             ]
            ],
            "type": "heatmapgl"
           }
          ],
          "histogram": [
           {
            "marker": {
             "pattern": {
              "fillmode": "overlay",
              "size": 10,
              "solidity": 0.2
             }
            },
            "type": "histogram"
           }
          ],
          "histogram2d": [
           {
            "colorbar": {
             "outlinewidth": 0,
             "ticks": ""
            },
            "colorscale": [
             [
              0,
              "#0d0887"
             ],
             [
              0.1111111111111111,
              "#46039f"
             ],
             [
              0.2222222222222222,
              "#7201a8"
             ],
             [
              0.3333333333333333,
              "#9c179e"
             ],
             [
              0.4444444444444444,
              "#bd3786"
             ],
             [
              0.5555555555555556,
              "#d8576b"
             ],
             [
              0.6666666666666666,
              "#ed7953"
             ],
             [
              0.7777777777777778,
              "#fb9f3a"
             ],
             [
              0.8888888888888888,
              "#fdca26"
             ],
             [
              1,
              "#f0f921"
             ]
            ],
            "type": "histogram2d"
           }
          ],
          "histogram2dcontour": [
           {
            "colorbar": {
             "outlinewidth": 0,
             "ticks": ""
            },
            "colorscale": [
             [
              0,
              "#0d0887"
             ],
             [
              0.1111111111111111,
              "#46039f"
             ],
             [
              0.2222222222222222,
              "#7201a8"
             ],
             [
              0.3333333333333333,
              "#9c179e"
             ],
             [
              0.4444444444444444,
              "#bd3786"
             ],
             [
              0.5555555555555556,
              "#d8576b"
             ],
             [
              0.6666666666666666,
              "#ed7953"
             ],
             [
              0.7777777777777778,
              "#fb9f3a"
             ],
             [
              0.8888888888888888,
              "#fdca26"
             ],
             [
              1,
              "#f0f921"
             ]
            ],
            "type": "histogram2dcontour"
           }
          ],
          "mesh3d": [
           {
            "colorbar": {
             "outlinewidth": 0,
             "ticks": ""
            },
            "type": "mesh3d"
           }
          ],
          "parcoords": [
           {
            "line": {
             "colorbar": {
              "outlinewidth": 0,
              "ticks": ""
             }
            },
            "type": "parcoords"
           }
          ],
          "pie": [
           {
            "automargin": true,
            "type": "pie"
           }
          ],
          "scatter": [
           {
            "fillpattern": {
             "fillmode": "overlay",
             "size": 10,
             "solidity": 0.2
            },
            "type": "scatter"
           }
          ],
          "scatter3d": [
           {
            "line": {
             "colorbar": {
              "outlinewidth": 0,
              "ticks": ""
             }
            },
            "marker": {
             "colorbar": {
              "outlinewidth": 0,
              "ticks": ""
             }
            },
            "type": "scatter3d"
           }
          ],
          "scattercarpet": [
           {
            "marker": {
             "colorbar": {
              "outlinewidth": 0,
              "ticks": ""
             }
            },
            "type": "scattercarpet"
           }
          ],
          "scattergeo": [
           {
            "marker": {
             "colorbar": {
              "outlinewidth": 0,
              "ticks": ""
             }
            },
            "type": "scattergeo"
           }
          ],
          "scattergl": [
           {
            "marker": {
             "colorbar": {
              "outlinewidth": 0,
              "ticks": ""
             }
            },
            "type": "scattergl"
           }
          ],
          "scattermapbox": [
           {
            "marker": {
             "colorbar": {
              "outlinewidth": 0,
              "ticks": ""
             }
            },
            "type": "scattermapbox"
           }
          ],
          "scatterpolar": [
           {
            "marker": {
             "colorbar": {
              "outlinewidth": 0,
              "ticks": ""
             }
            },
            "type": "scatterpolar"
           }
          ],
          "scatterpolargl": [
           {
            "marker": {
             "colorbar": {
              "outlinewidth": 0,
              "ticks": ""
             }
            },
            "type": "scatterpolargl"
           }
          ],
          "scatterternary": [
           {
            "marker": {
             "colorbar": {
              "outlinewidth": 0,
              "ticks": ""
             }
            },
            "type": "scatterternary"
           }
          ],
          "surface": [
           {
            "colorbar": {
             "outlinewidth": 0,
             "ticks": ""
            },
            "colorscale": [
             [
              0,
              "#0d0887"
             ],
             [
              0.1111111111111111,
              "#46039f"
             ],
             [
              0.2222222222222222,
              "#7201a8"
             ],
             [
              0.3333333333333333,
              "#9c179e"
             ],
             [
              0.4444444444444444,
              "#bd3786"
             ],
             [
              0.5555555555555556,
              "#d8576b"
             ],
             [
              0.6666666666666666,
              "#ed7953"
             ],
             [
              0.7777777777777778,
              "#fb9f3a"
             ],
             [
              0.8888888888888888,
              "#fdca26"
             ],
             [
              1,
              "#f0f921"
             ]
            ],
            "type": "surface"
           }
          ],
          "table": [
           {
            "cells": {
             "fill": {
              "color": "#EBF0F8"
             },
             "line": {
              "color": "white"
             }
            },
            "header": {
             "fill": {
              "color": "#C8D4E3"
             },
             "line": {
              "color": "white"
             }
            },
            "type": "table"
           }
          ]
         },
         "layout": {
          "annotationdefaults": {
           "arrowcolor": "#2a3f5f",
           "arrowhead": 0,
           "arrowwidth": 1
          },
          "autotypenumbers": "strict",
          "coloraxis": {
           "colorbar": {
            "outlinewidth": 0,
            "ticks": ""
           }
          },
          "colorscale": {
           "diverging": [
            [
             0,
             "#8e0152"
            ],
            [
             0.1,
             "#c51b7d"
            ],
            [
             0.2,
             "#de77ae"
            ],
            [
             0.3,
             "#f1b6da"
            ],
            [
             0.4,
             "#fde0ef"
            ],
            [
             0.5,
             "#f7f7f7"
            ],
            [
             0.6,
             "#e6f5d0"
            ],
            [
             0.7,
             "#b8e186"
            ],
            [
             0.8,
             "#7fbc41"
            ],
            [
             0.9,
             "#4d9221"
            ],
            [
             1,
             "#276419"
            ]
           ],
           "sequential": [
            [
             0,
             "#0d0887"
            ],
            [
             0.1111111111111111,
             "#46039f"
            ],
            [
             0.2222222222222222,
             "#7201a8"
            ],
            [
             0.3333333333333333,
             "#9c179e"
            ],
            [
             0.4444444444444444,
             "#bd3786"
            ],
            [
             0.5555555555555556,
             "#d8576b"
            ],
            [
             0.6666666666666666,
             "#ed7953"
            ],
            [
             0.7777777777777778,
             "#fb9f3a"
            ],
            [
             0.8888888888888888,
             "#fdca26"
            ],
            [
             1,
             "#f0f921"
            ]
           ],
           "sequentialminus": [
            [
             0,
             "#0d0887"
            ],
            [
             0.1111111111111111,
             "#46039f"
            ],
            [
             0.2222222222222222,
             "#7201a8"
            ],
            [
             0.3333333333333333,
             "#9c179e"
            ],
            [
             0.4444444444444444,
             "#bd3786"
            ],
            [
             0.5555555555555556,
             "#d8576b"
            ],
            [
             0.6666666666666666,
             "#ed7953"
            ],
            [
             0.7777777777777778,
             "#fb9f3a"
            ],
            [
             0.8888888888888888,
             "#fdca26"
            ],
            [
             1,
             "#f0f921"
            ]
           ]
          },
          "colorway": [
           "#636efa",
           "#EF553B",
           "#00cc96",
           "#ab63fa",
           "#FFA15A",
           "#19d3f3",
           "#FF6692",
           "#B6E880",
           "#FF97FF",
           "#FECB52"
          ],
          "font": {
           "color": "#2a3f5f"
          },
          "geo": {
           "bgcolor": "white",
           "lakecolor": "white",
           "landcolor": "#E5ECF6",
           "showlakes": true,
           "showland": true,
           "subunitcolor": "white"
          },
          "hoverlabel": {
           "align": "left"
          },
          "hovermode": "closest",
          "mapbox": {
           "style": "light"
          },
          "paper_bgcolor": "white",
          "plot_bgcolor": "#E5ECF6",
          "polar": {
           "angularaxis": {
            "gridcolor": "white",
            "linecolor": "white",
            "ticks": ""
           },
           "bgcolor": "#E5ECF6",
           "radialaxis": {
            "gridcolor": "white",
            "linecolor": "white",
            "ticks": ""
           }
          },
          "scene": {
           "xaxis": {
            "backgroundcolor": "#E5ECF6",
            "gridcolor": "white",
            "gridwidth": 2,
            "linecolor": "white",
            "showbackground": true,
            "ticks": "",
            "zerolinecolor": "white"
           },
           "yaxis": {
            "backgroundcolor": "#E5ECF6",
            "gridcolor": "white",
            "gridwidth": 2,
            "linecolor": "white",
            "showbackground": true,
            "ticks": "",
            "zerolinecolor": "white"
           },
           "zaxis": {
            "backgroundcolor": "#E5ECF6",
            "gridcolor": "white",
            "gridwidth": 2,
            "linecolor": "white",
            "showbackground": true,
            "ticks": "",
            "zerolinecolor": "white"
           }
          },
          "shapedefaults": {
           "line": {
            "color": "#2a3f5f"
           }
          },
          "ternary": {
           "aaxis": {
            "gridcolor": "white",
            "linecolor": "white",
            "ticks": ""
           },
           "baxis": {
            "gridcolor": "white",
            "linecolor": "white",
            "ticks": ""
           },
           "bgcolor": "#E5ECF6",
           "caxis": {
            "gridcolor": "white",
            "linecolor": "white",
            "ticks": ""
           }
          },
          "title": {
           "x": 0.05
          },
          "xaxis": {
           "automargin": true,
           "gridcolor": "white",
           "linecolor": "white",
           "ticks": "",
           "title": {
            "standoff": 15
           },
           "zerolinecolor": "white",
           "zerolinewidth": 2
          },
          "yaxis": {
           "automargin": true,
           "gridcolor": "white",
           "linecolor": "white",
           "ticks": "",
           "title": {
            "standoff": 15
           },
           "zerolinecolor": "white",
           "zerolinewidth": 2
          }
         }
        },
        "title": {
         "text": "Brechas de Género en LATAM (Valor Promedio por País)"
        }
       }
      }
     },
     "metadata": {},
     "output_type": "display_data"
    }
   ],
   "source": [
    "# Visualización 4: Mapa coroplético de brechas de género en LATAM\n",
    "# Filtrar datos relevantes para el mapa coroplético\n",
    "data_choropleth = data_latam.groupby('Geography', as_index=False).agg({'Value': 'mean'})\n",
    "\n",
    "# Crear el mapa coroplético\n",
    "fig = px.choropleth(\n",
    "    data_choropleth,\n",
    "    locations=\"Geography\",  # Columna que contiene los nombres de los países\n",
    "    locationmode=\"country names\",  # Modo para identificar los países\n",
    "    color=\"Value\",  # Columna que define los valores representados en el mapa\n",
    "    color_continuous_scale=\"Viridis\",  # Escala de colores\n",
    "    title=\"Brechas de Género en LATAM (Valor Promedio por País)\",\n",
    "    labels={'Value': 'Valor Promedio'}\n",
    ")\n",
    "\n",
    "# Actualizar el diseño del mapa\n",
    "fig.update_geos(\n",
    "    showframe=False,  # Ocultar el marco\n",
    "    showcoastlines=True,  # Mostrar las costas\n",
    "    coastlinecolor=\"LightGrey\"\n",
    ")\n",
    "\n",
    "# Mostrar el mapa\n",
    "fig.show()\n"
   ]
  },
  {
   "cell_type": "code",
   "execution_count": null,
   "id": "42a1d359",
   "metadata": {},
   "outputs": [
    {
     "name": "stderr",
     "output_type": "stream",
     "text": [
      "C:\\Users\\frany\\AppData\\Local\\Temp\\ipykernel_18232\\3826005499.py:9: SettingWithCopyWarning:\n",
      "\n",
      "\n",
      "A value is trying to be set on a copy of a slice from a DataFrame.\n",
      "Try using .loc[row_indexer,col_indexer] = value instead\n",
      "\n",
      "See the caveats in the documentation: https://pandas.pydata.org/pandas-docs/stable/user_guide/indexing.html#returning-a-view-versus-a-copy\n",
      "\n"
     ]
    },
    {
     "data": {
      "image/png": "[encoded data removed]",
      "text/plain": [
       "<Figure size 317.847x250 with 2 Axes>"
      ]
     },
     "metadata": {},
     "output_type": "display_data"
    },
    {
     "data": {
      "image/png": "[encoded data removed]",
      "text/plain": [
       "<Figure size 317.847x250 with 2 Axes>"
      ]
     },
     "metadata": {},
     "output_type": "display_data"
    },
    {
     "data": {
      "image/png": "[encoded data removed]",
      "text/plain": [
       "<Figure size 317.847x250 with 2 Axes>"
      ]
     },
     "metadata": {},
     "output_type": "display_data"
    },
    {
     "data": {
      "image/png": "[encoded data removed]",
      "text/plain": [
       "<Figure size 317.847x250 with 2 Axes>"
      ]
     },
     "metadata": {},
     "output_type": "display_data"
    },
    {
     "data": {
      "image/png": "[encoded data removed]",
      "text/plain": [
       "<Figure size 317.847x250 with 2 Axes>"
      ]
     },
     "metadata": {},
     "output_type": "display_data"
    },
    {
     "data": {
      "image/png": "[encoded data removed]",
      "text/plain": [
       "<Figure size 317.847x250 with 2 Axes>"
      ]
     },
     "metadata": {},
     "output_type": "display_data"
    },
    {
     "data": {
      "image/png": "[encoded data removed]",
      "text/plain": [
       "<Figure size 317.847x250 with 2 Axes>"
      ]
     },
     "metadata": {},
     "output_type": "display_data"
    },
    {
     "data": {
      "image/png": "[encoded data removed]",
      "text/plain": [
       "<Figure size 317.847x250 with 2 Axes>"
      ]
     },
     "metadata": {},
     "output_type": "display_data"
    },
    {
     "data": {
      "image/png": "[encoded data removed]",
      "text/plain": [
       "<Figure size 317.847x250 with 2 Axes>"
      ]
     },
     "metadata": {},
     "output_type": "display_data"
    },
    {
     "data": {
      "image/png": "[encoded data removed]",
      "text/plain": [
       "<Figure size 317.847x250 with 2 Axes>"
      ]
     },
     "metadata": {},
     "output_type": "display_data"
    },
    {
     "data": {
      "image/png": "[encoded data removed]",
      "text/plain": [
       "<Figure size 317.847x250 with 2 Axes>"
      ]
     },
     "metadata": {},
     "output_type": "display_data"
    },
    {
     "data": {
      "image/png": "[encoded data removed]",
      "text/plain": [
       "<Figure size 317.847x250 with 2 Axes>"
      ]
     },
     "metadata": {},
     "output_type": "display_data"
    }
   ],
   "source": [
    "# Visualización 5: Matriz de dispersión por país\n",
    "# Preparar los datos\n",
    "scatter_data = data_latam[['Geography', 'Value', 'Gender']]\n",
    "\n",
    "# Convertir 'Gender' en numérico si es necesario\n",
    "scatter_data['Gender'] = scatter_data['Gender'].astype('category').cat.codes\n",
    "\n",
    "# Lista de países únicos\n",
    "countries = scatter_data['Geography'].unique()\n",
    "\n",
    "# Crear gráficos para cada país\n",
    "for country in countries:\n",
    "    data_country = scatter_data[scatter_data['Geography'] == country]\n",
    "\n",
    "    sns.pairplot(\n",
    "        data_country,\n",
    "        diag_kind='kde',\n",
    "        hue='Gender',  # Diferenciar por género\n",
    "        palette='viridis'\n",
    "    )\n",
    "    plt.suptitle(f\"Matriz de Dispersión: {country}\", y=1.02)\n",
    "    plt.show()\n"
   ]
  },
  {
   "cell_type": "code",
   "execution_count": null,
   "id": "b2d9d4da",
   "metadata": {},
   "outputs": [
    {
     "name": "stderr",
     "output_type": "stream",
     "text": [
      "d:\\Programs\\Anaconda3\\Lib\\site-packages\\plotly\\express\\_core.py:2065: FutureWarning:\n",
      "\n",
      "When grouping with a length-1 list-like, you will need to pass a length-1 tuple to get_group in a future version of pandas. Pass `(name,)` instead of `name` to silence this warning.\n",
      "\n"
     ]
    },
    {
     "data": {
      "application/vnd.plotly.v1+json": {
       "config": {
        "plotlyServerURL": "https://plot.ly"
       },
       "data": [
        {
         "diagonal": {
          "visible": true
         },
         "dimensions": [
          {
           "axis": {
            "matches": true
           },
           "label": "Geography",
           "values": [
            "Argentina",
            "Bolivia",
            "Chile",
            "Colombia",
            "Costa Rica",
            "Ecuador",
            "El Salvador",
            "Guatemala",
            "Honduras",
            "Nicaragua",
            "Paraguay",
            "Uruguay",
            "Argentina",
            "Bolivia",
            "Chile",
            "Colombia",
            "Costa Rica",
            "Ecuador",
            "El Salvador",
            "Guatemala",
            "Honduras",
            "Nicaragua",
            "Paraguay",
            "Uruguay",
            "Argentina",
            "Bolivia",
            "Chile",
            "Colombia",
            "Costa Rica",
            "Ecuador",
            "El Salvador",
            "Guatemala",
            "Honduras",
            "Nicaragua",
            "Paraguay",
            "Uruguay",
            "Argentina",
            "Bolivia",
            "Chile",
            "Colombia",
            "Costa Rica",
            "Ecuador",
            "El Salvador",
            "Guatemala",
            "Honduras",
            "Nicaragua",
            "Paraguay",
            "Uruguay",
            "Argentina",
            "Bolivia",
            "Chile",
            "Colombia",
            "Costa Rica",
            "Ecuador",
            "El Salvador",
            "Guatemala",
            "Honduras",
            "Nicaragua",
            "Paraguay",
            "Uruguay",
            "Argentina",
            "Bolivia",
            "Chile",
            "Colombia",
            "Costa Rica",
            "Ecuador",
            "El Salvador",
            "Guatemala",
            "Honduras",
            "Nicaragua",
            "Paraguay",
            "Uruguay",
            "Argentina",
            "Argentina",
            "Argentina",
            "Bolivia",
            "Bolivia",
            "Bolivia",
            "Chile",
            "Chile",
            "Chile",
            "Colombia",
            "Colombia",
            "Colombia",
            "Costa Rica",
            "Costa Rica",
            "Costa Rica",
            "Ecuador",
            "Ecuador",
            "Ecuador",
            "El Salvador",
            "El Salvador",
            "El Salvador",
            "Guatemala",
            "Guatemala",
            "Guatemala",
            "Honduras",
            "Honduras",
            "Honduras",
            "Nicaragua",
            "Nicaragua",
            "Nicaragua",
            "Paraguay",
            "Paraguay",
            "Paraguay",
            "Uruguay",
            "Uruguay",
            "Uruguay",
            "Argentina",
            "Bolivia",
            "Chile",
            "Colombia",
            "Costa Rica",
            "Ecuador",
            "El Salvador",
            "Guatemala",
            "Honduras",
            "Nicaragua",
            "Paraguay",
            "Uruguay",
            "Argentina",
            "Bolivia",
            "Chile",
            "Colombia",
            "Costa Rica",
            "Ecuador",
            "El Salvador",
            "Guatemala",
            "Honduras",
            "Nicaragua",
            "Paraguay",
            "Uruguay",
            "Argentina",
            "Bolivia",
            "Chile",
            "Colombia",
            "Costa Rica",
            "Ecuador",
            "El Salvador",
            "Guatemala",
            "Honduras",
            "Nicaragua",
            "Paraguay",
            "Uruguay",
            "Argentina",
            "Bolivia",
            "Chile",
            "Colombia",
            "Costa Rica",
            "Ecuador",
            "El Salvador",
            "Guatemala",
            "Honduras",
            "Nicaragua",
            "Paraguay",
            "Uruguay",
            "Argentina",
            "Bolivia",
            "Chile",
            "Colombia",
            "Costa Rica",
            "Ecuador",
            "El Salvador",
            "Guatemala",
            "Honduras",
            "Nicaragua",
            "Paraguay",
            "Uruguay",
            "Argentina",
            "Bolivia",
            "Chile",
            "Colombia",
            "Costa Rica",
            "Ecuador",
            "El Salvador",
            "Guatemala",
            "Honduras",
            "Nicaragua",
            "Paraguay",
            "Uruguay",
            "Argentina",
            "Bolivia",
            "Chile",
            "Colombia",
            "Costa Rica",
            "Ecuador",
            "El Salvador",
            "Guatemala",
            "Honduras",
            "Nicaragua",
            "Paraguay",
            "Uruguay"
           ]
          },
          {
           "axis": {
            "matches": true
           },
           "label": "Valor Promedio",
           "values": [
            8.68,
            7.65,
            8.87,
            7.63,
            8.35,
            7.92,
            8.01,
            8.25,
            7.83,
            8.3,
            8.68,
            8.7,
            63,
            75,
            67,
            72,
            65,
            77,
            73,
            72,
            76,
            72,
            67,
            47,
            37,
            25,
            33,
            28,
            35,
            23,
            27,
            28,
            24,
            28,
            33,
            47,
            70,
            57,
            73,
            57,
            69,
            53,
            64,
            62,
            54,
            59,
            67,
            76,
            36,
            37,
            33,
            42,
            35,
            46,
            39,
            33,
            41,
            36,
            32,
            32,
            64,
            63,
            67,
            58,
            65,
            54,
            61,
            67,
            59,
            64,
            68,
            68,
            27,
            13,
            60,
            29,
            19,
            52,
            22,
            15,
            63,
            27,
            14,
            59,
            20,
            9,
            72,
            37,
            15,
            48,
            25,
            16,
            59,
            36,
            16,
            48,
            40,
            16,
            44,
            30,
            12,
            58,
            29,
            14,
            58,
            19,
            12,
            69,
            5.21,
            5.68,
            5.54,
            5.38,
            5.47,
            5.83,
            5.79,
            6.06,
            6.16,
            5.81,
            5.5,
            5.23,
            38,
            49,
            41,
            41,
            42,
            55,
            50,
            51,
            49,
            47,
            41,
            34,
            40,
            49,
            41,
            45,
            42,
            47,
            49,
            51,
            47,
            48,
            43,
            36,
            48,
            28,
            41,
            24,
            35,
            21,
            31,
            25,
            27,
            29,
            30,
            50,
            52,
            72,
            59,
            76,
            65,
            79,
            69,
            75,
            73,
            71,
            70,
            50,
            24,
            19,
            20,
            18,
            17,
            16,
            16,
            15,
            19,
            15,
            24,
            19,
            25,
            20,
            20,
            17,
            18,
            18,
            19,
            18,
            22,
            16,
            28,
            19
           ]
          },
          {
           "axis": {
            "matches": true
           },
           "label": "Category",
           "values": [
            "Other",
            "Other",
            "Other",
            "Other",
            "Other",
            "Other",
            "Other",
            "Other",
            "Other",
            "Other",
            "Other",
            "Other",
            "Other",
            "Other",
            "Other",
            "Other",
            "Other",
            "Other",
            "Other",
            "Other",
            "Other",
            "Other",
            "Other",
            "Other",
            "Other",
            "Other",
            "Other",
            "Other",
            "Other",
            "Other",
            "Other",
            "Other",
            "Other",
            "Other",
            "Other",
            "Other",
            "Other",
            "Other",
            "Other",
            "Other",
            "Other",
            "Other",
            "Other",
            "Other",
            "Other",
            "Other",
            "Other",
            "Other",
            "Income",
            "Income",
            "Income",
            "Income",
            "Income",
            "Income",
            "Income",
            "Income",
            "Income",
            "Income",
            "Income",
            "Income",
            "Income",
            "Income",
            "Income",
            "Income",
            "Income",
            "Income",
            "Income",
            "Income",
            "Income",
            "Income",
            "Income",
            "Income",
            "Other",
            "Other",
            "Other",
            "Other",
            "Other",
            "Other",
            "Other",
            "Other",
            "Other",
            "Other",
            "Other",
            "Other",
            "Other",
            "Other",
            "Other",
            "Other",
            "Other",
            "Other",
            "Other",
            "Other",
            "Other",
            "Other",
            "Other",
            "Other",
            "Other",
            "Other",
            "Other",
            "Other",
            "Other",
            "Other",
            "Other",
            "Other",
            "Other",
            "Other",
            "Other",
            "Other",
            "Other",
            "Other",
            "Other",
            "Other",
            "Other",
            "Other",
            "Other",
            "Other",
            "Other",
            "Other",
            "Other",
            "Other",
            "Income",
            "Income",
            "Income",
            "Income",
            "Income",
            "Income",
            "Income",
            "Income",
            "Income",
            "Income",
            "Income",
            "Income",
            "Employment",
            "Employment",
            "Employment",
            "Employment",
            "Employment",
            "Employment",
            "Employment",
            "Employment",
            "Employment",
            "Employment",
            "Employment",
            "Employment",
            "Education",
            "Education",
            "Education",
            "Education",
            "Education",
            "Education",
            "Education",
            "Education",
            "Education",
            "Education",
            "Education",
            "Education",
            "Education",
            "Education",
            "Education",
            "Education",
            "Education",
            "Education",
            "Education",
            "Education",
            "Education",
            "Education",
            "Education",
            "Education",
            "Other",
            "Other",
            "Other",
            "Other",
            "Other",
            "Other",
            "Other",
            "Other",
            "Other",
            "Other",
            "Other",
            "Other",
            "Other",
            "Other",
            "Other",
            "Other",
            "Other",
            "Other",
            "Other",
            "Other",
            "Other",
            "Other",
            "Other",
            "Other"
           ]
          }
         ],
         "hovertemplate": "<b>%{hovertext}</b><br><br>Gender=male<br>%{xaxis.title.text}=%{x}<br>%{yaxis.title.text}=%{y}<extra></extra>",
         "hovertext": [
          "Argentina",
          "Bolivia",
          "Chile",
          "Colombia",
          "Costa Rica",
          "Ecuador",
          "El Salvador",
          "Guatemala",
          "Honduras",
          "Nicaragua",
          "Paraguay",
          "Uruguay",
          "Argentina",
          "Bolivia",
          "Chile",
          "Colombia",
          "Costa Rica",
          "Ecuador",
          "El Salvador",
          "Guatemala",
          "Honduras",
          "Nicaragua",
          "Paraguay",
          "Uruguay",
          "Argentina",
          "Bolivia",
          "Chile",
          "Colombia",
          "Costa Rica",
          "Ecuador",
          "El Salvador",
          "Guatemala",
          "Honduras",
          "Nicaragua",
          "Paraguay",
          "Uruguay",
          "Argentina",
          "Bolivia",
          "Chile",
          "Colombia",
          "Costa Rica",
          "Ecuador",
          "El Salvador",
          "Guatemala",
          "Honduras",
          "Nicaragua",
          "Paraguay",
          "Uruguay",
          "Argentina",
          "Bolivia",
          "Chile",
          "Colombia",
          "Costa Rica",
          "Ecuador",
          "El Salvador",
          "Guatemala",
          "Honduras",
          "Nicaragua",
          "Paraguay",
          "Uruguay",
          "Argentina",
          "Bolivia",
          "Chile",
          "Colombia",
          "Costa Rica",
          "Ecuador",
          "El Salvador",
          "Guatemala",
          "Honduras",
          "Nicaragua",
          "Paraguay",
          "Uruguay",
          "Argentina",
          "Argentina",
          "Argentina",
          "Bolivia",
          "Bolivia",
          "Bolivia",
          "Chile",
          "Chile",
          "Chile",
          "Colombia",
          "Colombia",
          "Colombia",
          "Costa Rica",
          "Costa Rica",
          "Costa Rica",
          "Ecuador",
          "Ecuador",
          "Ecuador",
          "El Salvador",
          "El Salvador",
          "El Salvador",
          "Guatemala",
          "Guatemala",
          "Guatemala",
          "Honduras",
          "Honduras",
          "Honduras",
          "Nicaragua",
          "Nicaragua",
          "Nicaragua",
          "Paraguay",
          "Paraguay",
          "Paraguay",
          "Uruguay",
          "Uruguay",
          "Uruguay",
          "Argentina",
          "Bolivia",
          "Chile",
          "Colombia",
          "Costa Rica",
          "Ecuador",
          "El Salvador",
          "Guatemala",
          "Honduras",
          "Nicaragua",
          "Paraguay",
          "Uruguay",
          "Argentina",
          "Bolivia",
          "Chile",
          "Colombia",
          "Costa Rica",
          "Ecuador",
          "El Salvador",
          "Guatemala",
          "Honduras",
          "Nicaragua",
          "Paraguay",
          "Uruguay",
          "Argentina",
          "Bolivia",
          "Chile",
          "Colombia",
          "Costa Rica",
          "Ecuador",
          "El Salvador",
          "Guatemala",
          "Honduras",
          "Nicaragua",
          "Paraguay",
          "Uruguay",
          "Argentina",
          "Bolivia",
          "Chile",
          "Colombia",
          "Costa Rica",
          "Ecuador",
          "El Salvador",
          "Guatemala",
          "Honduras",
          "Nicaragua",
          "Paraguay",
          "Uruguay",
          "Argentina",
          "Bolivia",
          "Chile",
          "Colombia",
          "Costa Rica",
          "Ecuador",
          "El Salvador",
          "Guatemala",
          "Honduras",
          "Nicaragua",
          "Paraguay",
          "Uruguay",
          "Argentina",
          "Bolivia",
          "Chile",
          "Colombia",
          "Costa Rica",
          "Ecuador",
          "El Salvador",
          "Guatemala",
          "Honduras",
          "Nicaragua",
          "Paraguay",
          "Uruguay",
          "Argentina",
          "Bolivia",
          "Chile",
          "Colombia",
          "Costa Rica",
          "Ecuador",
          "El Salvador",
          "Guatemala",
          "Honduras",
          "Nicaragua",
          "Paraguay",
          "Uruguay"
         ],
         "legendgroup": "male",
         "marker": {
          "color": "#636efa",
          "symbol": "circle"
         },
         "name": "male",
         "showlegend": true,
         "type": "splom"
        },
        {
         "diagonal": {
          "visible": true
         },
         "dimensions": [
          {
           "axis": {
            "matches": true
           },
           "label": "Geography",
           "values": [
            "Argentina",
            "Bolivia",
            "Chile",
            "Colombia",
            "Costa Rica",
            "Ecuador",
            "El Salvador",
            "Guatemala",
            "Honduras",
            "Nicaragua",
            "Paraguay",
            "Uruguay",
            "Argentina",
            "Bolivia",
            "Chile",
            "Colombia",
            "Costa Rica",
            "Ecuador",
            "El Salvador",
            "Guatemala",
            "Honduras",
            "Nicaragua",
            "Paraguay",
            "Uruguay",
            "Argentina",
            "Bolivia",
            "Chile",
            "Colombia",
            "Costa Rica",
            "Ecuador",
            "El Salvador",
            "Guatemala",
            "Honduras",
            "Nicaragua",
            "Paraguay",
            "Uruguay",
            "Argentina",
            "Bolivia",
            "Chile",
            "Colombia",
            "Costa Rica",
            "Ecuador",
            "El Salvador",
            "Guatemala",
            "Honduras",
            "Nicaragua",
            "Paraguay",
            "Uruguay",
            "Argentina",
            "Bolivia",
            "Chile",
            "Colombia",
            "Costa Rica",
            "Ecuador",
            "El Salvador",
            "Guatemala",
            "Honduras",
            "Nicaragua",
            "Paraguay",
            "Uruguay",
            "Argentina",
            "Bolivia",
            "Chile",
            "Colombia",
            "Costa Rica",
            "Ecuador",
            "El Salvador",
            "Guatemala",
            "Honduras",
            "Nicaragua",
            "Paraguay",
            "Uruguay",
            "Argentina",
            "Argentina",
            "Argentina",
            "Bolivia",
            "Bolivia",
            "Bolivia",
            "Chile",
            "Chile",
            "Chile",
            "Colombia",
            "Colombia",
            "Colombia",
            "Costa Rica",
            "Costa Rica",
            "Costa Rica",
            "Ecuador",
            "Ecuador",
            "Ecuador",
            "El Salvador",
            "El Salvador",
            "El Salvador",
            "Guatemala",
            "Guatemala",
            "Guatemala",
            "Honduras",
            "Honduras",
            "Honduras",
            "Nicaragua",
            "Nicaragua",
            "Nicaragua",
            "Paraguay",
            "Paraguay",
            "Paraguay",
            "Uruguay",
            "Uruguay",
            "Uruguay",
            "Argentina",
            "Bolivia",
            "Chile",
            "Colombia",
            "Costa Rica",
            "Ecuador",
            "El Salvador",
            "Guatemala",
            "Honduras",
            "Nicaragua",
            "Paraguay",
            "Uruguay",
            "Argentina",
            "Bolivia",
            "Chile",
            "Colombia",
            "Costa Rica",
            "Ecuador",
            "El Salvador",
            "Guatemala",
            "Honduras",
            "Nicaragua",
            "Paraguay",
            "Uruguay",
            "Argentina",
            "Bolivia",
            "Chile",
            "Colombia",
            "Costa Rica",
            "Ecuador",
            "El Salvador",
            "Guatemala",
            "Honduras",
            "Nicaragua",
            "Paraguay",
            "Uruguay",
            "Argentina",
            "Bolivia",
            "Chile",
            "Colombia",
            "Costa Rica",
            "Ecuador",
            "El Salvador",
            "Guatemala",
            "Honduras",
            "Nicaragua",
            "Paraguay",
            "Uruguay",
            "Argentina",
            "Bolivia",
            "Chile",
            "Colombia",
            "Costa Rica",
            "Ecuador",
            "El Salvador",
            "Guatemala",
            "Honduras",
            "Nicaragua",
            "Paraguay",
            "Uruguay",
            "Argentina",
            "Bolivia",
            "Chile",
            "Colombia",
            "Costa Rica",
            "Ecuador",
            "El Salvador",
            "Guatemala",
            "Honduras",
            "Nicaragua",
            "Paraguay",
            "Uruguay",
            "Argentina",
            "Bolivia",
            "Chile",
            "Colombia",
            "Costa Rica",
            "Ecuador",
            "El Salvador",
            "Guatemala",
            "Honduras",
            "Nicaragua",
            "Paraguay",
            "Uruguay"
           ]
          },
          {
           "axis": {
            "matches": true
           },
           "label": "Valor Promedio",
           "values": [
            7.51,
            6.74,
            7.6,
            6.93,
            7.25,
            6.6,
            6.92,
            7.08,
            7.45,
            7.28,
            7.15,
            8.16,
            67,
            78,
            66,
            77,
            72,
            85,
            79,
            78,
            78,
            77,
            70,
            43,
            33,
            22,
            34,
            23,
            28,
            15,
            21,
            22,
            22,
            23,
            30,
            43,
            55,
            44,
            59,
            47,
            43,
            35,
            46,
            37,
            37,
            43,
            48,
            58,
            49,
            54,
            53,
            57,
            61,
            63,
            51,
            60,
            60,
            56,
            48,
            51,
            51,
            46,
            47,
            43,
            39,
            37,
            49,
            40,
            40,
            44,
            52,
            49,
            16,
            12,
            73,
            23,
            17,
            61,
            11,
            10,
            80,
            16,
            13,
            71,
            14,
            10,
            76,
            23,
            14,
            62,
            19,
            13,
            67,
            26,
            18,
            57,
            33,
            15,
            52,
            22,
            14,
            65,
            21,
            14,
            65,
            13,
            10,
            77,
            5.55,
            5.72,
            5.72,
            5.46,
            5.54,
            5.92,
            5.67,
            6.38,
            6.19,
            5.96,
            5.98,
            5.07,
            62,
            51,
            59,
            59,
            58,
            45,
            50,
            49,
            51,
            53,
            59,
            66,
            60,
            51,
            59,
            55,
            58,
            53,
            51,
            49,
            53,
            52,
            57,
            64,
            46,
            20,
            41,
            18,
            28,
            15,
            25,
            18,
            15,
            28,
            24,
            51,
            54,
            80,
            59,
            82,
            72,
            85,
            75,
            82,
            85,
            72,
            76,
            49,
            36,
            22,
            38,
            25,
            26,
            19,
            24,
            19,
            27,
            26,
            27,
            36,
            35,
            23,
            36,
            24,
            26,
            19,
            20,
            18,
            23,
            24,
            25,
            35
           ]
          },
          {
           "axis": {
            "matches": true
           },
           "label": "Category",
           "values": [
            "Other",
            "Other",
            "Other",
            "Other",
            "Other",
            "Other",
            "Other",
            "Other",
            "Other",
            "Other",
            "Other",
            "Other",
            "Other",
            "Other",
            "Other",
            "Other",
            "Other",
            "Other",
            "Other",
            "Other",
            "Other",
            "Other",
            "Other",
            "Other",
            "Other",
            "Other",
            "Other",
            "Other",
            "Other",
            "Other",
            "Other",
            "Other",
            "Other",
            "Other",
            "Other",
            "Other",
            "Other",
            "Other",
            "Other",
            "Other",
            "Other",
            "Other",
            "Other",
            "Other",
            "Other",
            "Other",
            "Other",
            "Other",
            "Income",
            "Income",
            "Income",
            "Income",
            "Income",
            "Income",
            "Income",
            "Income",
            "Income",
            "Income",
            "Income",
            "Income",
            "Income",
            "Income",
            "Income",
            "Income",
            "Income",
            "Income",
            "Income",
            "Income",
            "Income",
            "Income",
            "Income",
            "Income",
            "Other",
            "Other",
            "Other",
            "Other",
            "Other",
            "Other",
            "Other",
            "Other",
            "Other",
            "Other",
            "Other",
            "Other",
            "Other",
            "Other",
            "Other",
            "Other",
            "Other",
            "Other",
            "Other",
            "Other",
            "Other",
            "Other",
            "Other",
            "Other",
            "Other",
            "Other",
            "Other",
            "Other",
            "Other",
            "Other",
            "Other",
            "Other",
            "Other",
            "Other",
            "Other",
            "Other",
            "Other",
            "Other",
            "Other",
            "Other",
            "Other",
            "Other",
            "Other",
            "Other",
            "Other",
            "Other",
            "Other",
            "Other",
            "Income",
            "Income",
            "Income",
            "Income",
            "Income",
            "Income",
            "Income",
            "Income",
            "Income",
            "Income",
            "Income",
            "Income",
            "Employment",
            "Employment",
            "Employment",
            "Employment",
            "Employment",
            "Employment",
            "Employment",
            "Employment",
            "Employment",
            "Employment",
            "Employment",
            "Employment",
            "Education",
            "Education",
            "Education",
            "Education",
            "Education",
            "Education",
            "Education",
            "Education",
            "Education",
            "Education",
            "Education",
            "Education",
            "Education",
            "Education",
            "Education",
            "Education",
            "Education",
            "Education",
            "Education",
            "Education",
            "Education",
            "Education",
            "Education",
            "Education",
            "Other",
            "Other",
            "Other",
            "Other",
            "Other",
            "Other",
            "Other",
            "Other",
            "Other",
            "Other",
            "Other",
            "Other",
            "Other",
            "Other",
            "Other",
            "Other",
            "Other",
            "Other",
            "Other",
            "Other",
            "Other",
            "Other",
            "Other",
            "Other"
           ]
          }
         ],
         "hovertemplate": "<b>%{hovertext}</b><br><br>Gender=female<br>%{xaxis.title.text}=%{x}<br>%{yaxis.title.text}=%{y}<extra></extra>",
         "hovertext": [
          "Argentina",
          "Bolivia",
          "Chile",
          "Colombia",
          "Costa Rica",
          "Ecuador",
          "El Salvador",
          "Guatemala",
          "Honduras",
          "Nicaragua",
          "Paraguay",
          "Uruguay",
          "Argentina",
          "Bolivia",
          "Chile",
          "Colombia",
          "Costa Rica",
          "Ecuador",
          "El Salvador",
          "Guatemala",
          "Honduras",
          "Nicaragua",
          "Paraguay",
          "Uruguay",
          "Argentina",
          "Bolivia",
          "Chile",
          "Colombia",
          "Costa Rica",
          "Ecuador",
          "El Salvador",
          "Guatemala",
          "Honduras",
          "Nicaragua",
          "Paraguay",
          "Uruguay",
          "Argentina",
          "Bolivia",
          "Chile",
          "Colombia",
          "Costa Rica",
          "Ecuador",
          "El Salvador",
          "Guatemala",
          "Honduras",
          "Nicaragua",
          "Paraguay",
          "Uruguay",
          "Argentina",
          "Bolivia",
          "Chile",
          "Colombia",
          "Costa Rica",
          "Ecuador",
          "El Salvador",
          "Guatemala",
          "Honduras",
          "Nicaragua",
          "Paraguay",
          "Uruguay",
          "Argentina",
          "Bolivia",
          "Chile",
          "Colombia",
          "Costa Rica",
          "Ecuador",
          "El Salvador",
          "Guatemala",
          "Honduras",
          "Nicaragua",
          "Paraguay",
          "Uruguay",
          "Argentina",
          "Argentina",
          "Argentina",
          "Bolivia",
          "Bolivia",
          "Bolivia",
          "Chile",
          "Chile",
          "Chile",
          "Colombia",
          "Colombia",
          "Colombia",
          "Costa Rica",
          "Costa Rica",
          "Costa Rica",
          "Ecuador",
          "Ecuador",
          "Ecuador",
          "El Salvador",
          "El Salvador",
          "El Salvador",
          "Guatemala",
          "Guatemala",
          "Guatemala",
          "Honduras",
          "Honduras",
          "Honduras",
          "Nicaragua",
          "Nicaragua",
          "Nicaragua",
          "Paraguay",
          "Paraguay",
          "Paraguay",
          "Uruguay",
          "Uruguay",
          "Uruguay",
          "Argentina",
          "Bolivia",
          "Chile",
          "Colombia",
          "Costa Rica",
          "Ecuador",
          "El Salvador",
          "Guatemala",
          "Honduras",
          "Nicaragua",
          "Paraguay",
          "Uruguay",
          "Argentina",
          "Bolivia",
          "Chile",
          "Colombia",
          "Costa Rica",
          "Ecuador",
          "El Salvador",
          "Guatemala",
          "Honduras",
          "Nicaragua",
          "Paraguay",
          "Uruguay",
          "Argentina",
          "Bolivia",
          "Chile",
          "Colombia",
          "Costa Rica",
          "Ecuador",
          "El Salvador",
          "Guatemala",
          "Honduras",
          "Nicaragua",
          "Paraguay",
          "Uruguay",
          "Argentina",
          "Bolivia",
          "Chile",
          "Colombia",
          "Costa Rica",
          "Ecuador",
          "El Salvador",
          "Guatemala",
          "Honduras",
          "Nicaragua",
          "Paraguay",
          "Uruguay",
          "Argentina",
          "Bolivia",
          "Chile",
          "Colombia",
          "Costa Rica",
          "Ecuador",
          "El Salvador",
          "Guatemala",
          "Honduras",
          "Nicaragua",
          "Paraguay",
          "Uruguay",
          "Argentina",
          "Bolivia",
          "Chile",
          "Colombia",
          "Costa Rica",
          "Ecuador",
          "El Salvador",
          "Guatemala",
          "Honduras",
          "Nicaragua",
          "Paraguay",
          "Uruguay",
          "Argentina",
          "Bolivia",
          "Chile",
          "Colombia",
          "Costa Rica",
          "Ecuador",
          "El Salvador",
          "Guatemala",
          "Honduras",
          "Nicaragua",
          "Paraguay",
          "Uruguay"
         ],
         "legendgroup": "female",
         "marker": {
          "color": "#EF553B",
          "symbol": "circle"
         },
         "name": "female",
         "showlegend": true,
         "type": "splom"
        }
       ],
       "layout": {
        "dragmode": "select",
        "legend": {
         "title": {
          "text": "Gender"
         },
         "tracegroupgap": 0
        },
        "template": {
         "data": {
          "bar": [
           {
            "error_x": {
             "color": "#2a3f5f"
            },
            "error_y": {
             "color": "#2a3f5f"
            },
            "marker": {
             "line": {
              "color": "#E5ECF6",
              "width": 0.5
             },
             "pattern": {
              "fillmode": "overlay",
              "size": 10,
              "solidity": 0.2
             }
            },
            "type": "bar"
           }
          ],
          "barpolar": [
           {
            "marker": {
             "line": {
              "color": "#E5ECF6",
              "width": 0.5
             },
             "pattern": {
              "fillmode": "overlay",
              "size": 10,
              "solidity": 0.2
             }
            },
            "type": "barpolar"
           }
          ],
          "carpet": [
           {
            "aaxis": {
             "endlinecolor": "#2a3f5f",
             "gridcolor": "white",
             "linecolor": "white",
             "minorgridcolor": "white",
             "startlinecolor": "#2a3f5f"
            },
            "baxis": {
             "endlinecolor": "#2a3f5f",
             "gridcolor": "white",
             "linecolor": "white",
             "minorgridcolor": "white",
             "startlinecolor": "#2a3f5f"
            },
            "type": "carpet"
           }
          ],
          "choropleth": [
           {
            "colorbar": {
             "outlinewidth": 0,
             "ticks": ""
            },
            "type": "choropleth"
           }
          ],
          "contour": [
           {
            "colorbar": {
             "outlinewidth": 0,
             "ticks": ""
            },
            "colorscale": [
             [
              0,
              "#0d0887"
             ],
             [
              0.1111111111111111,
              "#46039f"
             ],
             [
              0.2222222222222222,
              "#7201a8"
             ],
             [
              0.3333333333333333,
              "#9c179e"
             ],
             [
              0.4444444444444444,
              "#bd3786"
             ],
             [
              0.5555555555555556,
              "#d8576b"
             ],
             [
              0.6666666666666666,
              "#ed7953"
             ],
             [
              0.7777777777777778,
              "#fb9f3a"
             ],
             [
              0.8888888888888888,
              "#fdca26"
             ],
             [
              1,
              "#f0f921"
             ]
            ],
            "type": "contour"
           }
          ],
          "contourcarpet": [
           {
            "colorbar": {
             "outlinewidth": 0,
             "ticks": ""
            },
            "type": "contourcarpet"
           }
          ],
          "heatmap": [
           {
            "colorbar": {
             "outlinewidth": 0,
             "ticks": ""
            },
            "colorscale": [
             [
              0,
              "#0d0887"
             ],
             [
              0.1111111111111111,
              "#46039f"
             ],
             [
              0.2222222222222222,
              "#7201a8"
             ],
             [
              0.3333333333333333,
              "#9c179e"
             ],
             [
              0.4444444444444444,
              "#bd3786"
             ],
             [
              0.5555555555555556,
              "#d8576b"
             ],
             [
              0.6666666666666666,
              "#ed7953"
             ],
             [
              0.7777777777777778,
              "#fb9f3a"
             ],
             [
              0.8888888888888888,
              "#fdca26"
             ],
             [
              1,
              "#f0f921"
             ]
            ],
            "type": "heatmap"
           }
          ],
          "heatmapgl": [
           {
            "colorbar": {
             "outlinewidth": 0,
             "ticks": ""
            },
            "colorscale": [
             [
              0,
              "#0d0887"
             ],
             [
              0.1111111111111111,
              "#46039f"
             ],
             [
              0.2222222222222222,
              "#7201a8"
             ],
             [
              0.3333333333333333,
              "#9c179e"
             ],
             [
              0.4444444444444444,
              "#bd3786"
             ],
             [
              0.5555555555555556,
              "#d8576b"
             ],
             [
              0.6666666666666666,
              "#ed7953"
             ],
             [
              0.7777777777777778,
              "#fb9f3a"
             ],
             [
              0.8888888888888888,
              "#fdca26"
             ],
             [
              1,
              "#f0f921"
             ]
            ],
            "type": "heatmapgl"
           }
          ],
          "histogram": [
           {
            "marker": {
             "pattern": {
              "fillmode": "overlay",
              "size": 10,
              "solidity": 0.2
             }
            },
            "type": "histogram"
           }
          ],
          "histogram2d": [
           {
            "colorbar": {
             "outlinewidth": 0,
             "ticks": ""
            },
            "colorscale": [
             [
              0,
              "#0d0887"
             ],
             [
              0.1111111111111111,
              "#46039f"
             ],
             [
              0.2222222222222222,
              "#7201a8"
             ],
             [
              0.3333333333333333,
              "#9c179e"
             ],
             [
              0.4444444444444444,
              "#bd3786"
             ],
             [
              0.5555555555555556,
              "#d8576b"
             ],
             [
              0.6666666666666666,
              "#ed7953"
             ],
             [
              0.7777777777777778,
              "#fb9f3a"
             ],
             [
              0.8888888888888888,
              "#fdca26"
             ],
             [
              1,
              "#f0f921"
             ]
            ],
            "type": "histogram2d"
           }
          ],
          "histogram2dcontour": [
           {
            "colorbar": {
             "outlinewidth": 0,
             "ticks": ""
            },
            "colorscale": [
             [
              0,
              "#0d0887"
             ],
             [
              0.1111111111111111,
              "#46039f"
             ],
             [
              0.2222222222222222,
              "#7201a8"
             ],
             [
              0.3333333333333333,
              "#9c179e"
             ],
             [
              0.4444444444444444,
              "#bd3786"
             ],
             [
              0.5555555555555556,
              "#d8576b"
             ],
             [
              0.6666666666666666,
              "#ed7953"
             ],
             [
              0.7777777777777778,
              "#fb9f3a"
             ],
             [
              0.8888888888888888,
              "#fdca26"
             ],
             [
              1,
              "#f0f921"
             ]
            ],
            "type": "histogram2dcontour"
           }
          ],
          "mesh3d": [
           {
            "colorbar": {
             "outlinewidth": 0,
             "ticks": ""
            },
            "type": "mesh3d"
           }
          ],
          "parcoords": [
           {
            "line": {
             "colorbar": {
              "outlinewidth": 0,
              "ticks": ""
             }
            },
            "type": "parcoords"
           }
          ],
          "pie": [
           {
            "automargin": true,
            "type": "pie"
           }
          ],
          "scatter": [
           {
            "fillpattern": {
             "fillmode": "overlay",
             "size": 10,
             "solidity": 0.2
            },
            "type": "scatter"
           }
          ],
          "scatter3d": [
           {
            "line": {
             "colorbar": {
              "outlinewidth": 0,
              "ticks": ""
             }
            },
            "marker": {
             "colorbar": {
              "outlinewidth": 0,
              "ticks": ""
             }
            },
            "type": "scatter3d"
           }
          ],
          "scattercarpet": [
           {
            "marker": {
             "colorbar": {
              "outlinewidth": 0,
              "ticks": ""
             }
            },
            "type": "scattercarpet"
           }
          ],
          "scattergeo": [
           {
            "marker": {
             "colorbar": {
              "outlinewidth": 0,
              "ticks": ""
             }
            },
            "type": "scattergeo"
           }
          ],
          "scattergl": [
           {
            "marker": {
             "colorbar": {
              "outlinewidth": 0,
              "ticks": ""
             }
            },
            "type": "scattergl"
           }
          ],
          "scattermapbox": [
           {
            "marker": {
             "colorbar": {
              "outlinewidth": 0,
              "ticks": ""
             }
            },
            "type": "scattermapbox"
           }
          ],
          "scatterpolar": [
           {
            "marker": {
             "colorbar": {
              "outlinewidth": 0,
              "ticks": ""
             }
            },
            "type": "scatterpolar"
           }
          ],
          "scatterpolargl": [
           {
            "marker": {
             "colorbar": {
              "outlinewidth": 0,
              "ticks": ""
             }
            },
            "type": "scatterpolargl"
           }
          ],
          "scatterternary": [
           {
            "marker": {
             "colorbar": {
              "outlinewidth": 0,
              "ticks": ""
             }
            },
            "type": "scatterternary"
           }
          ],
          "surface": [
           {
            "colorbar": {
             "outlinewidth": 0,
             "ticks": ""
            },
            "colorscale": [
             [
              0,
              "#0d0887"
             ],
             [
              0.1111111111111111,
              "#46039f"
             ],
             [
              0.2222222222222222,
              "#7201a8"
             ],
             [
              0.3333333333333333,
              "#9c179e"
             ],
             [
              0.4444444444444444,
              "#bd3786"
             ],
             [
              0.5555555555555556,
              "#d8576b"
             ],
             [
              0.6666666666666666,
              "#ed7953"
             ],
             [
              0.7777777777777778,
              "#fb9f3a"
             ],
             [
              0.8888888888888888,
              "#fdca26"
             ],
             [
              1,
              "#f0f921"
             ]
            ],
            "type": "surface"
           }
          ],
          "table": [
           {
            "cells": {
             "fill": {
              "color": "#EBF0F8"
             },
             "line": {
              "color": "white"
             }
            },
            "header": {
             "fill": {
              "color": "#C8D4E3"
             },
             "line": {
              "color": "white"
             }
            },
            "type": "table"
           }
          ]
         },
         "layout": {
          "annotationdefaults": {
           "arrowcolor": "#2a3f5f",
           "arrowhead": 0,
           "arrowwidth": 1
          },
          "autotypenumbers": "strict",
          "coloraxis": {
           "colorbar": {
            "outlinewidth": 0,
            "ticks": ""
           }
          },
          "colorscale": {
           "diverging": [
            [
             0,
             "#8e0152"
            ],
            [
             0.1,
             "#c51b7d"
            ],
            [
             0.2,
             "#de77ae"
            ],
            [
             0.3,
             "#f1b6da"
            ],
            [
             0.4,
             "#fde0ef"
            ],
            [
             0.5,
             "#f7f7f7"
            ],
            [
             0.6,
             "#e6f5d0"
            ],
            [
             0.7,
             "#b8e186"
            ],
            [
             0.8,
             "#7fbc41"
            ],
            [
             0.9,
             "#4d9221"
            ],
            [
             1,
             "#276419"
            ]
           ],
           "sequential": [
            [
             0,
             "#0d0887"
            ],
            [
             0.1111111111111111,
             "#46039f"
            ],
            [
             0.2222222222222222,
             "#7201a8"
            ],
            [
             0.3333333333333333,
             "#9c179e"
            ],
            [
             0.4444444444444444,
             "#bd3786"
            ],
            [
             0.5555555555555556,
             "#d8576b"
            ],
            [
             0.6666666666666666,
             "#ed7953"
            ],
            [
             0.7777777777777778,
             "#fb9f3a"
            ],
            [
             0.8888888888888888,
             "#fdca26"
            ],
            [
             1,
             "#f0f921"
            ]
           ],
           "sequentialminus": [
            [
             0,
             "#0d0887"
            ],
            [
             0.1111111111111111,
             "#46039f"
            ],
            [
             0.2222222222222222,
             "#7201a8"
            ],
            [
             0.3333333333333333,
             "#9c179e"
            ],
            [
             0.4444444444444444,
             "#bd3786"
            ],
            [
             0.5555555555555556,
             "#d8576b"
            ],
            [
             0.6666666666666666,
             "#ed7953"
            ],
            [
             0.7777777777777778,
             "#fb9f3a"
            ],
            [
             0.8888888888888888,
             "#fdca26"
            ],
            [
             1,
             "#f0f921"
            ]
           ]
          },
          "colorway": [
           "#636efa",
           "#EF553B",
           "#00cc96",
           "#ab63fa",
           "#FFA15A",
           "#19d3f3",
           "#FF6692",
           "#B6E880",
           "#FF97FF",
           "#FECB52"
          ],
          "font": {
           "color": "#2a3f5f"
          },
          "geo": {
           "bgcolor": "white",
           "lakecolor": "white",
           "landcolor": "#E5ECF6",
           "showlakes": true,
           "showland": true,
           "subunitcolor": "white"
          },
          "hoverlabel": {
           "align": "left"
          },
          "hovermode": "closest",
          "mapbox": {
           "style": "light"
          },
          "paper_bgcolor": "white",
          "plot_bgcolor": "#E5ECF6",
          "polar": {
           "angularaxis": {
            "gridcolor": "white",
            "linecolor": "white",
            "ticks": ""
           },
           "bgcolor": "#E5ECF6",
           "radialaxis": {
            "gridcolor": "white",
            "linecolor": "white",
            "ticks": ""
           }
          },
          "scene": {
           "xaxis": {
            "backgroundcolor": "#E5ECF6",
            "gridcolor": "white",
            "gridwidth": 2,
            "linecolor": "white",
            "showbackground": true,
            "ticks": "",
            "zerolinecolor": "white"
           },
           "yaxis": {
            "backgroundcolor": "#E5ECF6",
            "gridcolor": "white",
            "gridwidth": 2,
            "linecolor": "white",
            "showbackground": true,
            "ticks": "",
            "zerolinecolor": "white"
           },
           "zaxis": {
            "backgroundcolor": "#E5ECF6",
            "gridcolor": "white",
            "gridwidth": 2,
            "linecolor": "white",
            "showbackground": true,
            "ticks": "",
            "zerolinecolor": "white"
           }
          },
          "shapedefaults": {
           "line": {
            "color": "#2a3f5f"
           }
          },
          "ternary": {
           "aaxis": {
            "gridcolor": "white",
            "linecolor": "white",
            "ticks": ""
           },
           "baxis": {
            "gridcolor": "white",
            "linecolor": "white",
            "ticks": ""
           },
           "bgcolor": "#E5ECF6",
           "caxis": {
            "gridcolor": "white",
            "linecolor": "white",
            "ticks": ""
           }
          },
          "title": {
           "x": 0.05
          },
          "xaxis": {
           "automargin": true,
           "gridcolor": "white",
           "linecolor": "white",
           "ticks": "",
           "title": {
            "standoff": 15
           },
           "zerolinecolor": "white",
           "zerolinewidth": 2
          },
          "yaxis": {
           "automargin": true,
           "gridcolor": "white",
           "linecolor": "white",
           "ticks": "",
           "title": {
            "standoff": 15
           },
           "zerolinecolor": "white",
           "zerolinewidth": 2
          }
         }
        },
        "title": {
         "text": "Matriz de Dispersión: Comparación por Países y Género"
        }
       }
      }
     },
     "metadata": {},
     "output_type": "display_data"
    }
   ],
   "source": [
    "# Visualización 5: Matriz de dispersión para comparar países y género\n",
    "# Crear una matriz de dispersión para todos los países\n",
    "fig = px.scatter_matrix(\n",
    "    data_latam[data_latam.Gender!='combined'],  # Filtrar por género\n",
    "    dimensions=[\"Value\", \"Category\", \"Geography\"],  # Incluir dimensiones de análisis (puedes agregar más variables)\n",
    "    color=\"Gender\",  # Diferenciar por género\n",
    "    # symbol=\"Geography\",  # Usar un símbolo diferente para cada país\n",
    "    title=\"Matriz de Dispersión: Comparación por Países y Género\",\n",
    "    labels={\"Value\": \"Valor Promedio\"},\n",
    "    hover_name=\"Geography\"\n",
    ")\n",
    "\n",
    "# Mostrar la gráfica\n",
    "fig.update_traces(diagonal_visible=True)  # Mostrar histogramas en la diagonal\n",
    "fig.show()\n"
   ]
  },
  {
   "cell_type": "code",
   "execution_count": 21,
   "id": "da8ee591",
   "metadata": {},
   "outputs": [
    {
     "name": "stderr",
     "output_type": "stream",
     "text": [
      "d:\\Programs\\Anaconda3\\Lib\\site-packages\\plotly\\express\\_core.py:2065: FutureWarning:\n",
      "\n",
      "When grouping with a length-1 list-like, you will need to pass a length-1 tuple to get_group in a future version of pandas. Pass `(name,)` instead of `name` to silence this warning.\n",
      "\n"
     ]
    },
    {
     "data": {
      "application/vnd.plotly.v1+json": {
       "config": {
        "plotlyServerURL": "https://plot.ly"
       },
       "data": [
        {
         "hovertemplate": "<b>%{hovertext}</b><br><br>Género=combined<br>País=%{x}<br>Valor Promedio=%{marker.size}<extra></extra>",
         "hovertext": [
          "Argentina",
          "Bolivia",
          "Chile",
          "Colombia",
          "Costa Rica",
          "Ecuador",
          "El Salvador",
          "Guatemala",
          "Honduras",
          "Nicaragua",
          "Paraguay",
          "Uruguay"
         ],
         "legendgroup": "combined",
         "marker": {
          "color": "#636efa",
          "size": [
           46.025,
           44.054375,
           46.17625,
           44.16625,
           44.39125,
           43.38375,
           44.20125,
           43.685,
           43.928125,
           44.105625,
           45.042500000000004,
           46.155625
          ],
          "sizemode": "area",
          "sizeref": 0.115440625,
          "symbol": "circle"
         },
         "mode": "markers",
         "name": "combined",
         "orientation": "v",
         "showlegend": true,
         "type": "scatter",
         "x": [
          "Argentina",
          "Bolivia",
          "Chile",
          "Colombia",
          "Costa Rica",
          "Ecuador",
          "El Salvador",
          "Guatemala",
          "Honduras",
          "Nicaragua",
          "Paraguay",
          "Uruguay"
         ],
         "xaxis": "x",
         "y": [
          46.025,
          44.054375,
          46.17625,
          44.16625,
          44.39125,
          43.38375,
          44.20125,
          43.685,
          43.928125,
          44.105625,
          45.042500000000004,
          46.155625
         ],
         "yaxis": "y"
        },
        {
         "hovertemplate": "<b>%{hovertext}</b><br><br>Género=female<br>País=%{x}<br>Valor Promedio=%{marker.size}<extra></extra>",
         "hovertext": [
          "Argentina",
          "Bolivia",
          "Chile",
          "Colombia",
          "Costa Rica",
          "Ecuador",
          "El Salvador",
          "Guatemala",
          "Honduras",
          "Nicaragua",
          "Paraguay",
          "Uruguay"
         ],
         "legendgroup": "female",
         "marker": {
          "color": "#EF553B",
          "size": [
           41.37875,
           37.77875,
           41.582499999999996,
           38.899375,
           38.986875,
           36.4075,
           37.661875,
           36.65375,
           37.79,
           38.265,
           39.320625,
           41.139375
          ],
          "sizemode": "area",
          "sizeref": 0.115440625,
          "symbol": "circle"
         },
         "mode": "markers",
         "name": "female",
         "orientation": "v",
         "showlegend": true,
         "type": "scatter",
         "x": [
          "Argentina",
          "Bolivia",
          "Chile",
          "Colombia",
          "Costa Rica",
          "Ecuador",
          "El Salvador",
          "Guatemala",
          "Honduras",
          "Nicaragua",
          "Paraguay",
          "Uruguay"
         ],
         "xaxis": "x",
         "y": [
          41.37875,
          37.77875,
          41.582499999999996,
          38.899375,
          38.986875,
          36.4075,
          37.661875,
          36.65375,
          37.79,
          38.265,
          39.320625,
          41.139375
         ],
         "yaxis": "y"
        },
        {
         "hovertemplate": "<b>%{hovertext}</b><br><br>Género=male<br>País=%{x}<br>Valor Promedio=%{marker.size}<extra></extra>",
         "hovertext": [
          "Argentina",
          "Bolivia",
          "Chile",
          "Colombia",
          "Costa Rica",
          "Ecuador",
          "El Salvador",
          "Guatemala",
          "Honduras",
          "Nicaragua",
          "Paraguay",
          "Uruguay"
         ],
         "legendgroup": "male",
         "marker": {
          "color": "#00cc96",
          "size": [
           38.180625,
           37.958125,
           38.088125,
           36.938125,
           37.676249999999996,
           37.671875,
           38.2375,
           38.206875,
           37.811875,
           37.444375,
           38.636250000000004,
           36.995625000000004
          ],
          "sizemode": "area",
          "sizeref": 0.115440625,
          "symbol": "circle"
         },
         "mode": "markers",
         "name": "male",
         "orientation": "v",
         "showlegend": true,
         "type": "scatter",
         "x": [
          "Argentina",
          "Bolivia",
          "Chile",
          "Colombia",
          "Costa Rica",
          "Ecuador",
          "El Salvador",
          "Guatemala",
          "Honduras",
          "Nicaragua",
          "Paraguay",
          "Uruguay"
         ],
         "xaxis": "x",
         "y": [
          38.180625,
          37.958125,
          38.088125,
          36.938125,
          37.676249999999996,
          37.671875,
          38.2375,
          38.206875,
          37.811875,
          37.444375,
          38.636250000000004,
          36.995625000000004
         ],
         "yaxis": "y"
        }
       ],
       "layout": {
        "legend": {
         "itemsizing": "constant",
         "title": {
          "text": "Género"
         },
         "tracegroupgap": 0
        },
        "template": {
         "data": {
          "bar": [
           {
            "error_x": {
             "color": "#2a3f5f"
            },
            "error_y": {
             "color": "#2a3f5f"
            },
            "marker": {
             "line": {
              "color": "white",
              "width": 0.5
             },
             "pattern": {
              "fillmode": "overlay",
              "size": 10,
              "solidity": 0.2
             }
            },
            "type": "bar"
           }
          ],
          "barpolar": [
           {
            "marker": {
             "line": {
              "color": "white",
              "width": 0.5
             },
             "pattern": {
              "fillmode": "overlay",
              "size": 10,
              "solidity": 0.2
             }
            },
            "type": "barpolar"
           }
          ],
          "carpet": [
           {
            "aaxis": {
             "endlinecolor": "#2a3f5f",
             "gridcolor": "#C8D4E3",
             "linecolor": "#C8D4E3",
             "minorgridcolor": "#C8D4E3",
             "startlinecolor": "#2a3f5f"
            },
            "baxis": {
             "endlinecolor": "#2a3f5f",
             "gridcolor": "#C8D4E3",
             "linecolor": "#C8D4E3",
             "minorgridcolor": "#C8D4E3",
             "startlinecolor": "#2a3f5f"
            },
            "type": "carpet"
           }
          ],
          "choropleth": [
           {
            "colorbar": {
             "outlinewidth": 0,
             "ticks": ""
            },
            "type": "choropleth"
           }
          ],
          "contour": [
           {
            "colorbar": {
             "outlinewidth": 0,
             "ticks": ""
            },
            "colorscale": [
             [
              0,
              "#0d0887"
             ],
             [
              0.1111111111111111,
              "#46039f"
             ],
             [
              0.2222222222222222,
              "#7201a8"
             ],
             [
              0.3333333333333333,
              "#9c179e"
             ],
             [
              0.4444444444444444,
              "#bd3786"
             ],
             [
              0.5555555555555556,
              "#d8576b"
             ],
             [
              0.6666666666666666,
              "#ed7953"
             ],
             [
              0.7777777777777778,
              "#fb9f3a"
             ],
             [
              0.8888888888888888,
              "#fdca26"
             ],
             [
              1,
              "#f0f921"
             ]
            ],
            "type": "contour"
           }
          ],
          "contourcarpet": [
           {
            "colorbar": {
             "outlinewidth": 0,
             "ticks": ""
            },
            "type": "contourcarpet"
           }
          ],
          "heatmap": [
           {
            "colorbar": {
             "outlinewidth": 0,
             "ticks": ""
            },
            "colorscale": [
             [
              0,
              "#0d0887"
             ],
             [
              0.1111111111111111,
              "#46039f"
             ],
             [
              0.2222222222222222,
              "#7201a8"
             ],
             [
              0.3333333333333333,
              "#9c179e"
             ],
             [
              0.4444444444444444,
              "#bd3786"
             ],
             [
              0.5555555555555556,
              "#d8576b"
             ],
             [
              0.6666666666666666,
              "#ed7953"
             ],
             [
              0.7777777777777778,
              "#fb9f3a"
             ],
             [
              0.8888888888888888,
              "#fdca26"
             ],
             [
              1,
              "#f0f921"
             ]
            ],
            "type": "heatmap"
           }
          ],
          "heatmapgl": [
           {
            "colorbar": {
             "outlinewidth": 0,
             "ticks": ""
            },
            "colorscale": [
             [
              0,
              "#0d0887"
             ],
             [
              0.1111111111111111,
              "#46039f"
             ],
             [
              0.2222222222222222,
              "#7201a8"
             ],
             [
              0.3333333333333333,
              "#9c179e"
             ],
             [
              0.4444444444444444,
              "#bd3786"
             ],
             [
              0.5555555555555556,
              "#d8576b"
             ],
             [
              0.6666666666666666,
              "#ed7953"
             ],
             [
              0.7777777777777778,
              "#fb9f3a"
             ],
             [
              0.8888888888888888,
              "#fdca26"
             ],
             [
              1,
              "#f0f921"
             ]
            ],
            "type": "heatmapgl"
           }
          ],
          "histogram": [
           {
            "marker": {
             "pattern": {
              "fillmode": "overlay",
              "size": 10,
              "solidity": 0.2
             }
            },
            "type": "histogram"
           }
          ],
          "histogram2d": [
           {
            "colorbar": {
             "outlinewidth": 0,
             "ticks": ""
            },
            "colorscale": [
             [
              0,
              "#0d0887"
             ],
             [
              0.1111111111111111,
              "#46039f"
             ],
             [
              0.2222222222222222,
              "#7201a8"
             ],
             [
              0.3333333333333333,
              "#9c179e"
             ],
             [
              0.4444444444444444,
              "#bd3786"
             ],
             [
              0.5555555555555556,
              "#d8576b"
             ],
             [
              0.6666666666666666,
              "#ed7953"
             ],
             [
              0.7777777777777778,
              "#fb9f3a"
             ],
             [
              0.8888888888888888,
              "#fdca26"
             ],
             [
              1,
              "#f0f921"
             ]
            ],
            "type": "histogram2d"
           }
          ],
          "histogram2dcontour": [
           {
            "colorbar": {
             "outlinewidth": 0,
             "ticks": ""
            },
            "colorscale": [
             [
              0,
              "#0d0887"
             ],
             [
              0.1111111111111111,
              "#46039f"
             ],
             [
              0.2222222222222222,
              "#7201a8"
             ],
             [
              0.3333333333333333,
              "#9c179e"
             ],
             [
              0.4444444444444444,
              "#bd3786"
             ],
             [
              0.5555555555555556,
              "#d8576b"
             ],
             [
              0.6666666666666666,
              "#ed7953"
             ],
             [
              0.7777777777777778,
              "#fb9f3a"
             ],
             [
              0.8888888888888888,
              "#fdca26"
             ],
             [
              1,
              "#f0f921"
             ]
            ],
            "type": "histogram2dcontour"
           }
          ],
          "mesh3d": [
           {
            "colorbar": {
             "outlinewidth": 0,
             "ticks": ""
            },
            "type": "mesh3d"
           }
          ],
          "parcoords": [
           {
            "line": {
             "colorbar": {
              "outlinewidth": 0,
              "ticks": ""
             }
            },
            "type": "parcoords"
           }
          ],
          "pie": [
           {
            "automargin": true,
            "type": "pie"
           }
          ],
          "scatter": [
           {
            "fillpattern": {
             "fillmode": "overlay",
             "size": 10,
             "solidity": 0.2
            },
            "type": "scatter"
           }
          ],
          "scatter3d": [
           {
            "line": {
             "colorbar": {
              "outlinewidth": 0,
              "ticks": ""
             }
            },
            "marker": {
             "colorbar": {
              "outlinewidth": 0,
              "ticks": ""
             }
            },
            "type": "scatter3d"
           }
          ],
          "scattercarpet": [
           {
            "marker": {
             "colorbar": {
              "outlinewidth": 0,
              "ticks": ""
             }
            },
            "type": "scattercarpet"
           }
          ],
          "scattergeo": [
           {
            "marker": {
             "colorbar": {
              "outlinewidth": 0,
              "ticks": ""
             }
            },
            "type": "scattergeo"
           }
          ],
          "scattergl": [
           {
            "marker": {
             "colorbar": {
              "outlinewidth": 0,
              "ticks": ""
             }
            },
            "type": "scattergl"
           }
          ],
          "scattermapbox": [
           {
            "marker": {
             "colorbar": {
              "outlinewidth": 0,
              "ticks": ""
             }
            },
            "type": "scattermapbox"
           }
          ],
          "scatterpolar": [
           {
            "marker": {
             "colorbar": {
              "outlinewidth": 0,
              "ticks": ""
             }
            },
            "type": "scatterpolar"
           }
          ],
          "scatterpolargl": [
           {
            "marker": {
             "colorbar": {
              "outlinewidth": 0,
              "ticks": ""
             }
            },
            "type": "scatterpolargl"
           }
          ],
          "scatterternary": [
           {
            "marker": {
             "colorbar": {
              "outlinewidth": 0,
              "ticks": ""
             }
            },
            "type": "scatterternary"
           }
          ],
          "surface": [
           {
            "colorbar": {
             "outlinewidth": 0,
             "ticks": ""
            },
            "colorscale": [
             [
              0,
              "#0d0887"
             ],
             [
              0.1111111111111111,
              "#46039f"
             ],
             [
              0.2222222222222222,
              "#7201a8"
             ],
             [
              0.3333333333333333,
              "#9c179e"
             ],
             [
              0.4444444444444444,
              "#bd3786"
             ],
             [
              0.5555555555555556,
              "#d8576b"
             ],
             [
              0.6666666666666666,
              "#ed7953"
             ],
             [
              0.7777777777777778,
              "#fb9f3a"
             ],
             [
              0.8888888888888888,
              "#fdca26"
             ],
             [
              1,
              "#f0f921"
             ]
            ],
            "type": "surface"
           }
          ],
          "table": [
           {
            "cells": {
             "fill": {
              "color": "#EBF0F8"
             },
             "line": {
              "color": "white"
             }
            },
            "header": {
             "fill": {
              "color": "#C8D4E3"
             },
             "line": {
              "color": "white"
             }
            },
            "type": "table"
           }
          ]
         },
         "layout": {
          "annotationdefaults": {
           "arrowcolor": "#2a3f5f",
           "arrowhead": 0,
           "arrowwidth": 1
          },
          "autotypenumbers": "strict",
          "coloraxis": {
           "colorbar": {
            "outlinewidth": 0,
            "ticks": ""
           }
          },
          "colorscale": {
           "diverging": [
            [
             0,
             "#8e0152"
            ],
            [
             0.1,
             "#c51b7d"
            ],
            [
             0.2,
             "#de77ae"
            ],
            [
             0.3,
             "#f1b6da"
            ],
            [
             0.4,
             "#fde0ef"
            ],
            [
             0.5,
             "#f7f7f7"
            ],
            [
             0.6,
             "#e6f5d0"
            ],
            [
             0.7,
             "#b8e186"
            ],
            [
             0.8,
             "#7fbc41"
            ],
            [
             0.9,
             "#4d9221"
            ],
            [
             1,
             "#276419"
            ]
           ],
           "sequential": [
            [
             0,
             "#0d0887"
            ],
            [
             0.1111111111111111,
             "#46039f"
            ],
            [
             0.2222222222222222,
             "#7201a8"
            ],
            [
             0.3333333333333333,
             "#9c179e"
            ],
            [
             0.4444444444444444,
             "#bd3786"
            ],
            [
             0.5555555555555556,
             "#d8576b"
            ],
            [
             0.6666666666666666,
             "#ed7953"
            ],
            [
             0.7777777777777778,
             "#fb9f3a"
            ],
            [
             0.8888888888888888,
             "#fdca26"
            ],
            [
             1,
             "#f0f921"
            ]
           ],
           "sequentialminus": [
            [
             0,
             "#0d0887"
            ],
            [
             0.1111111111111111,
             "#46039f"
            ],
            [
             0.2222222222222222,
             "#7201a8"
            ],
            [
             0.3333333333333333,
             "#9c179e"
            ],
            [
             0.4444444444444444,
             "#bd3786"
            ],
            [
             0.5555555555555556,
             "#d8576b"
            ],
            [
             0.6666666666666666,
             "#ed7953"
            ],
            [
             0.7777777777777778,
             "#fb9f3a"
            ],
            [
             0.8888888888888888,
             "#fdca26"
            ],
            [
             1,
             "#f0f921"
            ]
           ]
          },
          "colorway": [
           "#636efa",
           "#EF553B",
           "#00cc96",
           "#ab63fa",
           "#FFA15A",
           "#19d3f3",
           "#FF6692",
           "#B6E880",
           "#FF97FF",
           "#FECB52"
          ],
          "font": {
           "color": "#2a3f5f"
          },
          "geo": {
           "bgcolor": "white",
           "lakecolor": "white",
           "landcolor": "white",
           "showlakes": true,
           "showland": true,
           "subunitcolor": "#C8D4E3"
          },
          "hoverlabel": {
           "align": "left"
          },
          "hovermode": "closest",
          "mapbox": {
           "style": "light"
          },
          "paper_bgcolor": "white",
          "plot_bgcolor": "white",
          "polar": {
           "angularaxis": {
            "gridcolor": "#EBF0F8",
            "linecolor": "#EBF0F8",
            "ticks": ""
           },
           "bgcolor": "white",
           "radialaxis": {
            "gridcolor": "#EBF0F8",
            "linecolor": "#EBF0F8",
            "ticks": ""
           }
          },
          "scene": {
           "xaxis": {
            "backgroundcolor": "white",
            "gridcolor": "#DFE8F3",
            "gridwidth": 2,
            "linecolor": "#EBF0F8",
            "showbackground": true,
            "ticks": "",
            "zerolinecolor": "#EBF0F8"
           },
           "yaxis": {
            "backgroundcolor": "white",
            "gridcolor": "#DFE8F3",
            "gridwidth": 2,
            "linecolor": "#EBF0F8",
            "showbackground": true,
            "ticks": "",
            "zerolinecolor": "#EBF0F8"
           },
           "zaxis": {
            "backgroundcolor": "white",
            "gridcolor": "#DFE8F3",
            "gridwidth": 2,
            "linecolor": "#EBF0F8",
            "showbackground": true,
            "ticks": "",
            "zerolinecolor": "#EBF0F8"
           }
          },
          "shapedefaults": {
           "line": {
            "color": "#2a3f5f"
           }
          },
          "ternary": {
           "aaxis": {
            "gridcolor": "#DFE8F3",
            "linecolor": "#A2B1C6",
            "ticks": ""
           },
           "baxis": {
            "gridcolor": "#DFE8F3",
            "linecolor": "#A2B1C6",
            "ticks": ""
           },
           "bgcolor": "white",
           "caxis": {
            "gridcolor": "#DFE8F3",
            "linecolor": "#A2B1C6",
            "ticks": ""
           }
          },
          "title": {
           "x": 0.05
          },
          "xaxis": {
           "automargin": true,
           "gridcolor": "#EBF0F8",
           "linecolor": "#EBF0F8",
           "ticks": "",
           "title": {
            "standoff": 15
           },
           "zerolinecolor": "#EBF0F8",
           "zerolinewidth": 2
          },
          "yaxis": {
           "automargin": true,
           "gridcolor": "#EBF0F8",
           "linecolor": "#EBF0F8",
           "ticks": "",
           "title": {
            "standoff": 15
           },
           "zerolinecolor": "#EBF0F8",
           "zerolinewidth": 2
          }
         }
        },
        "title": {
         "text": "Comparación de Valores Promedios por País y Género"
        },
        "xaxis": {
         "anchor": "y",
         "domain": [
          0,
          1
         ],
         "tickangle": 45,
         "title": {
          "text": "País"
         }
        },
        "yaxis": {
         "anchor": "x",
         "domain": [
          0,
          1
         ],
         "title": {
          "text": "Valor Promedio"
         }
        }
       }
      }
     },
     "metadata": {},
     "output_type": "display_data"
    }
   ],
   "source": [
    "# Visualización 6: Comparación de Valores Promedios por País y Género\n",
    "import plotly.express as px\n",
    "import pandas as pd\n",
    "\n",
    "# Calcular el promedio por país y género\n",
    "data_avg = data_latam.groupby(['Geography', 'Gender'], as_index=False)['Value'].mean()\n",
    "\n",
    "# Crear un scatter plot con Plotly\n",
    "fig = px.scatter(\n",
    "    data_avg,\n",
    "    x='Geography',  # Eje X: Países\n",
    "    y='Value',       # Eje Y: Valor promedio\n",
    "    color='Gender',  # Diferenciación por género\n",
    "    size='Value',    # Tamaño proporcional al valor\n",
    "    hover_name='Geography',  # Mostrar el nombre del país al pasar el cursor\n",
    "    title=\"Comparación de Valores Promedios por País y Género\",\n",
    "    labels={\n",
    "        'Geography': 'País',\n",
    "        'Value': 'Valor Promedio',\n",
    "        'Gender': 'Género'\n",
    "    }\n",
    ")\n",
    "\n",
    "# Mejorar la visualización\n",
    "fig.update_layout(\n",
    "    xaxis_title=\"País\",\n",
    "    yaxis_title=\"Valor Promedio\",\n",
    "    legend_title=\"Género\",\n",
    "    xaxis=dict(tickangle=45),\n",
    "    template=\"plotly_white\"\n",
    ")\n",
    "\n",
    "# Mostrar la gráfica\n",
    "fig.show()\n"
   ]
  },
  {
   "cell_type": "code",
   "execution_count": 44,
   "id": "460a0c24",
   "metadata": {},
   "outputs": [
    {
     "data": {
      "application/vnd.plotly.v1+json": {
       "config": {
        "plotlyServerURL": "https://plot.ly"
       },
       "data": [
        {
         "marker": {
          "color": "rgb(0, 0, 128)",
          "opacity": 0.4,
          "size": 2
         },
         "mode": "markers",
         "name": "points",
         "type": "scatter",
         "x": [
          38.180625,
          37.958125,
          38.088125,
          36.938125,
          37.676249999999996,
          37.671875,
          38.2375,
          38.206875,
          37.811875,
          37.444375,
          38.636250000000004,
          36.995625000000004
         ],
         "y": [
          41.37875,
          37.77875,
          41.582499999999996,
          38.899375,
          38.986875,
          36.4075,
          37.661875,
          36.65375,
          37.79,
          38.265,
          39.320625,
          41.139375
         ]
        },
        {
         "colorscale": [
          [
           0,
           "rgb(0, 68, 27)"
          ],
          [
           1,
           "rgb(247, 252, 245)"
          ]
         ],
         "name": "density",
         "ncontours": 20,
         "reversescale": true,
         "showscale": false,
         "type": "histogram2dcontour",
         "x": [
          38.180625,
          37.958125,
          38.088125,
          36.938125,
          37.676249999999996,
          37.671875,
          38.2375,
          38.206875,
          37.811875,
          37.444375,
          38.636250000000004,
          36.995625000000004
         ],
         "y": [
          41.37875,
          37.77875,
          41.582499999999996,
          38.899375,
          38.986875,
          36.4075,
          37.661875,
          36.65375,
          37.79,
          38.265,
          39.320625,
          41.139375
         ]
        },
        {
         "marker": {
          "color": "rgb(100, 255, 120)"
         },
         "name": "x density",
         "type": "histogram",
         "x": [
          38.180625,
          37.958125,
          38.088125,
          36.938125,
          37.676249999999996,
          37.671875,
          38.2375,
          38.206875,
          37.811875,
          37.444375,
          38.636250000000004,
          36.995625000000004
         ],
         "yaxis": "y2"
        },
        {
         "marker": {
          "color": "rgb(100, 255, 120)"
         },
         "name": "y density",
         "type": "histogram",
         "xaxis": "x2",
         "y": [
          41.37875,
          37.77875,
          41.582499999999996,
          38.899375,
          38.986875,
          36.4075,
          37.661875,
          36.65375,
          37.79,
          38.265,
          39.320625,
          41.139375
         ]
        }
       ],
       "layout": {
        "autosize": false,
        "bargap": 0,
        "height": 600,
        "hovermode": "closest",
        "margin": {
         "t": 50
        },
        "showlegend": false,
        "template": {
         "data": {
          "bar": [
           {
            "error_x": {
             "color": "#2a3f5f"
            },
            "error_y": {
             "color": "#2a3f5f"
            },
            "marker": {
             "line": {
              "color": "white",
              "width": 0.5
             },
             "pattern": {
              "fillmode": "overlay",
              "size": 10,
              "solidity": 0.2
             }
            },
            "type": "bar"
           }
          ],
          "barpolar": [
           {
            "marker": {
             "line": {
              "color": "white",
              "width": 0.5
             },
             "pattern": {
              "fillmode": "overlay",
              "size": 10,
              "solidity": 0.2
             }
            },
            "type": "barpolar"
           }
          ],
          "carpet": [
           {
            "aaxis": {
             "endlinecolor": "#2a3f5f",
             "gridcolor": "#C8D4E3",
             "linecolor": "#C8D4E3",
             "minorgridcolor": "#C8D4E3",
             "startlinecolor": "#2a3f5f"
            },
            "baxis": {
             "endlinecolor": "#2a3f5f",
             "gridcolor": "#C8D4E3",
             "linecolor": "#C8D4E3",
             "minorgridcolor": "#C8D4E3",
             "startlinecolor": "#2a3f5f"
            },
            "type": "carpet"
           }
          ],
          "choropleth": [
           {
            "colorbar": {
             "outlinewidth": 0,
             "ticks": ""
            },
            "type": "choropleth"
           }
          ],
          "contour": [
           {
            "colorbar": {
             "outlinewidth": 0,
             "ticks": ""
            },
            "colorscale": [
             [
              0,
              "#0d0887"
             ],
             [
              0.1111111111111111,
              "#46039f"
             ],
             [
              0.2222222222222222,
              "#7201a8"
             ],
             [
              0.3333333333333333,
              "#9c179e"
             ],
             [
              0.4444444444444444,
              "#bd3786"
             ],
             [
              0.5555555555555556,
              "#d8576b"
             ],
             [
              0.6666666666666666,
              "#ed7953"
             ],
             [
              0.7777777777777778,
              "#fb9f3a"
             ],
             [
              0.8888888888888888,
              "#fdca26"
             ],
             [
              1,
              "#f0f921"
             ]
            ],
            "type": "contour"
           }
          ],
          "contourcarpet": [
           {
            "colorbar": {
             "outlinewidth": 0,
             "ticks": ""
            },
            "type": "contourcarpet"
           }
          ],
          "heatmap": [
           {
            "colorbar": {
             "outlinewidth": 0,
             "ticks": ""
            },
            "colorscale": [
             [
              0,
              "#0d0887"
             ],
             [
              0.1111111111111111,
              "#46039f"
             ],
             [
              0.2222222222222222,
              "#7201a8"
             ],
             [
              0.3333333333333333,
              "#9c179e"
             ],
             [
              0.4444444444444444,
              "#bd3786"
             ],
             [
              0.5555555555555556,
              "#d8576b"
             ],
             [
              0.6666666666666666,
              "#ed7953"
             ],
             [
              0.7777777777777778,
              "#fb9f3a"
             ],
             [
              0.8888888888888888,
              "#fdca26"
             ],
             [
              1,
              "#f0f921"
             ]
            ],
            "type": "heatmap"
           }
          ],
          "heatmapgl": [
           {
            "colorbar": {
             "outlinewidth": 0,
             "ticks": ""
            },
            "colorscale": [
             [
              0,
              "#0d0887"
             ],
             [
              0.1111111111111111,
              "#46039f"
             ],
             [
              0.2222222222222222,
              "#7201a8"
             ],
             [
              0.3333333333333333,
              "#9c179e"
             ],
             [
              0.4444444444444444,
              "#bd3786"
             ],
             [
              0.5555555555555556,
              "#d8576b"
             ],
             [
              0.6666666666666666,
              "#ed7953"
             ],
             [
              0.7777777777777778,
              "#fb9f3a"
             ],
             [
              0.8888888888888888,
              "#fdca26"
             ],
             [
              1,
              "#f0f921"
             ]
            ],
            "type": "heatmapgl"
           }
          ],
          "histogram": [
           {
            "marker": {
             "pattern": {
              "fillmode": "overlay",
              "size": 10,
              "solidity": 0.2
             }
            },
            "type": "histogram"
           }
          ],
          "histogram2d": [
           {
            "colorbar": {
             "outlinewidth": 0,
             "ticks": ""
            },
            "colorscale": [
             [
              0,
              "#0d0887"
             ],
             [
              0.1111111111111111,
              "#46039f"
             ],
             [
              0.2222222222222222,
              "#7201a8"
             ],
             [
              0.3333333333333333,
              "#9c179e"
             ],
             [
              0.4444444444444444,
              "#bd3786"
             ],
             [
              0.5555555555555556,
              "#d8576b"
             ],
             [
              0.6666666666666666,
              "#ed7953"
             ],
             [
              0.7777777777777778,
              "#fb9f3a"
             ],
             [
              0.8888888888888888,
              "#fdca26"
             ],
             [
              1,
              "#f0f921"
             ]
            ],
            "type": "histogram2d"
           }
          ],
          "histogram2dcontour": [
           {
            "colorbar": {
             "outlinewidth": 0,
             "ticks": ""
            },
            "colorscale": [
             [
              0,
              "#0d0887"
             ],
             [
              0.1111111111111111,
              "#46039f"
             ],
             [
              0.2222222222222222,
              "#7201a8"
             ],
             [
              0.3333333333333333,
              "#9c179e"
             ],
             [
              0.4444444444444444,
              "#bd3786"
             ],
             [
              0.5555555555555556,
              "#d8576b"
             ],
             [
              0.6666666666666666,
              "#ed7953"
             ],
             [
              0.7777777777777778,
              "#fb9f3a"
             ],
             [
              0.8888888888888888,
              "#fdca26"
             ],
             [
              1,
              "#f0f921"
             ]
            ],
            "type": "histogram2dcontour"
           }
          ],
          "mesh3d": [
           {
            "colorbar": {
             "outlinewidth": 0,
             "ticks": ""
            },
            "type": "mesh3d"
           }
          ],
          "parcoords": [
           {
            "line": {
             "colorbar": {
              "outlinewidth": 0,
              "ticks": ""
             }
            },
            "type": "parcoords"
           }
          ],
          "pie": [
           {
            "automargin": true,
            "type": "pie"
           }
          ],
          "scatter": [
           {
            "fillpattern": {
             "fillmode": "overlay",
             "size": 10,
             "solidity": 0.2
            },
            "type": "scatter"
           }
          ],
          "scatter3d": [
           {
            "line": {
             "colorbar": {
              "outlinewidth": 0,
              "ticks": ""
             }
            },
            "marker": {
             "colorbar": {
              "outlinewidth": 0,
              "ticks": ""
             }
            },
            "type": "scatter3d"
           }
          ],
          "scattercarpet": [
           {
            "marker": {
             "colorbar": {
              "outlinewidth": 0,
              "ticks": ""
             }
            },
            "type": "scattercarpet"
           }
          ],
          "scattergeo": [
           {
            "marker": {
             "colorbar": {
              "outlinewidth": 0,
              "ticks": ""
             }
            },
            "type": "scattergeo"
           }
          ],
          "scattergl": [
           {
            "marker": {
             "colorbar": {
              "outlinewidth": 0,
              "ticks": ""
             }
            },
            "type": "scattergl"
           }
          ],
          "scattermapbox": [
           {
            "marker": {
             "colorbar": {
              "outlinewidth": 0,
              "ticks": ""
             }
            },
            "type": "scattermapbox"
           }
          ],
          "scatterpolar": [
           {
            "marker": {
             "colorbar": {
              "outlinewidth": 0,
              "ticks": ""
             }
            },
            "type": "scatterpolar"
           }
          ],
          "scatterpolargl": [
           {
            "marker": {
             "colorbar": {
              "outlinewidth": 0,
              "ticks": ""
             }
            },
            "type": "scatterpolargl"
           }
          ],
          "scatterternary": [
           {
            "marker": {
             "colorbar": {
              "outlinewidth": 0,
              "ticks": ""
             }
            },
            "type": "scatterternary"
           }
          ],
          "surface": [
           {
            "colorbar": {
             "outlinewidth": 0,
             "ticks": ""
            },
            "colorscale": [
             [
              0,
              "#0d0887"
             ],
             [
              0.1111111111111111,
              "#46039f"
             ],
             [
              0.2222222222222222,
              "#7201a8"
             ],
             [
              0.3333333333333333,
              "#9c179e"
             ],
             [
              0.4444444444444444,
              "#bd3786"
             ],
             [
              0.5555555555555556,
              "#d8576b"
             ],
             [
              0.6666666666666666,
              "#ed7953"
             ],
             [
              0.7777777777777778,
              "#fb9f3a"
             ],
             [
              0.8888888888888888,
              "#fdca26"
             ],
             [
              1,
              "#f0f921"
             ]
            ],
            "type": "surface"
           }
          ],
          "table": [
           {
            "cells": {
             "fill": {
              "color": "#EBF0F8"
             },
             "line": {
              "color": "white"
             }
            },
            "header": {
             "fill": {
              "color": "#C8D4E3"
             },
             "line": {
              "color": "white"
             }
            },
            "type": "table"
           }
          ]
         },
         "layout": {
          "annotationdefaults": {
           "arrowcolor": "#2a3f5f",
           "arrowhead": 0,
           "arrowwidth": 1
          },
          "autotypenumbers": "strict",
          "coloraxis": {
           "colorbar": {
            "outlinewidth": 0,
            "ticks": ""
           }
          },
          "colorscale": {
           "diverging": [
            [
             0,
             "#8e0152"
            ],
            [
             0.1,
             "#c51b7d"
            ],
            [
             0.2,
             "#de77ae"
            ],
            [
             0.3,
             "#f1b6da"
            ],
            [
             0.4,
             "#fde0ef"
            ],
            [
             0.5,
             "#f7f7f7"
            ],
            [
             0.6,
             "#e6f5d0"
            ],
            [
             0.7,
             "#b8e186"
            ],
            [
             0.8,
             "#7fbc41"
            ],
            [
             0.9,
             "#4d9221"
            ],
            [
             1,
             "#276419"
            ]
           ],
           "sequential": [
            [
             0,
             "#0d0887"
            ],
            [
             0.1111111111111111,
             "#46039f"
            ],
            [
             0.2222222222222222,
             "#7201a8"
            ],
            [
             0.3333333333333333,
             "#9c179e"
            ],
            [
             0.4444444444444444,
             "#bd3786"
            ],
            [
             0.5555555555555556,
             "#d8576b"
            ],
            [
             0.6666666666666666,
             "#ed7953"
            ],
            [
             0.7777777777777778,
             "#fb9f3a"
            ],
            [
             0.8888888888888888,
             "#fdca26"
            ],
            [
             1,
             "#f0f921"
            ]
           ],
           "sequentialminus": [
            [
             0,
             "#0d0887"
            ],
            [
             0.1111111111111111,
             "#46039f"
            ],
            [
             0.2222222222222222,
             "#7201a8"
            ],
            [
             0.3333333333333333,
             "#9c179e"
            ],
            [
             0.4444444444444444,
             "#bd3786"
            ],
            [
             0.5555555555555556,
             "#d8576b"
            ],
            [
             0.6666666666666666,
             "#ed7953"
            ],
            [
             0.7777777777777778,
             "#fb9f3a"
            ],
            [
             0.8888888888888888,
             "#fdca26"
            ],
            [
             1,
             "#f0f921"
            ]
           ]
          },
          "colorway": [
           "#636efa",
           "#EF553B",
           "#00cc96",
           "#ab63fa",
           "#FFA15A",
           "#19d3f3",
           "#FF6692",
           "#B6E880",
           "#FF97FF",
           "#FECB52"
          ],
          "font": {
           "color": "#2a3f5f"
          },
          "geo": {
           "bgcolor": "white",
           "lakecolor": "white",
           "landcolor": "white",
           "showlakes": true,
           "showland": true,
           "subunitcolor": "#C8D4E3"
          },
          "hoverlabel": {
           "align": "left"
          },
          "hovermode": "closest",
          "mapbox": {
           "style": "light"
          },
          "paper_bgcolor": "white",
          "plot_bgcolor": "white",
          "polar": {
           "angularaxis": {
            "gridcolor": "#EBF0F8",
            "linecolor": "#EBF0F8",
            "ticks": ""
           },
           "bgcolor": "white",
           "radialaxis": {
            "gridcolor": "#EBF0F8",
            "linecolor": "#EBF0F8",
            "ticks": ""
           }
          },
          "scene": {
           "xaxis": {
            "backgroundcolor": "white",
            "gridcolor": "#DFE8F3",
            "gridwidth": 2,
            "linecolor": "#EBF0F8",
            "showbackground": true,
            "ticks": "",
            "zerolinecolor": "#EBF0F8"
           },
           "yaxis": {
            "backgroundcolor": "white",
            "gridcolor": "#DFE8F3",
            "gridwidth": 2,
            "linecolor": "#EBF0F8",
            "showbackground": true,
            "ticks": "",
            "zerolinecolor": "#EBF0F8"
           },
           "zaxis": {
            "backgroundcolor": "white",
            "gridcolor": "#DFE8F3",
            "gridwidth": 2,
            "linecolor": "#EBF0F8",
            "showbackground": true,
            "ticks": "",
            "zerolinecolor": "#EBF0F8"
           }
          },
          "shapedefaults": {
           "line": {
            "color": "#2a3f5f"
           }
          },
          "ternary": {
           "aaxis": {
            "gridcolor": "#DFE8F3",
            "linecolor": "#A2B1C6",
            "ticks": ""
           },
           "baxis": {
            "gridcolor": "#DFE8F3",
            "linecolor": "#A2B1C6",
            "ticks": ""
           },
           "bgcolor": "white",
           "caxis": {
            "gridcolor": "#DFE8F3",
            "linecolor": "#A2B1C6",
            "ticks": ""
           }
          },
          "title": {
           "x": 0.05
          },
          "xaxis": {
           "automargin": true,
           "gridcolor": "#EBF0F8",
           "linecolor": "#EBF0F8",
           "ticks": "",
           "title": {
            "standoff": 15
           },
           "zerolinecolor": "#EBF0F8",
           "zerolinewidth": 2
          },
          "yaxis": {
           "automargin": true,
           "gridcolor": "#EBF0F8",
           "linecolor": "#EBF0F8",
           "ticks": "",
           "title": {
            "standoff": 15
           },
           "zerolinecolor": "#EBF0F8",
           "zerolinewidth": 2
          }
         }
        },
        "title": {
         "text": "Densidad de Valores Promedios: Hombres vs Mujeres"
        },
        "width": 600,
        "xaxis": {
         "domain": [
          0,
          0.85
         ],
         "showgrid": false,
         "title": {
          "text": "Promedio de Valores (Hombres)"
         },
         "zeroline": false
        },
        "xaxis2": {
         "domain": [
          0.85,
          1
         ],
         "showgrid": false,
         "zeroline": false
        },
        "yaxis": {
         "domain": [
          0,
          0.85
         ],
         "showgrid": false,
         "title": {
          "text": "Promedio de Valores (Mujeres)"
         },
         "zeroline": false
        },
        "yaxis2": {
         "domain": [
          0.85,
          1
         ],
         "showgrid": false,
         "zeroline": false
        }
       }
      }
     },
     "metadata": {},
     "output_type": "display_data"
    }
   ],
   "source": [
    "# Visualización 7: Densidad de Valores Promedios por País y Género\n",
    "# Calcular el promedio por país y género\n",
    "data_avg = data_latam.groupby(['Geography', 'Gender'], as_index=False)['Value'].mean()\n",
    "\n",
    "# Crear listas para los ejes X e Y basados en Género\n",
    "x_values = data_avg[data_avg['Gender'] == 'male']['Value']  # Valores de hombres\n",
    "y_values = data_avg[data_avg['Gender'] == 'female']['Value']  # Valores de mujeres\n",
    "\n",
    "# Crear el gráfico de densidad con contornos\n",
    "fig = ff.create_2d_density(\n",
    "    x=x_values,\n",
    "    y=y_values,\n",
    "    colorscale='Greens',\n",
    "    hist_color='rgba(100, 255, 120, 0.2)',\n",
    "    point_size=2,\n",
    "    title=\"Densidad de Valores Promedios: Hombres vs Mujeres\"\n",
    ")\n",
    "\n",
    "# Mejorar la visualización\n",
    "fig.update_layout(\n",
    "    xaxis_title=\"Promedio de Valores (Hombres)\",\n",
    "    yaxis_title=\"Promedio de Valores (Mujeres)\",\n",
    "    template=\"plotly_white\"\n",
    ")\n",
    "\n",
    "# Mostrar la gráfica\n",
    "fig.show()\n"
   ]
  },
  {
   "cell_type": "code",
   "execution_count": 50,
   "id": "145e5080",
   "metadata": {},
   "outputs": [
    {
     "name": "stderr",
     "output_type": "stream",
     "text": [
      "d:\\Programs\\Anaconda3\\Lib\\site-packages\\plotly\\express\\_core.py:2065: FutureWarning:\n",
      "\n",
      "When grouping with a length-1 list-like, you will need to pass a length-1 tuple to get_group in a future version of pandas. Pass `(name,)` instead of `name` to silence this warning.\n",
      "\n"
     ]
    },
    {
     "data": {
      "application/vnd.plotly.v1+json": {
       "config": {
        "plotlyServerURL": "https://plot.ly"
       },
       "data": [
        {
         "alignmentgroup": "True",
         "box": {
          "visible": true
         },
         "hovertemplate": "Gender=male<br>Value=%{y}<extra></extra>",
         "legendgroup": "male",
         "marker": {
          "color": "#636efa"
         },
         "name": "male",
         "offsetgroup": "male",
         "orientation": "v",
         "points": "all",
         "scalegroup": "True",
         "showlegend": true,
         "type": "violin",
         "x0": " ",
         "xaxis": "x",
         "y": [
          8.68,
          7.65,
          8.87,
          7.63,
          8.35,
          7.92,
          8.01,
          8.25,
          7.83,
          8.3,
          8.68,
          8.7,
          63,
          75,
          67,
          72,
          65,
          77,
          73,
          72,
          76,
          72,
          67,
          47,
          37,
          25,
          33,
          28,
          35,
          23,
          27,
          28,
          24,
          28,
          33,
          47,
          70,
          57,
          73,
          57,
          69,
          53,
          64,
          62,
          54,
          59,
          67,
          76,
          36,
          37,
          33,
          42,
          35,
          46,
          39,
          33,
          41,
          36,
          32,
          32,
          64,
          63,
          67,
          58,
          65,
          54,
          61,
          67,
          59,
          64,
          68,
          68,
          27,
          13,
          60,
          29,
          19,
          52,
          22,
          15,
          63,
          27,
          14,
          59,
          20,
          9,
          72,
          37,
          15,
          48,
          25,
          16,
          59,
          36,
          16,
          48,
          40,
          16,
          44,
          30,
          12,
          58,
          29,
          14,
          58,
          19,
          12,
          69,
          5.21,
          5.68,
          5.54,
          5.38,
          5.47,
          5.83,
          5.79,
          6.06,
          6.16,
          5.81,
          5.5,
          5.23,
          38,
          49,
          41,
          41,
          42,
          55,
          50,
          51,
          49,
          47,
          41,
          34,
          40,
          49,
          41,
          45,
          42,
          47,
          49,
          51,
          47,
          48,
          43,
          36,
          48,
          28,
          41,
          24,
          35,
          21,
          31,
          25,
          27,
          29,
          30,
          50,
          52,
          72,
          59,
          76,
          65,
          79,
          69,
          75,
          73,
          71,
          70,
          50,
          24,
          19,
          20,
          18,
          17,
          16,
          16,
          15,
          19,
          15,
          24,
          19,
          25,
          20,
          20,
          17,
          18,
          18,
          19,
          18,
          22,
          16,
          28,
          19
         ],
         "y0": " ",
         "yaxis": "y"
        },
        {
         "alignmentgroup": "True",
         "box": {
          "visible": true
         },
         "hovertemplate": "Gender=female<br>Value=%{y}<extra></extra>",
         "legendgroup": "female",
         "marker": {
          "color": "#EF553B"
         },
         "name": "female",
         "offsetgroup": "female",
         "orientation": "v",
         "points": "all",
         "scalegroup": "True",
         "showlegend": true,
         "type": "violin",
         "x0": " ",
         "xaxis": "x",
         "y": [
          7.51,
          6.74,
          7.6,
          6.93,
          7.25,
          6.6,
          6.92,
          7.08,
          7.45,
          7.28,
          7.15,
          8.16,
          67,
          78,
          66,
          77,
          72,
          85,
          79,
          78,
          78,
          77,
          70,
          43,
          33,
          22,
          34,
          23,
          28,
          15,
          21,
          22,
          22,
          23,
          30,
          43,
          55,
          44,
          59,
          47,
          43,
          35,
          46,
          37,
          37,
          43,
          48,
          58,
          49,
          54,
          53,
          57,
          61,
          63,
          51,
          60,
          60,
          56,
          48,
          51,
          51,
          46,
          47,
          43,
          39,
          37,
          49,
          40,
          40,
          44,
          52,
          49,
          16,
          12,
          73,
          23,
          17,
          61,
          11,
          10,
          80,
          16,
          13,
          71,
          14,
          10,
          76,
          23,
          14,
          62,
          19,
          13,
          67,
          26,
          18,
          57,
          33,
          15,
          52,
          22,
          14,
          65,
          21,
          14,
          65,
          13,
          10,
          77,
          5.55,
          5.72,
          5.72,
          5.46,
          5.54,
          5.92,
          5.67,
          6.38,
          6.19,
          5.96,
          5.98,
          5.07,
          62,
          51,
          59,
          59,
          58,
          45,
          50,
          49,
          51,
          53,
          59,
          66,
          60,
          51,
          59,
          55,
          58,
          53,
          51,
          49,
          53,
          52,
          57,
          64,
          46,
          20,
          41,
          18,
          28,
          15,
          25,
          18,
          15,
          28,
          24,
          51,
          54,
          80,
          59,
          82,
          72,
          85,
          75,
          82,
          85,
          72,
          76,
          49,
          36,
          22,
          38,
          25,
          26,
          19,
          24,
          19,
          27,
          26,
          27,
          36,
          35,
          23,
          36,
          24,
          26,
          19,
          20,
          18,
          23,
          24,
          25,
          35
         ],
         "y0": " ",
         "yaxis": "y"
        },
        {
         "alignmentgroup": "True",
         "box": {
          "visible": true
         },
         "hovertemplate": "Gender=combined<br>Value=%{y}<extra></extra>",
         "legendgroup": "combined",
         "marker": {
          "color": "#00cc96"
         },
         "name": "combined",
         "offsetgroup": "combined",
         "orientation": "v",
         "points": "all",
         "scalegroup": "True",
         "showlegend": true,
         "type": "violin",
         "x0": " ",
         "xaxis": "x",
         "y": [
          8.02,
          7.18,
          8.17,
          7.24,
          7.77,
          7.28,
          7.49,
          7.72,
          7.66,
          7.79,
          7.9,
          8.39,
          65,
          77,
          66,
          75,
          69,
          81,
          76,
          75,
          77,
          75,
          69,
          56,
          35,
          23,
          34,
          25,
          31,
          19,
          24,
          25,
          23,
          25,
          31,
          45,
          61,
          50,
          65,
          51,
          54,
          44,
          55,
          50,
          45,
          51,
          56,
          64,
          44,
          46,
          44,
          51,
          49,
          55,
          45,
          46,
          51,
          46,
          41,
          44,
          56,
          54,
          56,
          49,
          51,
          45,
          55,
          54,
          49,
          54,
          59,
          56,
          20,
          12,
          68,
          26,
          18,
          56,
          15,
          12,
          73,
          21,
          13,
          66,
          16,
          9,
          74,
          30,
          15,
          55,
          22,
          14,
          63,
          31,
          17,
          52,
          36,
          15,
          48,
          26,
          13,
          61,
          24,
          14,
          62,
          15,
          10,
          75,
          5.38,
          5.69,
          5.65,
          5.42,
          5.49,
          5.86,
          5.73,
          6.24,
          6.19,
          5.9,
          5.78,
          5.1,
          100,
          100,
          100,
          100,
          100,
          100,
          100,
          100,
          100,
          100,
          100,
          100,
          100,
          100,
          100,
          100,
          100,
          100,
          100,
          100,
          100,
          100,
          100,
          100,
          47,
          24,
          41,
          21,
          31,
          18,
          28,
          22,
          21,
          29,
          27,
          51,
          53,
          76,
          59,
          79,
          69,
          82,
          72,
          78,
          79,
          71,
          73,
          49,
          31,
          21,
          30,
          22,
          22,
          18,
          20,
          17,
          23,
          21,
          25,
          30,
          31,
          21,
          30,
          21,
          22,
          19,
          20,
          18,
          22,
          20,
          26,
          30
         ],
         "y0": " ",
         "yaxis": "y"
        }
       ],
       "layout": {
        "legend": {
         "title": {
          "text": "Gender"
         },
         "tracegroupgap": 0
        },
        "template": {
         "data": {
          "bar": [
           {
            "error_x": {
             "color": "#2a3f5f"
            },
            "error_y": {
             "color": "#2a3f5f"
            },
            "marker": {
             "line": {
              "color": "white",
              "width": 0.5
             },
             "pattern": {
              "fillmode": "overlay",
              "size": 10,
              "solidity": 0.2
             }
            },
            "type": "bar"
           }
          ],
          "barpolar": [
           {
            "marker": {
             "line": {
              "color": "white",
              "width": 0.5
             },
             "pattern": {
              "fillmode": "overlay",
              "size": 10,
              "solidity": 0.2
             }
            },
            "type": "barpolar"
           }
          ],
          "carpet": [
           {
            "aaxis": {
             "endlinecolor": "#2a3f5f",
             "gridcolor": "#C8D4E3",
             "linecolor": "#C8D4E3",
             "minorgridcolor": "#C8D4E3",
             "startlinecolor": "#2a3f5f"
            },
            "baxis": {
             "endlinecolor": "#2a3f5f",
             "gridcolor": "#C8D4E3",
             "linecolor": "#C8D4E3",
             "minorgridcolor": "#C8D4E3",
             "startlinecolor": "#2a3f5f"
            },
            "type": "carpet"
           }
          ],
          "choropleth": [
           {
            "colorbar": {
             "outlinewidth": 0,
             "ticks": ""
            },
            "type": "choropleth"
           }
          ],
          "contour": [
           {
            "colorbar": {
             "outlinewidth": 0,
             "ticks": ""
            },
            "colorscale": [
             [
              0,
              "#0d0887"
             ],
             [
              0.1111111111111111,
              "#46039f"
             ],
             [
              0.2222222222222222,
              "#7201a8"
             ],
             [
              0.3333333333333333,
              "#9c179e"
             ],
             [
              0.4444444444444444,
              "#bd3786"
             ],
             [
              0.5555555555555556,
              "#d8576b"
             ],
             [
              0.6666666666666666,
              "#ed7953"
             ],
             [
              0.7777777777777778,
              "#fb9f3a"
             ],
             [
              0.8888888888888888,
              "#fdca26"
             ],
             [
              1,
              "#f0f921"
             ]
            ],
            "type": "contour"
           }
          ],
          "contourcarpet": [
           {
            "colorbar": {
             "outlinewidth": 0,
             "ticks": ""
            },
            "type": "contourcarpet"
           }
          ],
          "heatmap": [
           {
            "colorbar": {
             "outlinewidth": 0,
             "ticks": ""
            },
            "colorscale": [
             [
              0,
              "#0d0887"
             ],
             [
              0.1111111111111111,
              "#46039f"
             ],
             [
              0.2222222222222222,
              "#7201a8"
             ],
             [
              0.3333333333333333,
              "#9c179e"
             ],
             [
              0.4444444444444444,
              "#bd3786"
             ],
             [
              0.5555555555555556,
              "#d8576b"
             ],
             [
              0.6666666666666666,
              "#ed7953"
             ],
             [
              0.7777777777777778,
              "#fb9f3a"
             ],
             [
              0.8888888888888888,
              "#fdca26"
             ],
             [
              1,
              "#f0f921"
             ]
            ],
            "type": "heatmap"
           }
          ],
          "heatmapgl": [
           {
            "colorbar": {
             "outlinewidth": 0,
             "ticks": ""
            },
            "colorscale": [
             [
              0,
              "#0d0887"
             ],
             [
              0.1111111111111111,
              "#46039f"
             ],
             [
              0.2222222222222222,
              "#7201a8"
             ],
             [
              0.3333333333333333,
              "#9c179e"
             ],
             [
              0.4444444444444444,
              "#bd3786"
             ],
             [
              0.5555555555555556,
              "#d8576b"
             ],
             [
              0.6666666666666666,
              "#ed7953"
             ],
             [
              0.7777777777777778,
              "#fb9f3a"
             ],
             [
              0.8888888888888888,
              "#fdca26"
             ],
             [
              1,
              "#f0f921"
             ]
            ],
            "type": "heatmapgl"
           }
          ],
          "histogram": [
           {
            "marker": {
             "pattern": {
              "fillmode": "overlay",
              "size": 10,
              "solidity": 0.2
             }
            },
            "type": "histogram"
           }
          ],
          "histogram2d": [
           {
            "colorbar": {
             "outlinewidth": 0,
             "ticks": ""
            },
            "colorscale": [
             [
              0,
              "#0d0887"
             ],
             [
              0.1111111111111111,
              "#46039f"
             ],
             [
              0.2222222222222222,
              "#7201a8"
             ],
             [
              0.3333333333333333,
              "#9c179e"
             ],
             [
              0.4444444444444444,
              "#bd3786"
             ],
             [
              0.5555555555555556,
              "#d8576b"
             ],
             [
              0.6666666666666666,
              "#ed7953"
             ],
             [
              0.7777777777777778,
              "#fb9f3a"
             ],
             [
              0.8888888888888888,
              "#fdca26"
             ],
             [
              1,
              "#f0f921"
             ]
            ],
            "type": "histogram2d"
           }
          ],
          "histogram2dcontour": [
           {
            "colorbar": {
             "outlinewidth": 0,
             "ticks": ""
            },
            "colorscale": [
             [
              0,
              "#0d0887"
             ],
             [
              0.1111111111111111,
              "#46039f"
             ],
             [
              0.2222222222222222,
              "#7201a8"
             ],
             [
              0.3333333333333333,
              "#9c179e"
             ],
             [
              0.4444444444444444,
              "#bd3786"
             ],
             [
              0.5555555555555556,
              "#d8576b"
             ],
             [
              0.6666666666666666,
              "#ed7953"
             ],
             [
              0.7777777777777778,
              "#fb9f3a"
             ],
             [
              0.8888888888888888,
              "#fdca26"
             ],
             [
              1,
              "#f0f921"
             ]
            ],
            "type": "histogram2dcontour"
           }
          ],
          "mesh3d": [
           {
            "colorbar": {
             "outlinewidth": 0,
             "ticks": ""
            },
            "type": "mesh3d"
           }
          ],
          "parcoords": [
           {
            "line": {
             "colorbar": {
              "outlinewidth": 0,
              "ticks": ""
             }
            },
            "type": "parcoords"
           }
          ],
          "pie": [
           {
            "automargin": true,
            "type": "pie"
           }
          ],
          "scatter": [
           {
            "fillpattern": {
             "fillmode": "overlay",
             "size": 10,
             "solidity": 0.2
            },
            "type": "scatter"
           }
          ],
          "scatter3d": [
           {
            "line": {
             "colorbar": {
              "outlinewidth": 0,
              "ticks": ""
             }
            },
            "marker": {
             "colorbar": {
              "outlinewidth": 0,
              "ticks": ""
             }
            },
            "type": "scatter3d"
           }
          ],
          "scattercarpet": [
           {
            "marker": {
             "colorbar": {
              "outlinewidth": 0,
              "ticks": ""
             }
            },
            "type": "scattercarpet"
           }
          ],
          "scattergeo": [
           {
            "marker": {
             "colorbar": {
              "outlinewidth": 0,
              "ticks": ""
             }
            },
            "type": "scattergeo"
           }
          ],
          "scattergl": [
           {
            "marker": {
             "colorbar": {
              "outlinewidth": 0,
              "ticks": ""
             }
            },
            "type": "scattergl"
           }
          ],
          "scattermapbox": [
           {
            "marker": {
             "colorbar": {
              "outlinewidth": 0,
              "ticks": ""
             }
            },
            "type": "scattermapbox"
           }
          ],
          "scatterpolar": [
           {
            "marker": {
             "colorbar": {
              "outlinewidth": 0,
              "ticks": ""
             }
            },
            "type": "scatterpolar"
           }
          ],
          "scatterpolargl": [
           {
            "marker": {
             "colorbar": {
              "outlinewidth": 0,
              "ticks": ""
             }
            },
            "type": "scatterpolargl"
           }
          ],
          "scatterternary": [
           {
            "marker": {
             "colorbar": {
              "outlinewidth": 0,
              "ticks": ""
             }
            },
            "type": "scatterternary"
           }
          ],
          "surface": [
           {
            "colorbar": {
             "outlinewidth": 0,
             "ticks": ""
            },
            "colorscale": [
             [
              0,
              "#0d0887"
             ],
             [
              0.1111111111111111,
              "#46039f"
             ],
             [
              0.2222222222222222,
              "#7201a8"
             ],
             [
              0.3333333333333333,
              "#9c179e"
             ],
             [
              0.4444444444444444,
              "#bd3786"
             ],
             [
              0.5555555555555556,
              "#d8576b"
             ],
             [
              0.6666666666666666,
              "#ed7953"
             ],
             [
              0.7777777777777778,
              "#fb9f3a"
             ],
             [
              0.8888888888888888,
              "#fdca26"
             ],
             [
              1,
              "#f0f921"
             ]
            ],
            "type": "surface"
           }
          ],
          "table": [
           {
            "cells": {
             "fill": {
              "color": "#EBF0F8"
             },
             "line": {
              "color": "white"
             }
            },
            "header": {
             "fill": {
              "color": "#C8D4E3"
             },
             "line": {
              "color": "white"
             }
            },
            "type": "table"
           }
          ]
         },
         "layout": {
          "annotationdefaults": {
           "arrowcolor": "#2a3f5f",
           "arrowhead": 0,
           "arrowwidth": 1
          },
          "autotypenumbers": "strict",
          "coloraxis": {
           "colorbar": {
            "outlinewidth": 0,
            "ticks": ""
           }
          },
          "colorscale": {
           "diverging": [
            [
             0,
             "#8e0152"
            ],
            [
             0.1,
             "#c51b7d"
            ],
            [
             0.2,
             "#de77ae"
            ],
            [
             0.3,
             "#f1b6da"
            ],
            [
             0.4,
             "#fde0ef"
            ],
            [
             0.5,
             "#f7f7f7"
            ],
            [
             0.6,
             "#e6f5d0"
            ],
            [
             0.7,
             "#b8e186"
            ],
            [
             0.8,
             "#7fbc41"
            ],
            [
             0.9,
             "#4d9221"
            ],
            [
             1,
             "#276419"
            ]
           ],
           "sequential": [
            [
             0,
             "#0d0887"
            ],
            [
             0.1111111111111111,
             "#46039f"
            ],
            [
             0.2222222222222222,
             "#7201a8"
            ],
            [
             0.3333333333333333,
             "#9c179e"
            ],
            [
             0.4444444444444444,
             "#bd3786"
            ],
            [
             0.5555555555555556,
             "#d8576b"
            ],
            [
             0.6666666666666666,
             "#ed7953"
            ],
            [
             0.7777777777777778,
             "#fb9f3a"
            ],
            [
             0.8888888888888888,
             "#fdca26"
            ],
            [
             1,
             "#f0f921"
            ]
           ],
           "sequentialminus": [
            [
             0,
             "#0d0887"
            ],
            [
             0.1111111111111111,
             "#46039f"
            ],
            [
             0.2222222222222222,
             "#7201a8"
            ],
            [
             0.3333333333333333,
             "#9c179e"
            ],
            [
             0.4444444444444444,
             "#bd3786"
            ],
            [
             0.5555555555555556,
             "#d8576b"
            ],
            [
             0.6666666666666666,
             "#ed7953"
            ],
            [
             0.7777777777777778,
             "#fb9f3a"
            ],
            [
             0.8888888888888888,
             "#fdca26"
            ],
            [
             1,
             "#f0f921"
            ]
           ]
          },
          "colorway": [
           "#636efa",
           "#EF553B",
           "#00cc96",
           "#ab63fa",
           "#FFA15A",
           "#19d3f3",
           "#FF6692",
           "#B6E880",
           "#FF97FF",
           "#FECB52"
          ],
          "font": {
           "color": "#2a3f5f"
          },
          "geo": {
           "bgcolor": "white",
           "lakecolor": "white",
           "landcolor": "white",
           "showlakes": true,
           "showland": true,
           "subunitcolor": "#C8D4E3"
          },
          "hoverlabel": {
           "align": "left"
          },
          "hovermode": "closest",
          "mapbox": {
           "style": "light"
          },
          "paper_bgcolor": "white",
          "plot_bgcolor": "white",
          "polar": {
           "angularaxis": {
            "gridcolor": "#EBF0F8",
            "linecolor": "#EBF0F8",
            "ticks": ""
           },
           "bgcolor": "white",
           "radialaxis": {
            "gridcolor": "#EBF0F8",
            "linecolor": "#EBF0F8",
            "ticks": ""
           }
          },
          "scene": {
           "xaxis": {
            "backgroundcolor": "white",
            "gridcolor": "#DFE8F3",
            "gridwidth": 2,
            "linecolor": "#EBF0F8",
            "showbackground": true,
            "ticks": "",
            "zerolinecolor": "#EBF0F8"
           },
           "yaxis": {
            "backgroundcolor": "white",
            "gridcolor": "#DFE8F3",
            "gridwidth": 2,
            "linecolor": "#EBF0F8",
            "showbackground": true,
            "ticks": "",
            "zerolinecolor": "#EBF0F8"
           },
           "zaxis": {
            "backgroundcolor": "white",
            "gridcolor": "#DFE8F3",
            "gridwidth": 2,
            "linecolor": "#EBF0F8",
            "showbackground": true,
            "ticks": "",
            "zerolinecolor": "#EBF0F8"
           }
          },
          "shapedefaults": {
           "line": {
            "color": "#2a3f5f"
           }
          },
          "ternary": {
           "aaxis": {
            "gridcolor": "#DFE8F3",
            "linecolor": "#A2B1C6",
            "ticks": ""
           },
           "baxis": {
            "gridcolor": "#DFE8F3",
            "linecolor": "#A2B1C6",
            "ticks": ""
           },
           "bgcolor": "white",
           "caxis": {
            "gridcolor": "#DFE8F3",
            "linecolor": "#A2B1C6",
            "ticks": ""
           }
          },
          "title": {
           "x": 0.05
          },
          "xaxis": {
           "automargin": true,
           "gridcolor": "#EBF0F8",
           "linecolor": "#EBF0F8",
           "ticks": "",
           "title": {
            "standoff": 15
           },
           "zerolinecolor": "#EBF0F8",
           "zerolinewidth": 2
          },
          "yaxis": {
           "automargin": true,
           "gridcolor": "#EBF0F8",
           "linecolor": "#EBF0F8",
           "ticks": "",
           "title": {
            "standoff": 15
           },
           "zerolinecolor": "#EBF0F8",
           "zerolinewidth": 2
          }
         }
        },
        "title": {
         "text": "Comparación de Valores Promedios: Hombres vs Mujeres"
        },
        "violinmode": "group",
        "xaxis": {
         "anchor": "y",
         "domain": [
          0,
          1
         ],
         "title": {
          "text": "Género"
         }
        },
        "yaxis": {
         "anchor": "x",
         "domain": [
          0,
          1
         ],
         "title": {
          "text": "Valor Promedio"
         }
        }
       }
      }
     },
     "metadata": {},
     "output_type": "display_data"
    }
   ],
   "source": [
    "# Visualización 8: Comparación de Valores Promedios con Gráfica de Violín\n",
    "# Crear la gráfica de violín\n",
    "fig = px.violin(data_latam, \n",
    "                y='Value', \n",
    "                color='Gender', \n",
    "                box=True, \n",
    "                points=\"all\",  # Muestra todos los puntos\n",
    "                title=\"Comparación de Valores Promedios: Hombres vs Mujeres\")\n",
    "\n",
    "# Configuración de los ejes\n",
    "fig.update_layout(\n",
    "    xaxis_title=\"Género\",\n",
    "    yaxis_title=\"Valor Promedio\",\n",
    "    template=\"plotly_white\"\n",
    ")\n",
    "\n",
    "# Mostrar la gráfica\n",
    "fig.show()\n"
   ]
  },
  {
   "cell_type": "code",
   "execution_count": null,
   "id": "8274585a",
   "metadata": {},
   "outputs": [
    {
     "name": "stderr",
     "output_type": "stream",
     "text": [
      "d:\\Programs\\Anaconda3\\Lib\\site-packages\\plotly\\express\\_core.py:2065: FutureWarning:\n",
      "\n",
      "When grouping with a length-1 list-like, you will need to pass a length-1 tuple to get_group in a future version of pandas. Pass `(name,)` instead of `name` to silence this warning.\n",
      "\n"
     ]
    },
    {
     "data": {
      "application/vnd.plotly.v1+json": {
       "config": {
        "plotlyServerURL": "https://plot.ly"
       },
       "data": [
        {
         "alignmentgroup": "True",
         "box": {
          "visible": true
         },
         "hovertemplate": "Gender=male<br>Geography=%{x}<br>Value=%{y}<extra></extra>",
         "legendgroup": "male",
         "marker": {
          "color": "#636efa"
         },
         "name": "male",
         "offsetgroup": "male",
         "orientation": "v",
         "points": "all",
         "scalegroup": "True",
         "showlegend": true,
         "type": "violin",
         "x": [
          "Argentina",
          "Bolivia",
          "Chile",
          "Colombia",
          "Costa Rica",
          "Ecuador",
          "El Salvador",
          "Guatemala",
          "Honduras",
          "Nicaragua",
          "Paraguay",
          "Uruguay",
          "Argentina",
          "Bolivia",
          "Chile",
          "Colombia",
          "Costa Rica",
          "Ecuador",
          "El Salvador",
          "Guatemala",
          "Honduras",
          "Nicaragua",
          "Paraguay",
          "Uruguay",
          "Argentina",
          "Bolivia",
          "Chile",
          "Colombia",
          "Costa Rica",
          "Ecuador",
          "El Salvador",
          "Guatemala",
          "Honduras",
          "Nicaragua",
          "Paraguay",
          "Uruguay",
          "Argentina",
          "Bolivia",
          "Chile",
          "Colombia",
          "Costa Rica",
          "Ecuador",
          "El Salvador",
          "Guatemala",
          "Honduras",
          "Nicaragua",
          "Paraguay",
          "Uruguay",
          "Argentina",
          "Bolivia",
          "Chile",
          "Colombia",
          "Costa Rica",
          "Ecuador",
          "El Salvador",
          "Guatemala",
          "Honduras",
          "Nicaragua",
          "Paraguay",
          "Uruguay",
          "Argentina",
          "Bolivia",
          "Chile",
          "Colombia",
          "Costa Rica",
          "Ecuador",
          "El Salvador",
          "Guatemala",
          "Honduras",
          "Nicaragua",
          "Paraguay",
          "Uruguay",
          "Argentina",
          "Argentina",
          "Argentina",
          "Bolivia",
          "Bolivia",
          "Bolivia",
          "Chile",
          "Chile",
          "Chile",
          "Colombia",
          "Colombia",
          "Colombia",
          "Costa Rica",
          "Costa Rica",
          "Costa Rica",
          "Ecuador",
          "Ecuador",
          "Ecuador",
          "El Salvador",
          "El Salvador",
          "El Salvador",
          "Guatemala",
          "Guatemala",
          "Guatemala",
          "Honduras",
          "Honduras",
          "Honduras",
          "Nicaragua",
          "Nicaragua",
          "Nicaragua",
          "Paraguay",
          "Paraguay",
          "Paraguay",
          "Uruguay",
          "Uruguay",
          "Uruguay",
          "Argentina",
          "Bolivia",
          "Chile",
          "Colombia",
          "Costa Rica",
          "Ecuador",
          "El Salvador",
          "Guatemala",
          "Honduras",
          "Nicaragua",
          "Paraguay",
          "Uruguay",
          "Argentina",
          "Bolivia",
          "Chile",
          "Colombia",
          "Costa Rica",
          "Ecuador",
          "El Salvador",
          "Guatemala",
          "Honduras",
          "Nicaragua",
          "Paraguay",
          "Uruguay",
          "Argentina",
          "Bolivia",
          "Chile",
          "Colombia",
          "Costa Rica",
          "Ecuador",
          "El Salvador",
          "Guatemala",
          "Honduras",
          "Nicaragua",
          "Paraguay",
          "Uruguay",
          "Argentina",
          "Bolivia",
          "Chile",
          "Colombia",
          "Costa Rica",
          "Ecuador",
          "El Salvador",
          "Guatemala",
          "Honduras",
          "Nicaragua",
          "Paraguay",
          "Uruguay",
          "Argentina",
          "Bolivia",
          "Chile",
          "Colombia",
          "Costa Rica",
          "Ecuador",
          "El Salvador",
          "Guatemala",
          "Honduras",
          "Nicaragua",
          "Paraguay",
          "Uruguay",
          "Argentina",
          "Bolivia",
          "Chile",
          "Colombia",
          "Costa Rica",
          "Ecuador",
          "El Salvador",
          "Guatemala",
          "Honduras",
          "Nicaragua",
          "Paraguay",
          "Uruguay",
          "Argentina",
          "Bolivia",
          "Chile",
          "Colombia",
          "Costa Rica",
          "Ecuador",
          "El Salvador",
          "Guatemala",
          "Honduras",
          "Nicaragua",
          "Paraguay",
          "Uruguay"
         ],
         "x0": " ",
         "xaxis": "x",
         "y": [
          8.68,
          7.65,
          8.87,
          7.63,
          8.35,
          7.92,
          8.01,
          8.25,
          7.83,
          8.3,
          8.68,
          8.7,
          63,
          75,
          67,
          72,
          65,
          77,
          73,
          72,
          76,
          72,
          67,
          47,
          37,
          25,
          33,
          28,
          35,
          23,
          27,
          28,
          24,
          28,
          33,
          47,
          70,
          57,
          73,
          57,
          69,
          53,
          64,
          62,
          54,
          59,
          67,
          76,
          36,
          37,
          33,
          42,
          35,
          46,
          39,
          33,
          41,
          36,
          32,
          32,
          64,
          63,
          67,
          58,
          65,
          54,
          61,
          67,
          59,
          64,
          68,
          68,
          27,
          13,
          60,
          29,
          19,
          52,
          22,
          15,
          63,
          27,
          14,
          59,
          20,
          9,
          72,
          37,
          15,
          48,
          25,
          16,
          59,
          36,
          16,
          48,
          40,
          16,
          44,
          30,
          12,
          58,
          29,
          14,
          58,
          19,
          12,
          69,
          5.21,
          5.68,
          5.54,
          5.38,
          5.47,
          5.83,
          5.79,
          6.06,
          6.16,
          5.81,
          5.5,
          5.23,
          38,
          49,
          41,
          41,
          42,
          55,
          50,
          51,
          49,
          47,
          41,
          34,
          40,
          49,
          41,
          45,
          42,
          47,
          49,
          51,
          47,
          48,
          43,
          36,
          48,
          28,
          41,
          24,
          35,
          21,
          31,
          25,
          27,
          29,
          30,
          50,
          52,
          72,
          59,
          76,
          65,
          79,
          69,
          75,
          73,
          71,
          70,
          50,
          24,
          19,
          20,
          18,
          17,
          16,
          16,
          15,
          19,
          15,
          24,
          19,
          25,
          20,
          20,
          17,
          18,
          18,
          19,
          18,
          22,
          16,
          28,
          19
         ],
         "y0": " ",
         "yaxis": "y"
        },
        {
         "alignmentgroup": "True",
         "box": {
          "visible": true
         },
         "hovertemplate": "Gender=female<br>Geography=%{x}<br>Value=%{y}<extra></extra>",
         "legendgroup": "female",
         "marker": {
          "color": "#EF553B"
         },
         "name": "female",
         "offsetgroup": "female",
         "orientation": "v",
         "points": "all",
         "scalegroup": "True",
         "showlegend": true,
         "type": "violin",
         "x": [
          "Argentina",
          "Bolivia",
          "Chile",
          "Colombia",
          "Costa Rica",
          "Ecuador",
          "El Salvador",
          "Guatemala",
          "Honduras",
          "Nicaragua",
          "Paraguay",
          "Uruguay",
          "Argentina",
          "Bolivia",
          "Chile",
          "Colombia",
          "Costa Rica",
          "Ecuador",
          "El Salvador",
          "Guatemala",
          "Honduras",
          "Nicaragua",
          "Paraguay",
          "Uruguay",
          "Argentina",
          "Bolivia",
          "Chile",
          "Colombia",
          "Costa Rica",
          "Ecuador",
          "El Salvador",
          "Guatemala",
          "Honduras",
          "Nicaragua",
          "Paraguay",
          "Uruguay",
          "Argentina",
          "Bolivia",
          "Chile",
          "Colombia",
          "Costa Rica",
          "Ecuador",
          "El Salvador",
          "Guatemala",
          "Honduras",
          "Nicaragua",
          "Paraguay",
          "Uruguay",
          "Argentina",
          "Bolivia",
          "Chile",
          "Colombia",
          "Costa Rica",
          "Ecuador",
          "El Salvador",
          "Guatemala",
          "Honduras",
          "Nicaragua",
          "Paraguay",
          "Uruguay",
          "Argentina",
          "Bolivia",
          "Chile",
          "Colombia",
          "Costa Rica",
          "Ecuador",
          "El Salvador",
          "Guatemala",
          "Honduras",
          "Nicaragua",
          "Paraguay",
          "Uruguay",
          "Argentina",
          "Argentina",
          "Argentina",
          "Bolivia",
          "Bolivia",
          "Bolivia",
          "Chile",
          "Chile",
          "Chile",
          "Colombia",
          "Colombia",
          "Colombia",
          "Costa Rica",
          "Costa Rica",
          "Costa Rica",
          "Ecuador",
          "Ecuador",
          "Ecuador",
          "El Salvador",
          "El Salvador",
          "El Salvador",
          "Guatemala",
          "Guatemala",
          "Guatemala",
          "Honduras",
          "Honduras",
          "Honduras",
          "Nicaragua",
          "Nicaragua",
          "Nicaragua",
          "Paraguay",
          "Paraguay",
          "Paraguay",
          "Uruguay",
          "Uruguay",
          "Uruguay",
          "Argentina",
          "Bolivia",
          "Chile",
          "Colombia",
          "Costa Rica",
          "Ecuador",
          "El Salvador",
          "Guatemala",
          "Honduras",
          "Nicaragua",
          "Paraguay",
          "Uruguay",
          "Argentina",
          "Bolivia",
          "Chile",
          "Colombia",
          "Costa Rica",
          "Ecuador",
          "El Salvador",
          "Guatemala",
          "Honduras",
          "Nicaragua",
          "Paraguay",
          "Uruguay",
          "Argentina",
          "Bolivia",
          "Chile",
          "Colombia",
          "Costa Rica",
          "Ecuador",
          "El Salvador",
          "Guatemala",
          "Honduras",
          "Nicaragua",
          "Paraguay",
          "Uruguay",
          "Argentina",
          "Bolivia",
          "Chile",
          "Colombia",
          "Costa Rica",
          "Ecuador",
          "El Salvador",
          "Guatemala",
          "Honduras",
          "Nicaragua",
          "Paraguay",
          "Uruguay",
          "Argentina",
          "Bolivia",
          "Chile",
          "Colombia",
          "Costa Rica",
          "Ecuador",
          "El Salvador",
          "Guatemala",
          "Honduras",
          "Nicaragua",
          "Paraguay",
          "Uruguay",
          "Argentina",
          "Bolivia",
          "Chile",
          "Colombia",
          "Costa Rica",
          "Ecuador",
          "El Salvador",
          "Guatemala",
          "Honduras",
          "Nicaragua",
          "Paraguay",
          "Uruguay",
          "Argentina",
          "Bolivia",
          "Chile",
          "Colombia",
          "Costa Rica",
          "Ecuador",
          "El Salvador",
          "Guatemala",
          "Honduras",
          "Nicaragua",
          "Paraguay",
          "Uruguay"
         ],
         "x0": " ",
         "xaxis": "x",
         "y": [
          7.51,
          6.74,
          7.6,
          6.93,
          7.25,
          6.6,
          6.92,
          7.08,
          7.45,
          7.28,
          7.15,
          8.16,
          67,
          78,
          66,
          77,
          72,
          85,
          79,
          78,
          78,
          77,
          70,
          43,
          33,
          22,
          34,
          23,
          28,
          15,
          21,
          22,
          22,
          23,
          30,
          43,
          55,
          44,
          59,
          47,
          43,
          35,
          46,
          37,
          37,
          43,
          48,
          58,
          49,
          54,
          53,
          57,
          61,
          63,
          51,
          60,
          60,
          56,
          48,
          51,
          51,
          46,
          47,
          43,
          39,
          37,
          49,
          40,
          40,
          44,
          52,
          49,
          16,
          12,
          73,
          23,
          17,
          61,
          11,
          10,
          80,
          16,
          13,
          71,
          14,
          10,
          76,
          23,
          14,
          62,
          19,
          13,
          67,
          26,
          18,
          57,
          33,
          15,
          52,
          22,
          14,
          65,
          21,
          14,
          65,
          13,
          10,
          77,
          5.55,
          5.72,
          5.72,
          5.46,
          5.54,
          5.92,
          5.67,
          6.38,
          6.19,
          5.96,
          5.98,
          5.07,
          62,
          51,
          59,
          59,
          58,
          45,
          50,
          49,
          51,
          53,
          59,
          66,
          60,
          51,
          59,
          55,
          58,
          53,
          51,
          49,
          53,
          52,
          57,
          64,
          46,
          20,
          41,
          18,
          28,
          15,
          25,
          18,
          15,
          28,
          24,
          51,
          54,
          80,
          59,
          82,
          72,
          85,
          75,
          82,
          85,
          72,
          76,
          49,
          36,
          22,
          38,
          25,
          26,
          19,
          24,
          19,
          27,
          26,
          27,
          36,
          35,
          23,
          36,
          24,
          26,
          19,
          20,
          18,
          23,
          24,
          25,
          35
         ],
         "y0": " ",
         "yaxis": "y"
        },
        {
         "alignmentgroup": "True",
         "box": {
          "visible": true
         },
         "hovertemplate": "Gender=combined<br>Geography=%{x}<br>Value=%{y}<extra></extra>",
         "legendgroup": "combined",
         "marker": {
          "color": "#00cc96"
         },
         "name": "combined",
         "offsetgroup": "combined",
         "orientation": "v",
         "points": "all",
         "scalegroup": "True",
         "showlegend": true,
         "type": "violin",
         "x": [
          "Argentina",
          "Bolivia",
          "Chile",
          "Colombia",
          "Costa Rica",
          "Ecuador",
          "El Salvador",
          "Guatemala",
          "Honduras",
          "Nicaragua",
          "Paraguay",
          "Uruguay",
          "Argentina",
          "Bolivia",
          "Chile",
          "Colombia",
          "Costa Rica",
          "Ecuador",
          "El Salvador",
          "Guatemala",
          "Honduras",
          "Nicaragua",
          "Paraguay",
          "Uruguay",
          "Argentina",
          "Bolivia",
          "Chile",
          "Colombia",
          "Costa Rica",
          "Ecuador",
          "El Salvador",
          "Guatemala",
          "Honduras",
          "Nicaragua",
          "Paraguay",
          "Uruguay",
          "Argentina",
          "Bolivia",
          "Chile",
          "Colombia",
          "Costa Rica",
          "Ecuador",
          "El Salvador",
          "Guatemala",
          "Honduras",
          "Nicaragua",
          "Paraguay",
          "Uruguay",
          "Argentina",
          "Bolivia",
          "Chile",
          "Colombia",
          "Costa Rica",
          "Ecuador",
          "El Salvador",
          "Guatemala",
          "Honduras",
          "Nicaragua",
          "Paraguay",
          "Uruguay",
          "Argentina",
          "Bolivia",
          "Chile",
          "Colombia",
          "Costa Rica",
          "Ecuador",
          "El Salvador",
          "Guatemala",
          "Honduras",
          "Nicaragua",
          "Paraguay",
          "Uruguay",
          "Argentina",
          "Argentina",
          "Argentina",
          "Bolivia",
          "Bolivia",
          "Bolivia",
          "Chile",
          "Chile",
          "Chile",
          "Colombia",
          "Colombia",
          "Colombia",
          "Costa Rica",
          "Costa Rica",
          "Costa Rica",
          "Ecuador",
          "Ecuador",
          "Ecuador",
          "El Salvador",
          "El Salvador",
          "El Salvador",
          "Guatemala",
          "Guatemala",
          "Guatemala",
          "Honduras",
          "Honduras",
          "Honduras",
          "Nicaragua",
          "Nicaragua",
          "Nicaragua",
          "Paraguay",
          "Paraguay",
          "Paraguay",
          "Uruguay",
          "Uruguay",
          "Uruguay",
          "Argentina",
          "Bolivia",
          "Chile",
          "Colombia",
          "Costa Rica",
          "Ecuador",
          "El Salvador",
          "Guatemala",
          "Honduras",
          "Nicaragua",
          "Paraguay",
          "Uruguay",
          "Argentina",
          "Bolivia",
          "Chile",
          "Colombia",
          "Costa Rica",
          "Ecuador",
          "El Salvador",
          "Guatemala",
          "Honduras",
          "Nicaragua",
          "Paraguay",
          "Uruguay",
          "Argentina",
          "Bolivia",
          "Chile",
          "Colombia",
          "Costa Rica",
          "Ecuador",
          "El Salvador",
          "Guatemala",
          "Honduras",
          "Nicaragua",
          "Paraguay",
          "Uruguay",
          "Argentina",
          "Bolivia",
          "Chile",
          "Colombia",
          "Costa Rica",
          "Ecuador",
          "El Salvador",
          "Guatemala",
          "Honduras",
          "Nicaragua",
          "Paraguay",
          "Uruguay",
          "Argentina",
          "Bolivia",
          "Chile",
          "Colombia",
          "Costa Rica",
          "Ecuador",
          "El Salvador",
          "Guatemala",
          "Honduras",
          "Nicaragua",
          "Paraguay",
          "Uruguay",
          "Argentina",
          "Bolivia",
          "Chile",
          "Colombia",
          "Costa Rica",
          "Ecuador",
          "El Salvador",
          "Guatemala",
          "Honduras",
          "Nicaragua",
          "Paraguay",
          "Uruguay",
          "Argentina",
          "Bolivia",
          "Chile",
          "Colombia",
          "Costa Rica",
          "Ecuador",
          "El Salvador",
          "Guatemala",
          "Honduras",
          "Nicaragua",
          "Paraguay",
          "Uruguay"
         ],
         "x0": " ",
         "xaxis": "x",
         "y": [
          8.02,
          7.18,
          8.17,
          7.24,
          7.77,
          7.28,
          7.49,
          7.72,
          7.66,
          7.79,
          7.9,
          8.39,
          65,
          77,
          66,
          75,
          69,
          81,
          76,
          75,
          77,
          75,
          69,
          56,
          35,
          23,
          34,
          25,
          31,
          19,
          24,
          25,
          23,
          25,
          31,
          45,
          61,
          50,
          65,
          51,
          54,
          44,
          55,
          50,
          45,
          51,
          56,
          64,
          44,
          46,
          44,
          51,
          49,
          55,
          45,
          46,
          51,
          46,
          41,
          44,
          56,
          54,
          56,
          49,
          51,
          45,
          55,
          54,
          49,
          54,
          59,
          56,
          20,
          12,
          68,
          26,
          18,
          56,
          15,
          12,
          73,
          21,
          13,
          66,
          16,
          9,
          74,
          30,
          15,
          55,
          22,
          14,
          63,
          31,
          17,
          52,
          36,
          15,
          48,
          26,
          13,
          61,
          24,
          14,
          62,
          15,
          10,
          75,
          5.38,
          5.69,
          5.65,
          5.42,
          5.49,
          5.86,
          5.73,
          6.24,
          6.19,
          5.9,
          5.78,
          5.1,
          100,
          100,
          100,
          100,
          100,
          100,
          100,
          100,
          100,
          100,
          100,
          100,
          100,
          100,
          100,
          100,
          100,
          100,
          100,
          100,
          100,
          100,
          100,
          100,
          47,
          24,
          41,
          21,
          31,
          18,
          28,
          22,
          21,
          29,
          27,
          51,
          53,
          76,
          59,
          79,
          69,
          82,
          72,
          78,
          79,
          71,
          73,
          49,
          31,
          21,
          30,
          22,
          22,
          18,
          20,
          17,
          23,
          21,
          25,
          30,
          31,
          21,
          30,
          21,
          22,
          19,
          20,
          18,
          22,
          20,
          26,
          30
         ],
         "y0": " ",
         "yaxis": "y"
        }
       ],
       "layout": {
        "legend": {
         "title": {
          "text": "Gender"
         },
         "tracegroupgap": 0
        },
        "template": {
         "data": {
          "bar": [
           {
            "error_x": {
             "color": "#2a3f5f"
            },
            "error_y": {
             "color": "#2a3f5f"
            },
            "marker": {
             "line": {
              "color": "white",
              "width": 0.5
             },
             "pattern": {
              "fillmode": "overlay",
              "size": 10,
              "solidity": 0.2
             }
            },
            "type": "bar"
           }
          ],
          "barpolar": [
           {
            "marker": {
             "line": {
              "color": "white",
              "width": 0.5
             },
             "pattern": {
              "fillmode": "overlay",
              "size": 10,
              "solidity": 0.2
             }
            },
            "type": "barpolar"
           }
          ],
          "carpet": [
           {
            "aaxis": {
             "endlinecolor": "#2a3f5f",
             "gridcolor": "#C8D4E3",
             "linecolor": "#C8D4E3",
             "minorgridcolor": "#C8D4E3",
             "startlinecolor": "#2a3f5f"
            },
            "baxis": {
             "endlinecolor": "#2a3f5f",
             "gridcolor": "#C8D4E3",
             "linecolor": "#C8D4E3",
             "minorgridcolor": "#C8D4E3",
             "startlinecolor": "#2a3f5f"
            },
            "type": "carpet"
           }
          ],
          "choropleth": [
           {
            "colorbar": {
             "outlinewidth": 0,
             "ticks": ""
            },
            "type": "choropleth"
           }
          ],
          "contour": [
           {
            "colorbar": {
             "outlinewidth": 0,
             "ticks": ""
            },
            "colorscale": [
             [
              0,
              "#0d0887"
             ],
             [
              0.1111111111111111,
              "#46039f"
             ],
             [
              0.2222222222222222,
              "#7201a8"
             ],
             [
              0.3333333333333333,
              "#9c179e"
             ],
             [
              0.4444444444444444,
              "#bd3786"
             ],
             [
              0.5555555555555556,
              "#d8576b"
             ],
             [
              0.6666666666666666,
              "#ed7953"
             ],
             [
              0.7777777777777778,
              "#fb9f3a"
             ],
             [
              0.8888888888888888,
              "#fdca26"
             ],
             [
              1,
              "#f0f921"
             ]
            ],
            "type": "contour"
           }
          ],
          "contourcarpet": [
           {
            "colorbar": {
             "outlinewidth": 0,
             "ticks": ""
            },
            "type": "contourcarpet"
           }
          ],
          "heatmap": [
           {
            "colorbar": {
             "outlinewidth": 0,
             "ticks": ""
            },
            "colorscale": [
             [
              0,
              "#0d0887"
             ],
             [
              0.1111111111111111,
              "#46039f"
             ],
             [
              0.2222222222222222,
              "#7201a8"
             ],
             [
              0.3333333333333333,
              "#9c179e"
             ],
             [
              0.4444444444444444,
              "#bd3786"
             ],
             [
              0.5555555555555556,
              "#d8576b"
             ],
             [
              0.6666666666666666,
              "#ed7953"
             ],
             [
              0.7777777777777778,
              "#fb9f3a"
             ],
             [
              0.8888888888888888,
              "#fdca26"
             ],
             [
              1,
              "#f0f921"
             ]
            ],
            "type": "heatmap"
           }
          ],
          "heatmapgl": [
           {
            "colorbar": {
             "outlinewidth": 0,
             "ticks": ""
            },
            "colorscale": [
             [
              0,
              "#0d0887"
             ],
             [
              0.1111111111111111,
              "#46039f"
             ],
             [
              0.2222222222222222,
              "#7201a8"
             ],
             [
              0.3333333333333333,
              "#9c179e"
             ],
             [
              0.4444444444444444,
              "#bd3786"
             ],
             [
              0.5555555555555556,
              "#d8576b"
             ],
             [
              0.6666666666666666,
              "#ed7953"
             ],
             [
              0.7777777777777778,
              "#fb9f3a"
             ],
             [
              0.8888888888888888,
              "#fdca26"
             ],
             [
              1,
              "#f0f921"
             ]
            ],
            "type": "heatmapgl"
           }
          ],
          "histogram": [
           {
            "marker": {
             "pattern": {
              "fillmode": "overlay",
              "size": 10,
              "solidity": 0.2
             }
            },
            "type": "histogram"
           }
          ],
          "histogram2d": [
           {
            "colorbar": {
             "outlinewidth": 0,
             "ticks": ""
            },
            "colorscale": [
             [
              0,
              "#0d0887"
             ],
             [
              0.1111111111111111,
              "#46039f"
             ],
             [
              0.2222222222222222,
              "#7201a8"
             ],
             [
              0.3333333333333333,
              "#9c179e"
             ],
             [
              0.4444444444444444,
              "#bd3786"
             ],
             [
              0.5555555555555556,
              "#d8576b"
             ],
             [
              0.6666666666666666,
              "#ed7953"
             ],
             [
              0.7777777777777778,
              "#fb9f3a"
             ],
             [
              0.8888888888888888,
              "#fdca26"
             ],
             [
              1,
              "#f0f921"
             ]
            ],
            "type": "histogram2d"
           }
          ],
          "histogram2dcontour": [
           {
            "colorbar": {
             "outlinewidth": 0,
             "ticks": ""
            },
            "colorscale": [
             [
              0,
              "#0d0887"
             ],
             [
              0.1111111111111111,
              "#46039f"
             ],
             [
              0.2222222222222222,
              "#7201a8"
             ],
             [
              0.3333333333333333,
              "#9c179e"
             ],
             [
              0.4444444444444444,
              "#bd3786"
             ],
             [
              0.5555555555555556,
              "#d8576b"
             ],
             [
              0.6666666666666666,
              "#ed7953"
             ],
             [
              0.7777777777777778,
              "#fb9f3a"
             ],
             [
              0.8888888888888888,
              "#fdca26"
             ],
             [
              1,
              "#f0f921"
             ]
            ],
            "type": "histogram2dcontour"
           }
          ],
          "mesh3d": [
           {
            "colorbar": {
             "outlinewidth": 0,
             "ticks": ""
            },
            "type": "mesh3d"
           }
          ],
          "parcoords": [
           {
            "line": {
             "colorbar": {
              "outlinewidth": 0,
              "ticks": ""
             }
            },
            "type": "parcoords"
           }
          ],
          "pie": [
           {
            "automargin": true,
            "type": "pie"
           }
          ],
          "scatter": [
           {
            "fillpattern": {
             "fillmode": "overlay",
             "size": 10,
             "solidity": 0.2
            },
            "type": "scatter"
           }
          ],
          "scatter3d": [
           {
            "line": {
             "colorbar": {
              "outlinewidth": 0,
              "ticks": ""
             }
            },
            "marker": {
             "colorbar": {
              "outlinewidth": 0,
              "ticks": ""
             }
            },
            "type": "scatter3d"
           }
          ],
          "scattercarpet": [
           {
            "marker": {
             "colorbar": {
              "outlinewidth": 0,
              "ticks": ""
             }
            },
            "type": "scattercarpet"
           }
          ],
          "scattergeo": [
           {
            "marker": {
             "colorbar": {
              "outlinewidth": 0,
              "ticks": ""
             }
            },
            "type": "scattergeo"
           }
          ],
          "scattergl": [
           {
            "marker": {
             "colorbar": {
              "outlinewidth": 0,
              "ticks": ""
             }
            },
            "type": "scattergl"
           }
          ],
          "scattermapbox": [
           {
            "marker": {
             "colorbar": {
              "outlinewidth": 0,
              "ticks": ""
             }
            },
            "type": "scattermapbox"
           }
          ],
          "scatterpolar": [
           {
            "marker": {
             "colorbar": {
              "outlinewidth": 0,
              "ticks": ""
             }
            },
            "type": "scatterpolar"
           }
          ],
          "scatterpolargl": [
           {
            "marker": {
             "colorbar": {
              "outlinewidth": 0,
              "ticks": ""
             }
            },
            "type": "scatterpolargl"
           }
          ],
          "scatterternary": [
           {
            "marker": {
             "colorbar": {
              "outlinewidth": 0,
              "ticks": ""
             }
            },
            "type": "scatterternary"
           }
          ],
          "surface": [
           {
            "colorbar": {
             "outlinewidth": 0,
             "ticks": ""
            },
            "colorscale": [
             [
              0,
              "#0d0887"
             ],
             [
              0.1111111111111111,
              "#46039f"
             ],
             [
              0.2222222222222222,
              "#7201a8"
             ],
             [
              0.3333333333333333,
              "#9c179e"
             ],
             [
              0.4444444444444444,
              "#bd3786"
             ],
             [
              0.5555555555555556,
              "#d8576b"
             ],
             [
              0.6666666666666666,
              "#ed7953"
             ],
             [
              0.7777777777777778,
              "#fb9f3a"
             ],
             [
              0.8888888888888888,
              "#fdca26"
             ],
             [
              1,
              "#f0f921"
             ]
            ],
            "type": "surface"
           }
          ],
          "table": [
           {
            "cells": {
             "fill": {
              "color": "#EBF0F8"
             },
             "line": {
              "color": "white"
             }
            },
            "header": {
             "fill": {
              "color": "#C8D4E3"
             },
             "line": {
              "color": "white"
             }
            },
            "type": "table"
           }
          ]
         },
         "layout": {
          "annotationdefaults": {
           "arrowcolor": "#2a3f5f",
           "arrowhead": 0,
           "arrowwidth": 1
          },
          "autotypenumbers": "strict",
          "coloraxis": {
           "colorbar": {
            "outlinewidth": 0,
            "ticks": ""
           }
          },
          "colorscale": {
           "diverging": [
            [
             0,
             "#8e0152"
            ],
            [
             0.1,
             "#c51b7d"
            ],
            [
             0.2,
             "#de77ae"
            ],
            [
             0.3,
             "#f1b6da"
            ],
            [
             0.4,
             "#fde0ef"
            ],
            [
             0.5,
             "#f7f7f7"
            ],
            [
             0.6,
             "#e6f5d0"
            ],
            [
             0.7,
             "#b8e186"
            ],
            [
             0.8,
             "#7fbc41"
            ],
            [
             0.9,
             "#4d9221"
            ],
            [
             1,
             "#276419"
            ]
           ],
           "sequential": [
            [
             0,
             "#0d0887"
            ],
            [
             0.1111111111111111,
             "#46039f"
            ],
            [
             0.2222222222222222,
             "#7201a8"
            ],
            [
             0.3333333333333333,
             "#9c179e"
            ],
            [
             0.4444444444444444,
             "#bd3786"
            ],
            [
             0.5555555555555556,
             "#d8576b"
            ],
            [
             0.6666666666666666,
             "#ed7953"
            ],
            [
             0.7777777777777778,
             "#fb9f3a"
            ],
            [
             0.8888888888888888,
             "#fdca26"
            ],
            [
             1,
             "#f0f921"
            ]
           ],
           "sequentialminus": [
            [
             0,
             "#0d0887"
            ],
            [
             0.1111111111111111,
             "#46039f"
            ],
            [
             0.2222222222222222,
             "#7201a8"
            ],
            [
             0.3333333333333333,
             "#9c179e"
            ],
            [
             0.4444444444444444,
             "#bd3786"
            ],
            [
             0.5555555555555556,
             "#d8576b"
            ],
            [
             0.6666666666666666,
             "#ed7953"
            ],
            [
             0.7777777777777778,
             "#fb9f3a"
            ],
            [
             0.8888888888888888,
             "#fdca26"
            ],
            [
             1,
             "#f0f921"
            ]
           ]
          },
          "colorway": [
           "#636efa",
           "#EF553B",
           "#00cc96",
           "#ab63fa",
           "#FFA15A",
           "#19d3f3",
           "#FF6692",
           "#B6E880",
           "#FF97FF",
           "#FECB52"
          ],
          "font": {
           "color": "#2a3f5f"
          },
          "geo": {
           "bgcolor": "white",
           "lakecolor": "white",
           "landcolor": "white",
           "showlakes": true,
           "showland": true,
           "subunitcolor": "#C8D4E3"
          },
          "hoverlabel": {
           "align": "left"
          },
          "hovermode": "closest",
          "mapbox": {
           "style": "light"
          },
          "paper_bgcolor": "white",
          "plot_bgcolor": "white",
          "polar": {
           "angularaxis": {
            "gridcolor": "#EBF0F8",
            "linecolor": "#EBF0F8",
            "ticks": ""
           },
           "bgcolor": "white",
           "radialaxis": {
            "gridcolor": "#EBF0F8",
            "linecolor": "#EBF0F8",
            "ticks": ""
           }
          },
          "scene": {
           "xaxis": {
            "backgroundcolor": "white",
            "gridcolor": "#DFE8F3",
            "gridwidth": 2,
            "linecolor": "#EBF0F8",
            "showbackground": true,
            "ticks": "",
            "zerolinecolor": "#EBF0F8"
           },
           "yaxis": {
            "backgroundcolor": "white",
            "gridcolor": "#DFE8F3",
            "gridwidth": 2,
            "linecolor": "#EBF0F8",
            "showbackground": true,
            "ticks": "",
            "zerolinecolor": "#EBF0F8"
           },
           "zaxis": {
            "backgroundcolor": "white",
            "gridcolor": "#DFE8F3",
            "gridwidth": 2,
            "linecolor": "#EBF0F8",
            "showbackground": true,
            "ticks": "",
            "zerolinecolor": "#EBF0F8"
           }
          },
          "shapedefaults": {
           "line": {
            "color": "#2a3f5f"
           }
          },
          "ternary": {
           "aaxis": {
            "gridcolor": "#DFE8F3",
            "linecolor": "#A2B1C6",
            "ticks": ""
           },
           "baxis": {
            "gridcolor": "#DFE8F3",
            "linecolor": "#A2B1C6",
            "ticks": ""
           },
           "bgcolor": "white",
           "caxis": {
            "gridcolor": "#DFE8F3",
            "linecolor": "#A2B1C6",
            "ticks": ""
           }
          },
          "title": {
           "x": 0.05
          },
          "xaxis": {
           "automargin": true,
           "gridcolor": "#EBF0F8",
           "linecolor": "#EBF0F8",
           "ticks": "",
           "title": {
            "standoff": 15
           },
           "zerolinecolor": "#EBF0F8",
           "zerolinewidth": 2
          },
          "yaxis": {
           "automargin": true,
           "gridcolor": "#EBF0F8",
           "linecolor": "#EBF0F8",
           "ticks": "",
           "title": {
            "standoff": 15
           },
           "zerolinecolor": "#EBF0F8",
           "zerolinewidth": 2
          }
         }
        },
        "title": {
         "text": "Comparación de Valores Promedios: Hombres vs Mujeres por País"
        },
        "violinmode": "group",
        "xaxis": {
         "anchor": "y",
         "domain": [
          0,
          1
         ],
         "title": {
          "text": "País"
         }
        },
        "yaxis": {
         "anchor": "x",
         "domain": [
          0,
          1
         ],
         "title": {
          "text": "Valor Promedio"
         }
        }
       }
      }
     },
     "metadata": {},
     "output_type": "display_data"
    }
   ],
   "source": [
    "# Visualización 9: Comparación de Valores Promedios por Pais con Gráfica de Violín\n",
    "# Crear la gráfica de violín, separada por país y género\n",
    "fig = px.violin(data_latam, \n",
    "                y='Value', \n",
    "                x='Geography', \n",
    "                color='Gender', \n",
    "                box=True, \n",
    "                points=\"all\",  # Muestra todos los puntos\n",
    "                title=\"Comparación de Valores Promedios: Hombres vs Mujeres por País\")\n",
    "\n",
    "# Configuración de los ejes\n",
    "fig.update_layout(\n",
    "    xaxis_title=\"País\",\n",
    "    yaxis_title=\"Valor Promedio\",\n",
    "    template=\"plotly_white\"\n",
    ")\n",
    "\n",
    "# Mostrar la gráfica\n",
    "fig.show()"
   ]
  },
  {
   "cell_type": "code",
   "execution_count": 62,
   "id": "0ba9557a",
   "metadata": {},
   "outputs": [
    {
     "name": "stderr",
     "output_type": "stream",
     "text": [
      "C:\\Users\\frany\\AppData\\Local\\Temp\\ipykernel_18232\\1016941496.py:3: UserWarning:\n",
      "\n",
      "Boolean Series key will be reindexed to match DataFrame index.\n",
      "\n",
      "C:\\Users\\frany\\AppData\\Local\\Temp\\ipykernel_18232\\1016941496.py:4: UserWarning:\n",
      "\n",
      "Boolean Series key will be reindexed to match DataFrame index.\n",
      "\n",
      "d:\\Programs\\Anaconda3\\Lib\\site-packages\\plotly\\express\\_core.py:2065: FutureWarning:\n",
      "\n",
      "When grouping with a length-1 list-like, you will need to pass a length-1 tuple to get_group in a future version of pandas. Pass `(name,)` instead of `name` to silence this warning.\n",
      "\n"
     ]
    },
    {
     "data": {
      "application/vnd.plotly.v1+json": {
       "config": {
        "plotlyServerURL": "https://plot.ly"
       },
       "data": [
        {
         "hovertemplate": "Gender=male<br>Geography=%{x}<br>Value=%{y}<extra></extra>",
         "legendgroup": "male",
         "marker": {
          "color": "#636efa",
          "symbol": "circle"
         },
         "mode": "markers",
         "name": "male",
         "orientation": "v",
         "showlegend": true,
         "type": "scatter",
         "x": [
          "Argentina",
          "Bolivia",
          "Chile",
          "Colombia",
          "Costa Rica",
          "Ecuador",
          "El Salvador",
          "Guatemala",
          "Honduras",
          "Nicaragua",
          "Paraguay",
          "Uruguay",
          "Argentina",
          "Bolivia",
          "Chile",
          "Colombia",
          "Costa Rica",
          "Ecuador",
          "El Salvador",
          "Guatemala",
          "Honduras",
          "Nicaragua",
          "Paraguay",
          "Uruguay",
          "Argentina",
          "Bolivia",
          "Chile",
          "Colombia",
          "Costa Rica",
          "Ecuador",
          "El Salvador",
          "Guatemala",
          "Honduras",
          "Nicaragua",
          "Paraguay",
          "Uruguay",
          "Argentina",
          "Bolivia",
          "Chile",
          "Colombia",
          "Costa Rica",
          "Ecuador",
          "El Salvador",
          "Guatemala",
          "Honduras",
          "Nicaragua",
          "Paraguay",
          "Uruguay",
          "Argentina",
          "Bolivia",
          "Chile",
          "Colombia",
          "Costa Rica",
          "Ecuador",
          "El Salvador",
          "Guatemala",
          "Honduras",
          "Nicaragua",
          "Paraguay",
          "Uruguay",
          "Argentina",
          "Bolivia",
          "Chile",
          "Colombia",
          "Costa Rica",
          "Ecuador",
          "El Salvador",
          "Guatemala",
          "Honduras",
          "Nicaragua",
          "Paraguay",
          "Uruguay",
          "Argentina",
          "Argentina",
          "Argentina",
          "Bolivia",
          "Bolivia",
          "Bolivia",
          "Chile",
          "Chile",
          "Chile",
          "Colombia",
          "Colombia",
          "Colombia",
          "Costa Rica",
          "Costa Rica",
          "Costa Rica",
          "Ecuador",
          "Ecuador",
          "Ecuador",
          "El Salvador",
          "El Salvador",
          "El Salvador",
          "Guatemala",
          "Guatemala",
          "Guatemala",
          "Honduras",
          "Honduras",
          "Honduras",
          "Nicaragua",
          "Nicaragua",
          "Nicaragua",
          "Paraguay",
          "Paraguay",
          "Paraguay",
          "Uruguay",
          "Uruguay",
          "Uruguay",
          "Argentina",
          "Bolivia",
          "Chile",
          "Colombia",
          "Costa Rica",
          "Ecuador",
          "El Salvador",
          "Guatemala",
          "Honduras",
          "Nicaragua",
          "Paraguay",
          "Uruguay",
          "Argentina",
          "Bolivia",
          "Chile",
          "Colombia",
          "Costa Rica",
          "Ecuador",
          "El Salvador",
          "Guatemala",
          "Honduras",
          "Nicaragua",
          "Paraguay",
          "Uruguay",
          "Argentina",
          "Bolivia",
          "Chile",
          "Colombia",
          "Costa Rica",
          "Ecuador",
          "El Salvador",
          "Guatemala",
          "Honduras",
          "Nicaragua",
          "Paraguay",
          "Uruguay",
          "Argentina",
          "Bolivia",
          "Chile",
          "Colombia",
          "Costa Rica",
          "Ecuador",
          "El Salvador",
          "Guatemala",
          "Honduras",
          "Nicaragua",
          "Paraguay",
          "Uruguay",
          "Argentina",
          "Bolivia",
          "Chile",
          "Colombia",
          "Costa Rica",
          "Ecuador",
          "El Salvador",
          "Guatemala",
          "Honduras",
          "Nicaragua",
          "Paraguay",
          "Uruguay",
          "Argentina",
          "Bolivia",
          "Chile",
          "Colombia",
          "Costa Rica",
          "Ecuador",
          "El Salvador",
          "Guatemala",
          "Honduras",
          "Nicaragua",
          "Paraguay",
          "Uruguay",
          "Argentina",
          "Bolivia",
          "Chile",
          "Colombia",
          "Costa Rica",
          "Ecuador",
          "El Salvador",
          "Guatemala",
          "Honduras",
          "Nicaragua",
          "Paraguay",
          "Uruguay"
         ],
         "xaxis": "x",
         "y": [
          8.68,
          7.65,
          8.87,
          7.63,
          8.35,
          7.92,
          8.01,
          8.25,
          7.83,
          8.3,
          8.68,
          8.7,
          63,
          75,
          67,
          72,
          65,
          77,
          73,
          72,
          76,
          72,
          67,
          47,
          37,
          25,
          33,
          28,
          35,
          23,
          27,
          28,
          24,
          28,
          33,
          47,
          70,
          57,
          73,
          57,
          69,
          53,
          64,
          62,
          54,
          59,
          67,
          76,
          36,
          37,
          33,
          42,
          35,
          46,
          39,
          33,
          41,
          36,
          32,
          32,
          64,
          63,
          67,
          58,
          65,
          54,
          61,
          67,
          59,
          64,
          68,
          68,
          27,
          13,
          60,
          29,
          19,
          52,
          22,
          15,
          63,
          27,
          14,
          59,
          20,
          9,
          72,
          37,
          15,
          48,
          25,
          16,
          59,
          36,
          16,
          48,
          40,
          16,
          44,
          30,
          12,
          58,
          29,
          14,
          58,
          19,
          12,
          69,
          5.21,
          5.68,
          5.54,
          5.38,
          5.47,
          5.83,
          5.79,
          6.06,
          6.16,
          5.81,
          5.5,
          5.23,
          38,
          49,
          41,
          41,
          42,
          55,
          50,
          51,
          49,
          47,
          41,
          34,
          40,
          49,
          41,
          45,
          42,
          47,
          49,
          51,
          47,
          48,
          43,
          36,
          48,
          28,
          41,
          24,
          35,
          21,
          31,
          25,
          27,
          29,
          30,
          50,
          52,
          72,
          59,
          76,
          65,
          79,
          69,
          75,
          73,
          71,
          70,
          50,
          24,
          19,
          20,
          18,
          17,
          16,
          16,
          15,
          19,
          15,
          24,
          19,
          25,
          20,
          20,
          17,
          18,
          18,
          19,
          18,
          22,
          16,
          28,
          19
         ],
         "yaxis": "y"
        },
        {
         "alignmentgroup": "True",
         "bingroup": "x",
         "hovertemplate": "Gender=male<br>Geography=%{x}<br>count=%{y}<extra></extra>",
         "legendgroup": "male",
         "marker": {
          "color": "#636efa"
         },
         "name": "male",
         "offsetgroup": "male",
         "opacity": 0.5,
         "showlegend": false,
         "type": "histogram",
         "x": [
          "Argentina",
          "Bolivia",
          "Chile",
          "Colombia",
          "Costa Rica",
          "Ecuador",
          "El Salvador",
          "Guatemala",
          "Honduras",
          "Nicaragua",
          "Paraguay",
          "Uruguay",
          "Argentina",
          "Bolivia",
          "Chile",
          "Colombia",
          "Costa Rica",
          "Ecuador",
          "El Salvador",
          "Guatemala",
          "Honduras",
          "Nicaragua",
          "Paraguay",
          "Uruguay",
          "Argentina",
          "Bolivia",
          "Chile",
          "Colombia",
          "Costa Rica",
          "Ecuador",
          "El Salvador",
          "Guatemala",
          "Honduras",
          "Nicaragua",
          "Paraguay",
          "Uruguay",
          "Argentina",
          "Bolivia",
          "Chile",
          "Colombia",
          "Costa Rica",
          "Ecuador",
          "El Salvador",
          "Guatemala",
          "Honduras",
          "Nicaragua",
          "Paraguay",
          "Uruguay",
          "Argentina",
          "Bolivia",
          "Chile",
          "Colombia",
          "Costa Rica",
          "Ecuador",
          "El Salvador",
          "Guatemala",
          "Honduras",
          "Nicaragua",
          "Paraguay",
          "Uruguay",
          "Argentina",
          "Bolivia",
          "Chile",
          "Colombia",
          "Costa Rica",
          "Ecuador",
          "El Salvador",
          "Guatemala",
          "Honduras",
          "Nicaragua",
          "Paraguay",
          "Uruguay",
          "Argentina",
          "Argentina",
          "Argentina",
          "Bolivia",
          "Bolivia",
          "Bolivia",
          "Chile",
          "Chile",
          "Chile",
          "Colombia",
          "Colombia",
          "Colombia",
          "Costa Rica",
          "Costa Rica",
          "Costa Rica",
          "Ecuador",
          "Ecuador",
          "Ecuador",
          "El Salvador",
          "El Salvador",
          "El Salvador",
          "Guatemala",
          "Guatemala",
          "Guatemala",
          "Honduras",
          "Honduras",
          "Honduras",
          "Nicaragua",
          "Nicaragua",
          "Nicaragua",
          "Paraguay",
          "Paraguay",
          "Paraguay",
          "Uruguay",
          "Uruguay",
          "Uruguay",
          "Argentina",
          "Bolivia",
          "Chile",
          "Colombia",
          "Costa Rica",
          "Ecuador",
          "El Salvador",
          "Guatemala",
          "Honduras",
          "Nicaragua",
          "Paraguay",
          "Uruguay",
          "Argentina",
          "Bolivia",
          "Chile",
          "Colombia",
          "Costa Rica",
          "Ecuador",
          "El Salvador",
          "Guatemala",
          "Honduras",
          "Nicaragua",
          "Paraguay",
          "Uruguay",
          "Argentina",
          "Bolivia",
          "Chile",
          "Colombia",
          "Costa Rica",
          "Ecuador",
          "El Salvador",
          "Guatemala",
          "Honduras",
          "Nicaragua",
          "Paraguay",
          "Uruguay",
          "Argentina",
          "Bolivia",
          "Chile",
          "Colombia",
          "Costa Rica",
          "Ecuador",
          "El Salvador",
          "Guatemala",
          "Honduras",
          "Nicaragua",
          "Paraguay",
          "Uruguay",
          "Argentina",
          "Bolivia",
          "Chile",
          "Colombia",
          "Costa Rica",
          "Ecuador",
          "El Salvador",
          "Guatemala",
          "Honduras",
          "Nicaragua",
          "Paraguay",
          "Uruguay",
          "Argentina",
          "Bolivia",
          "Chile",
          "Colombia",
          "Costa Rica",
          "Ecuador",
          "El Salvador",
          "Guatemala",
          "Honduras",
          "Nicaragua",
          "Paraguay",
          "Uruguay",
          "Argentina",
          "Bolivia",
          "Chile",
          "Colombia",
          "Costa Rica",
          "Ecuador",
          "El Salvador",
          "Guatemala",
          "Honduras",
          "Nicaragua",
          "Paraguay",
          "Uruguay"
         ],
         "xaxis": "x3",
         "yaxis": "y3"
        },
        {
         "alignmentgroup": "True",
         "hovertemplate": "Gender=male<br>Value=%{y}<extra></extra>",
         "legendgroup": "male",
         "marker": {
          "color": "#636efa",
          "symbol": "circle"
         },
         "name": "male",
         "offsetgroup": "male",
         "scalegroup": "y",
         "showlegend": false,
         "type": "violin",
         "xaxis": "x2",
         "y": [
          8.68,
          7.65,
          8.87,
          7.63,
          8.35,
          7.92,
          8.01,
          8.25,
          7.83,
          8.3,
          8.68,
          8.7,
          63,
          75,
          67,
          72,
          65,
          77,
          73,
          72,
          76,
          72,
          67,
          47,
          37,
          25,
          33,
          28,
          35,
          23,
          27,
          28,
          24,
          28,
          33,
          47,
          70,
          57,
          73,
          57,
          69,
          53,
          64,
          62,
          54,
          59,
          67,
          76,
          36,
          37,
          33,
          42,
          35,
          46,
          39,
          33,
          41,
          36,
          32,
          32,
          64,
          63,
          67,
          58,
          65,
          54,
          61,
          67,
          59,
          64,
          68,
          68,
          27,
          13,
          60,
          29,
          19,
          52,
          22,
          15,
          63,
          27,
          14,
          59,
          20,
          9,
          72,
          37,
          15,
          48,
          25,
          16,
          59,
          36,
          16,
          48,
          40,
          16,
          44,
          30,
          12,
          58,
          29,
          14,
          58,
          19,
          12,
          69,
          5.21,
          5.68,
          5.54,
          5.38,
          5.47,
          5.83,
          5.79,
          6.06,
          6.16,
          5.81,
          5.5,
          5.23,
          38,
          49,
          41,
          41,
          42,
          55,
          50,
          51,
          49,
          47,
          41,
          34,
          40,
          49,
          41,
          45,
          42,
          47,
          49,
          51,
          47,
          48,
          43,
          36,
          48,
          28,
          41,
          24,
          35,
          21,
          31,
          25,
          27,
          29,
          30,
          50,
          52,
          72,
          59,
          76,
          65,
          79,
          69,
          75,
          73,
          71,
          70,
          50,
          24,
          19,
          20,
          18,
          17,
          16,
          16,
          15,
          19,
          15,
          24,
          19,
          25,
          20,
          20,
          17,
          18,
          18,
          19,
          18,
          22,
          16,
          28,
          19
         ],
         "yaxis": "y2"
        },
        {
         "hovertemplate": "Gender=female<br>Geography=%{x}<br>Value=%{y}<extra></extra>",
         "legendgroup": "female",
         "marker": {
          "color": "#EF553B",
          "symbol": "circle"
         },
         "mode": "markers",
         "name": "female",
         "orientation": "v",
         "showlegend": true,
         "type": "scatter",
         "x": [
          "Argentina",
          "Bolivia",
          "Chile",
          "Colombia",
          "Costa Rica",
          "Ecuador",
          "El Salvador",
          "Guatemala",
          "Honduras",
          "Nicaragua",
          "Paraguay",
          "Uruguay",
          "Argentina",
          "Bolivia",
          "Chile",
          "Colombia",
          "Costa Rica",
          "Ecuador",
          "El Salvador",
          "Guatemala",
          "Honduras",
          "Nicaragua",
          "Paraguay",
          "Uruguay",
          "Argentina",
          "Bolivia",
          "Chile",
          "Colombia",
          "Costa Rica",
          "Ecuador",
          "El Salvador",
          "Guatemala",
          "Honduras",
          "Nicaragua",
          "Paraguay",
          "Uruguay",
          "Argentina",
          "Bolivia",
          "Chile",
          "Colombia",
          "Costa Rica",
          "Ecuador",
          "El Salvador",
          "Guatemala",
          "Honduras",
          "Nicaragua",
          "Paraguay",
          "Uruguay",
          "Argentina",
          "Bolivia",
          "Chile",
          "Colombia",
          "Costa Rica",
          "Ecuador",
          "El Salvador",
          "Guatemala",
          "Honduras",
          "Nicaragua",
          "Paraguay",
          "Uruguay",
          "Argentina",
          "Bolivia",
          "Chile",
          "Colombia",
          "Costa Rica",
          "Ecuador",
          "El Salvador",
          "Guatemala",
          "Honduras",
          "Nicaragua",
          "Paraguay",
          "Uruguay",
          "Argentina",
          "Argentina",
          "Argentina",
          "Bolivia",
          "Bolivia",
          "Bolivia",
          "Chile",
          "Chile",
          "Chile",
          "Colombia",
          "Colombia",
          "Colombia",
          "Costa Rica",
          "Costa Rica",
          "Costa Rica",
          "Ecuador",
          "Ecuador",
          "Ecuador",
          "El Salvador",
          "El Salvador",
          "El Salvador",
          "Guatemala",
          "Guatemala",
          "Guatemala",
          "Honduras",
          "Honduras",
          "Honduras",
          "Nicaragua",
          "Nicaragua",
          "Nicaragua",
          "Paraguay",
          "Paraguay",
          "Paraguay",
          "Uruguay",
          "Uruguay",
          "Uruguay",
          "Argentina",
          "Bolivia",
          "Chile",
          "Colombia",
          "Costa Rica",
          "Ecuador",
          "El Salvador",
          "Guatemala",
          "Honduras",
          "Nicaragua",
          "Paraguay",
          "Uruguay",
          "Argentina",
          "Bolivia",
          "Chile",
          "Colombia",
          "Costa Rica",
          "Ecuador",
          "El Salvador",
          "Guatemala",
          "Honduras",
          "Nicaragua",
          "Paraguay",
          "Uruguay",
          "Argentina",
          "Bolivia",
          "Chile",
          "Colombia",
          "Costa Rica",
          "Ecuador",
          "El Salvador",
          "Guatemala",
          "Honduras",
          "Nicaragua",
          "Paraguay",
          "Uruguay",
          "Argentina",
          "Bolivia",
          "Chile",
          "Colombia",
          "Costa Rica",
          "Ecuador",
          "El Salvador",
          "Guatemala",
          "Honduras",
          "Nicaragua",
          "Paraguay",
          "Uruguay",
          "Argentina",
          "Bolivia",
          "Chile",
          "Colombia",
          "Costa Rica",
          "Ecuador",
          "El Salvador",
          "Guatemala",
          "Honduras",
          "Nicaragua",
          "Paraguay",
          "Uruguay",
          "Argentina",
          "Bolivia",
          "Chile",
          "Colombia",
          "Costa Rica",
          "Ecuador",
          "El Salvador",
          "Guatemala",
          "Honduras",
          "Nicaragua",
          "Paraguay",
          "Uruguay",
          "Argentina",
          "Bolivia",
          "Chile",
          "Colombia",
          "Costa Rica",
          "Ecuador",
          "El Salvador",
          "Guatemala",
          "Honduras",
          "Nicaragua",
          "Paraguay",
          "Uruguay"
         ],
         "xaxis": "x",
         "y": [
          7.51,
          6.74,
          7.6,
          6.93,
          7.25,
          6.6,
          6.92,
          7.08,
          7.45,
          7.28,
          7.15,
          8.16,
          67,
          78,
          66,
          77,
          72,
          85,
          79,
          78,
          78,
          77,
          70,
          43,
          33,
          22,
          34,
          23,
          28,
          15,
          21,
          22,
          22,
          23,
          30,
          43,
          55,
          44,
          59,
          47,
          43,
          35,
          46,
          37,
          37,
          43,
          48,
          58,
          49,
          54,
          53,
          57,
          61,
          63,
          51,
          60,
          60,
          56,
          48,
          51,
          51,
          46,
          47,
          43,
          39,
          37,
          49,
          40,
          40,
          44,
          52,
          49,
          16,
          12,
          73,
          23,
          17,
          61,
          11,
          10,
          80,
          16,
          13,
          71,
          14,
          10,
          76,
          23,
          14,
          62,
          19,
          13,
          67,
          26,
          18,
          57,
          33,
          15,
          52,
          22,
          14,
          65,
          21,
          14,
          65,
          13,
          10,
          77,
          5.55,
          5.72,
          5.72,
          5.46,
          5.54,
          5.92,
          5.67,
          6.38,
          6.19,
          5.96,
          5.98,
          5.07,
          62,
          51,
          59,
          59,
          58,
          45,
          50,
          49,
          51,
          53,
          59,
          66,
          60,
          51,
          59,
          55,
          58,
          53,
          51,
          49,
          53,
          52,
          57,
          64,
          46,
          20,
          41,
          18,
          28,
          15,
          25,
          18,
          15,
          28,
          24,
          51,
          54,
          80,
          59,
          82,
          72,
          85,
          75,
          82,
          85,
          72,
          76,
          49,
          36,
          22,
          38,
          25,
          26,
          19,
          24,
          19,
          27,
          26,
          27,
          36,
          35,
          23,
          36,
          24,
          26,
          19,
          20,
          18,
          23,
          24,
          25,
          35
         ],
         "yaxis": "y"
        },
        {
         "alignmentgroup": "True",
         "bingroup": "x",
         "hovertemplate": "Gender=female<br>Geography=%{x}<br>count=%{y}<extra></extra>",
         "legendgroup": "female",
         "marker": {
          "color": "#EF553B"
         },
         "name": "female",
         "offsetgroup": "female",
         "opacity": 0.5,
         "showlegend": false,
         "type": "histogram",
         "x": [
          "Argentina",
          "Bolivia",
          "Chile",
          "Colombia",
          "Costa Rica",
          "Ecuador",
          "El Salvador",
          "Guatemala",
          "Honduras",
          "Nicaragua",
          "Paraguay",
          "Uruguay",
          "Argentina",
          "Bolivia",
          "Chile",
          "Colombia",
          "Costa Rica",
          "Ecuador",
          "El Salvador",
          "Guatemala",
          "Honduras",
          "Nicaragua",
          "Paraguay",
          "Uruguay",
          "Argentina",
          "Bolivia",
          "Chile",
          "Colombia",
          "Costa Rica",
          "Ecuador",
          "El Salvador",
          "Guatemala",
          "Honduras",
          "Nicaragua",
          "Paraguay",
          "Uruguay",
          "Argentina",
          "Bolivia",
          "Chile",
          "Colombia",
          "Costa Rica",
          "Ecuador",
          "El Salvador",
          "Guatemala",
          "Honduras",
          "Nicaragua",
          "Paraguay",
          "Uruguay",
          "Argentina",
          "Bolivia",
          "Chile",
          "Colombia",
          "Costa Rica",
          "Ecuador",
          "El Salvador",
          "Guatemala",
          "Honduras",
          "Nicaragua",
          "Paraguay",
          "Uruguay",
          "Argentina",
          "Bolivia",
          "Chile",
          "Colombia",
          "Costa Rica",
          "Ecuador",
          "El Salvador",
          "Guatemala",
          "Honduras",
          "Nicaragua",
          "Paraguay",
          "Uruguay",
          "Argentina",
          "Argentina",
          "Argentina",
          "Bolivia",
          "Bolivia",
          "Bolivia",
          "Chile",
          "Chile",
          "Chile",
          "Colombia",
          "Colombia",
          "Colombia",
          "Costa Rica",
          "Costa Rica",
          "Costa Rica",
          "Ecuador",
          "Ecuador",
          "Ecuador",
          "El Salvador",
          "El Salvador",
          "El Salvador",
          "Guatemala",
          "Guatemala",
          "Guatemala",
          "Honduras",
          "Honduras",
          "Honduras",
          "Nicaragua",
          "Nicaragua",
          "Nicaragua",
          "Paraguay",
          "Paraguay",
          "Paraguay",
          "Uruguay",
          "Uruguay",
          "Uruguay",
          "Argentina",
          "Bolivia",
          "Chile",
          "Colombia",
          "Costa Rica",
          "Ecuador",
          "El Salvador",
          "Guatemala",
          "Honduras",
          "Nicaragua",
          "Paraguay",
          "Uruguay",
          "Argentina",
          "Bolivia",
          "Chile",
          "Colombia",
          "Costa Rica",
          "Ecuador",
          "El Salvador",
          "Guatemala",
          "Honduras",
          "Nicaragua",
          "Paraguay",
          "Uruguay",
          "Argentina",
          "Bolivia",
          "Chile",
          "Colombia",
          "Costa Rica",
          "Ecuador",
          "El Salvador",
          "Guatemala",
          "Honduras",
          "Nicaragua",
          "Paraguay",
          "Uruguay",
          "Argentina",
          "Bolivia",
          "Chile",
          "Colombia",
          "Costa Rica",
          "Ecuador",
          "El Salvador",
          "Guatemala",
          "Honduras",
          "Nicaragua",
          "Paraguay",
          "Uruguay",
          "Argentina",
          "Bolivia",
          "Chile",
          "Colombia",
          "Costa Rica",
          "Ecuador",
          "El Salvador",
          "Guatemala",
          "Honduras",
          "Nicaragua",
          "Paraguay",
          "Uruguay",
          "Argentina",
          "Bolivia",
          "Chile",
          "Colombia",
          "Costa Rica",
          "Ecuador",
          "El Salvador",
          "Guatemala",
          "Honduras",
          "Nicaragua",
          "Paraguay",
          "Uruguay",
          "Argentina",
          "Bolivia",
          "Chile",
          "Colombia",
          "Costa Rica",
          "Ecuador",
          "El Salvador",
          "Guatemala",
          "Honduras",
          "Nicaragua",
          "Paraguay",
          "Uruguay"
         ],
         "xaxis": "x3",
         "yaxis": "y3"
        },
        {
         "alignmentgroup": "True",
         "hovertemplate": "Gender=female<br>Value=%{y}<extra></extra>",
         "legendgroup": "female",
         "marker": {
          "color": "#EF553B",
          "symbol": "circle"
         },
         "name": "female",
         "offsetgroup": "female",
         "scalegroup": "y",
         "showlegend": false,
         "type": "violin",
         "xaxis": "x2",
         "y": [
          7.51,
          6.74,
          7.6,
          6.93,
          7.25,
          6.6,
          6.92,
          7.08,
          7.45,
          7.28,
          7.15,
          8.16,
          67,
          78,
          66,
          77,
          72,
          85,
          79,
          78,
          78,
          77,
          70,
          43,
          33,
          22,
          34,
          23,
          28,
          15,
          21,
          22,
          22,
          23,
          30,
          43,
          55,
          44,
          59,
          47,
          43,
          35,
          46,
          37,
          37,
          43,
          48,
          58,
          49,
          54,
          53,
          57,
          61,
          63,
          51,
          60,
          60,
          56,
          48,
          51,
          51,
          46,
          47,
          43,
          39,
          37,
          49,
          40,
          40,
          44,
          52,
          49,
          16,
          12,
          73,
          23,
          17,
          61,
          11,
          10,
          80,
          16,
          13,
          71,
          14,
          10,
          76,
          23,
          14,
          62,
          19,
          13,
          67,
          26,
          18,
          57,
          33,
          15,
          52,
          22,
          14,
          65,
          21,
          14,
          65,
          13,
          10,
          77,
          5.55,
          5.72,
          5.72,
          5.46,
          5.54,
          5.92,
          5.67,
          6.38,
          6.19,
          5.96,
          5.98,
          5.07,
          62,
          51,
          59,
          59,
          58,
          45,
          50,
          49,
          51,
          53,
          59,
          66,
          60,
          51,
          59,
          55,
          58,
          53,
          51,
          49,
          53,
          52,
          57,
          64,
          46,
          20,
          41,
          18,
          28,
          15,
          25,
          18,
          15,
          28,
          24,
          51,
          54,
          80,
          59,
          82,
          72,
          85,
          75,
          82,
          85,
          72,
          76,
          49,
          36,
          22,
          38,
          25,
          26,
          19,
          24,
          19,
          27,
          26,
          27,
          36,
          35,
          23,
          36,
          24,
          26,
          19,
          20,
          18,
          23,
          24,
          25,
          35
         ],
         "yaxis": "y2"
        },
        {
         "marker": {
          "color": "blue",
          "size": 10,
          "symbol": "x"
         },
         "mode": "markers",
         "name": "Promedio por País y Género",
         "type": "scatter",
         "x": [
          "Argentina",
          "Bolivia",
          "Chile",
          "Colombia",
          "Costa Rica",
          "Ecuador",
          "El Salvador",
          "Guatemala",
          "Honduras",
          "Nicaragua",
          "Paraguay",
          "Uruguay"
         ],
         "y": [
          38.180625,
          37.958125,
          38.088125,
          36.938125,
          37.676249999999996,
          37.671875,
          38.2375,
          38.206875,
          37.811875,
          37.444375,
          38.636250000000004,
          36.995625000000004
         ]
        },
        {
         "marker": {
          "color": "red",
          "size": 10,
          "symbol": "x"
         },
         "mode": "markers",
         "name": "Promedio por País y Género",
         "type": "scatter",
         "x": [
          "Argentina",
          "Bolivia",
          "Chile",
          "Colombia",
          "Costa Rica",
          "Ecuador",
          "El Salvador",
          "Guatemala",
          "Honduras",
          "Nicaragua",
          "Paraguay",
          "Uruguay"
         ],
         "y": [
          41.37875,
          37.77875,
          41.582499999999996,
          38.899375,
          38.986875,
          36.4075,
          37.661875,
          36.65375,
          37.79,
          38.265,
          39.320625,
          41.139375
         ]
        }
       ],
       "layout": {
        "barmode": "overlay",
        "legend": {
         "title": {
          "text": "Gender"
         },
         "tracegroupgap": 0
        },
        "template": {
         "data": {
          "bar": [
           {
            "error_x": {
             "color": "#2a3f5f"
            },
            "error_y": {
             "color": "#2a3f5f"
            },
            "marker": {
             "line": {
              "color": "white",
              "width": 0.5
             },
             "pattern": {
              "fillmode": "overlay",
              "size": 10,
              "solidity": 0.2
             }
            },
            "type": "bar"
           }
          ],
          "barpolar": [
           {
            "marker": {
             "line": {
              "color": "white",
              "width": 0.5
             },
             "pattern": {
              "fillmode": "overlay",
              "size": 10,
              "solidity": 0.2
             }
            },
            "type": "barpolar"
           }
          ],
          "carpet": [
           {
            "aaxis": {
             "endlinecolor": "#2a3f5f",
             "gridcolor": "#C8D4E3",
             "linecolor": "#C8D4E3",
             "minorgridcolor": "#C8D4E3",
             "startlinecolor": "#2a3f5f"
            },
            "baxis": {
             "endlinecolor": "#2a3f5f",
             "gridcolor": "#C8D4E3",
             "linecolor": "#C8D4E3",
             "minorgridcolor": "#C8D4E3",
             "startlinecolor": "#2a3f5f"
            },
            "type": "carpet"
           }
          ],
          "choropleth": [
           {
            "colorbar": {
             "outlinewidth": 0,
             "ticks": ""
            },
            "type": "choropleth"
           }
          ],
          "contour": [
           {
            "colorbar": {
             "outlinewidth": 0,
             "ticks": ""
            },
            "colorscale": [
             [
              0,
              "#0d0887"
             ],
             [
              0.1111111111111111,
              "#46039f"
             ],
             [
              0.2222222222222222,
              "#7201a8"
             ],
             [
              0.3333333333333333,
              "#9c179e"
             ],
             [
              0.4444444444444444,
              "#bd3786"
             ],
             [
              0.5555555555555556,
              "#d8576b"
             ],
             [
              0.6666666666666666,
              "#ed7953"
             ],
             [
              0.7777777777777778,
              "#fb9f3a"
             ],
             [
              0.8888888888888888,
              "#fdca26"
             ],
             [
              1,
              "#f0f921"
             ]
            ],
            "type": "contour"
           }
          ],
          "contourcarpet": [
           {
            "colorbar": {
             "outlinewidth": 0,
             "ticks": ""
            },
            "type": "contourcarpet"
           }
          ],
          "heatmap": [
           {
            "colorbar": {
             "outlinewidth": 0,
             "ticks": ""
            },
            "colorscale": [
             [
              0,
              "#0d0887"
             ],
             [
              0.1111111111111111,
              "#46039f"
             ],
             [
              0.2222222222222222,
              "#7201a8"
             ],
             [
              0.3333333333333333,
              "#9c179e"
             ],
             [
              0.4444444444444444,
              "#bd3786"
             ],
             [
              0.5555555555555556,
              "#d8576b"
             ],
             [
              0.6666666666666666,
              "#ed7953"
             ],
             [
              0.7777777777777778,
              "#fb9f3a"
             ],
             [
              0.8888888888888888,
              "#fdca26"
             ],
             [
              1,
              "#f0f921"
             ]
            ],
            "type": "heatmap"
           }
          ],
          "heatmapgl": [
           {
            "colorbar": {
             "outlinewidth": 0,
             "ticks": ""
            },
            "colorscale": [
             [
              0,
              "#0d0887"
             ],
             [
              0.1111111111111111,
              "#46039f"
             ],
             [
              0.2222222222222222,
              "#7201a8"
             ],
             [
              0.3333333333333333,
              "#9c179e"
             ],
             [
              0.4444444444444444,
              "#bd3786"
             ],
             [
              0.5555555555555556,
              "#d8576b"
             ],
             [
              0.6666666666666666,
              "#ed7953"
             ],
             [
              0.7777777777777778,
              "#fb9f3a"
             ],
             [
              0.8888888888888888,
              "#fdca26"
             ],
             [
              1,
              "#f0f921"
             ]
            ],
            "type": "heatmapgl"
           }
          ],
          "histogram": [
           {
            "marker": {
             "pattern": {
              "fillmode": "overlay",
              "size": 10,
              "solidity": 0.2
             }
            },
            "type": "histogram"
           }
          ],
          "histogram2d": [
           {
            "colorbar": {
             "outlinewidth": 0,
             "ticks": ""
            },
            "colorscale": [
             [
              0,
              "#0d0887"
             ],
             [
              0.1111111111111111,
              "#46039f"
             ],
             [
              0.2222222222222222,
              "#7201a8"
             ],
             [
              0.3333333333333333,
              "#9c179e"
             ],
             [
              0.4444444444444444,
              "#bd3786"
             ],
             [
              0.5555555555555556,
              "#d8576b"
             ],
             [
              0.6666666666666666,
              "#ed7953"
             ],
             [
              0.7777777777777778,
              "#fb9f3a"
             ],
             [
              0.8888888888888888,
              "#fdca26"
             ],
             [
              1,
              "#f0f921"
             ]
            ],
            "type": "histogram2d"
           }
          ],
          "histogram2dcontour": [
           {
            "colorbar": {
             "outlinewidth": 0,
             "ticks": ""
            },
            "colorscale": [
             [
              0,
              "#0d0887"
             ],
             [
              0.1111111111111111,
              "#46039f"
             ],
             [
              0.2222222222222222,
              "#7201a8"
             ],
             [
              0.3333333333333333,
              "#9c179e"
             ],
             [
              0.4444444444444444,
              "#bd3786"
             ],
             [
              0.5555555555555556,
              "#d8576b"
             ],
             [
              0.6666666666666666,
              "#ed7953"
             ],
             [
              0.7777777777777778,
              "#fb9f3a"
             ],
             [
              0.8888888888888888,
              "#fdca26"
             ],
             [
              1,
              "#f0f921"
             ]
            ],
            "type": "histogram2dcontour"
           }
          ],
          "mesh3d": [
           {
            "colorbar": {
             "outlinewidth": 0,
             "ticks": ""
            },
            "type": "mesh3d"
           }
          ],
          "parcoords": [
           {
            "line": {
             "colorbar": {
              "outlinewidth": 0,
              "ticks": ""
             }
            },
            "type": "parcoords"
           }
          ],
          "pie": [
           {
            "automargin": true,
            "type": "pie"
           }
          ],
          "scatter": [
           {
            "fillpattern": {
             "fillmode": "overlay",
             "size": 10,
             "solidity": 0.2
            },
            "type": "scatter"
           }
          ],
          "scatter3d": [
           {
            "line": {
             "colorbar": {
              "outlinewidth": 0,
              "ticks": ""
             }
            },
            "marker": {
             "colorbar": {
              "outlinewidth": 0,
              "ticks": ""
             }
            },
            "type": "scatter3d"
           }
          ],
          "scattercarpet": [
           {
            "marker": {
             "colorbar": {
              "outlinewidth": 0,
              "ticks": ""
             }
            },
            "type": "scattercarpet"
           }
          ],
          "scattergeo": [
           {
            "marker": {
             "colorbar": {
              "outlinewidth": 0,
              "ticks": ""
             }
            },
            "type": "scattergeo"
           }
          ],
          "scattergl": [
           {
            "marker": {
             "colorbar": {
              "outlinewidth": 0,
              "ticks": ""
             }
            },
            "type": "scattergl"
           }
          ],
          "scattermapbox": [
           {
            "marker": {
             "colorbar": {
              "outlinewidth": 0,
              "ticks": ""
             }
            },
            "type": "scattermapbox"
           }
          ],
          "scatterpolar": [
           {
            "marker": {
             "colorbar": {
              "outlinewidth": 0,
              "ticks": ""
             }
            },
            "type": "scatterpolar"
           }
          ],
          "scatterpolargl": [
           {
            "marker": {
             "colorbar": {
              "outlinewidth": 0,
              "ticks": ""
             }
            },
            "type": "scatterpolargl"
           }
          ],
          "scatterternary": [
           {
            "marker": {
             "colorbar": {
              "outlinewidth": 0,
              "ticks": ""
             }
            },
            "type": "scatterternary"
           }
          ],
          "surface": [
           {
            "colorbar": {
             "outlinewidth": 0,
             "ticks": ""
            },
            "colorscale": [
             [
              0,
              "#0d0887"
             ],
             [
              0.1111111111111111,
              "#46039f"
             ],
             [
              0.2222222222222222,
              "#7201a8"
             ],
             [
              0.3333333333333333,
              "#9c179e"
             ],
             [
              0.4444444444444444,
              "#bd3786"
             ],
             [
              0.5555555555555556,
              "#d8576b"
             ],
             [
              0.6666666666666666,
              "#ed7953"
             ],
             [
              0.7777777777777778,
              "#fb9f3a"
             ],
             [
              0.8888888888888888,
              "#fdca26"
             ],
             [
              1,
              "#f0f921"
             ]
            ],
            "type": "surface"
           }
          ],
          "table": [
           {
            "cells": {
             "fill": {
              "color": "#EBF0F8"
             },
             "line": {
              "color": "white"
             }
            },
            "header": {
             "fill": {
              "color": "#C8D4E3"
             },
             "line": {
              "color": "white"
             }
            },
            "type": "table"
           }
          ]
         },
         "layout": {
          "annotationdefaults": {
           "arrowcolor": "#2a3f5f",
           "arrowhead": 0,
           "arrowwidth": 1
          },
          "autotypenumbers": "strict",
          "coloraxis": {
           "colorbar": {
            "outlinewidth": 0,
            "ticks": ""
           }
          },
          "colorscale": {
           "diverging": [
            [
             0,
             "#8e0152"
            ],
            [
             0.1,
             "#c51b7d"
            ],
            [
             0.2,
             "#de77ae"
            ],
            [
             0.3,
             "#f1b6da"
            ],
            [
             0.4,
             "#fde0ef"
            ],
            [
             0.5,
             "#f7f7f7"
            ],
            [
             0.6,
             "#e6f5d0"
            ],
            [
             0.7,
             "#b8e186"
            ],
            [
             0.8,
             "#7fbc41"
            ],
            [
             0.9,
             "#4d9221"
            ],
            [
             1,
             "#276419"
            ]
           ],
           "sequential": [
            [
             0,
             "#0d0887"
            ],
            [
             0.1111111111111111,
             "#46039f"
            ],
            [
             0.2222222222222222,
             "#7201a8"
            ],
            [
             0.3333333333333333,
             "#9c179e"
            ],
            [
             0.4444444444444444,
             "#bd3786"
            ],
            [
             0.5555555555555556,
             "#d8576b"
            ],
            [
             0.6666666666666666,
             "#ed7953"
            ],
            [
             0.7777777777777778,
             "#fb9f3a"
            ],
            [
             0.8888888888888888,
             "#fdca26"
            ],
            [
             1,
             "#f0f921"
            ]
           ],
           "sequentialminus": [
            [
             0,
             "#0d0887"
            ],
            [
             0.1111111111111111,
             "#46039f"
            ],
            [
             0.2222222222222222,
             "#7201a8"
            ],
            [
             0.3333333333333333,
             "#9c179e"
            ],
            [
             0.4444444444444444,
             "#bd3786"
            ],
            [
             0.5555555555555556,
             "#d8576b"
            ],
            [
             0.6666666666666666,
             "#ed7953"
            ],
            [
             0.7777777777777778,
             "#fb9f3a"
            ],
            [
             0.8888888888888888,
             "#fdca26"
            ],
            [
             1,
             "#f0f921"
            ]
           ]
          },
          "colorway": [
           "#636efa",
           "#EF553B",
           "#00cc96",
           "#ab63fa",
           "#FFA15A",
           "#19d3f3",
           "#FF6692",
           "#B6E880",
           "#FF97FF",
           "#FECB52"
          ],
          "font": {
           "color": "#2a3f5f"
          },
          "geo": {
           "bgcolor": "white",
           "lakecolor": "white",
           "landcolor": "white",
           "showlakes": true,
           "showland": true,
           "subunitcolor": "#C8D4E3"
          },
          "hoverlabel": {
           "align": "left"
          },
          "hovermode": "closest",
          "mapbox": {
           "style": "light"
          },
          "paper_bgcolor": "white",
          "plot_bgcolor": "white",
          "polar": {
           "angularaxis": {
            "gridcolor": "#EBF0F8",
            "linecolor": "#EBF0F8",
            "ticks": ""
           },
           "bgcolor": "white",
           "radialaxis": {
            "gridcolor": "#EBF0F8",
            "linecolor": "#EBF0F8",
            "ticks": ""
           }
          },
          "scene": {
           "xaxis": {
            "backgroundcolor": "white",
            "gridcolor": "#DFE8F3",
            "gridwidth": 2,
            "linecolor": "#EBF0F8",
            "showbackground": true,
            "ticks": "",
            "zerolinecolor": "#EBF0F8"
           },
           "yaxis": {
            "backgroundcolor": "white",
            "gridcolor": "#DFE8F3",
            "gridwidth": 2,
            "linecolor": "#EBF0F8",
            "showbackground": true,
            "ticks": "",
            "zerolinecolor": "#EBF0F8"
           },
           "zaxis": {
            "backgroundcolor": "white",
            "gridcolor": "#DFE8F3",
            "gridwidth": 2,
            "linecolor": "#EBF0F8",
            "showbackground": true,
            "ticks": "",
            "zerolinecolor": "#EBF0F8"
           }
          },
          "shapedefaults": {
           "line": {
            "color": "#2a3f5f"
           }
          },
          "ternary": {
           "aaxis": {
            "gridcolor": "#DFE8F3",
            "linecolor": "#A2B1C6",
            "ticks": ""
           },
           "baxis": {
            "gridcolor": "#DFE8F3",
            "linecolor": "#A2B1C6",
            "ticks": ""
           },
           "bgcolor": "white",
           "caxis": {
            "gridcolor": "#DFE8F3",
            "linecolor": "#A2B1C6",
            "ticks": ""
           }
          },
          "title": {
           "x": 0.05
          },
          "xaxis": {
           "automargin": true,
           "gridcolor": "#EBF0F8",
           "linecolor": "#EBF0F8",
           "ticks": "",
           "title": {
            "standoff": 15
           },
           "zerolinecolor": "#EBF0F8",
           "zerolinewidth": 2
          },
          "yaxis": {
           "automargin": true,
           "gridcolor": "#EBF0F8",
           "linecolor": "#EBF0F8",
           "ticks": "",
           "title": {
            "standoff": 15
           },
           "zerolinecolor": "#EBF0F8",
           "zerolinewidth": 2
          }
         }
        },
        "title": {
         "text": "Comparación de Valores Promedios: Hombres vs Mujeres por País con Distribuciones Marginales"
        },
        "xaxis": {
         "anchor": "y",
         "domain": [
          0,
          0.7363
         ],
         "title": {
          "text": "País"
         }
        },
        "xaxis2": {
         "anchor": "y2",
         "domain": [
          0.7413,
          1
         ],
         "matches": "x2",
         "showgrid": false,
         "showline": false,
         "showticklabels": false,
         "ticks": ""
        },
        "xaxis3": {
         "anchor": "y3",
         "domain": [
          0,
          0.7363
         ],
         "matches": "x",
         "showgrid": true,
         "showticklabels": false
        },
        "xaxis4": {
         "anchor": "y4",
         "domain": [
          0.7413,
          1
         ],
         "matches": "x2",
         "showgrid": false,
         "showline": false,
         "showticklabels": false,
         "ticks": ""
        },
        "yaxis": {
         "anchor": "x",
         "domain": [
          0,
          0.7326
         ],
         "title": {
          "text": "Valor Promedio"
         }
        },
        "yaxis2": {
         "anchor": "x2",
         "domain": [
          0,
          0.7326
         ],
         "matches": "y",
         "showgrid": true,
         "showticklabels": false
        },
        "yaxis3": {
         "anchor": "x3",
         "domain": [
          0.7426,
          1
         ],
         "matches": "y3",
         "showgrid": true,
         "showline": false,
         "showticklabels": false,
         "ticks": ""
        },
        "yaxis4": {
         "anchor": "x4",
         "domain": [
          0.7426,
          1
         ],
         "matches": "y3",
         "showgrid": true,
         "showline": false,
         "showticklabels": false,
         "ticks": ""
        }
       }
      }
     },
     "metadata": {},
     "output_type": "display_data"
    }
   ],
   "source": [
    "# Visualización 10: Comparación de Valores Promedios por País con Distribuciones Marginales\n",
    "# Calcular el valor promedio por país y género\n",
    "promedio_por_pais_genero_male = data_latam[data_latam.Gender!='combined'][data_latam.Gender=='male'].groupby(['Geography', 'Gender'])['Value'].mean().reset_index()\n",
    "promedio_por_pais_genero_female = data_latam[data_latam.Gender!='combined'][data_latam.Gender=='female'].groupby(['Geography', 'Gender'])['Value'].mean().reset_index()\n",
    "\n",
    "\n",
    "# Crear el gráfico de dispersión con las distribuciones marginales\n",
    "fig = px.scatter(data_latam[data_latam.Gender!='combined'], \n",
    "                 x='Geography', \n",
    "                 y='Value', \n",
    "                 color='Gender', \n",
    "                 marginal_x=\"histogram\",  # Agrega un histograma marginal para el eje X (País)\n",
    "                 marginal_y=\"violin\",     # Agrega un gráfico de violín marginal para el eje Y (Valor)\n",
    "                 title=\"Comparación de Valores Promedios: Hombres vs Mujeres por País con Distribuciones Marginales\")\n",
    "\n",
    "\n",
    "# Agregar los valores promedio por país y género como puntos\n",
    "fig.add_scatter(x=promedio_por_pais_genero_male['Geography'], \n",
    "                y=promedio_por_pais_genero_male['Value'], \n",
    "                mode='markers', \n",
    "                marker=dict(color='blue', size=10, symbol='x'),  # Puntos en color negro\n",
    "                name='Promedio por País y Género')\n",
    "\n",
    "fig.add_scatter(x=promedio_por_pais_genero_female['Geography'], \n",
    "                y=promedio_por_pais_genero_female['Value'], \n",
    "                mode='markers', \n",
    "                marker=dict(color='red', size=10, symbol='x'),  # Puntos en color negro\n",
    "                name='Promedio por País y Género')\n",
    "\n",
    "# Configuración de los ejes\n",
    "fig.update_layout(\n",
    "    xaxis_title=\"País\",\n",
    "    yaxis_title=\"Valor Promedio\",\n",
    "    template=\"plotly_white\"\n",
    ")\n",
    "\n",
    "# Mostrar la gráfica\n",
    "fig.show()"
   ]
  },
  {
   "cell_type": "code",
   "execution_count": 66,
   "id": "5def26dc",
   "metadata": {},
   "outputs": [
    {
     "data": {
      "application/vnd.plotly.v1+json": {
       "config": {
        "plotlyServerURL": "https://plot.ly"
       },
       "data": [
        {
         "branchvalues": "total",
         "domain": {
          "x": [
           0,
           1
          ],
          "y": [
           0,
           1
          ]
         },
         "hovertemplate": "labels=%{label}<br>Valor Promedio=%{value}<br>parent=%{parent}<br>id=%{id}<extra></extra>",
         "ids": [
          "Argentina/combined",
          "Bolivia/combined",
          "Chile/combined",
          "Colombia/combined",
          "Costa Rica/combined",
          "Ecuador/combined",
          "El Salvador/combined",
          "Guatemala/combined",
          "Honduras/combined",
          "Nicaragua/combined",
          "Paraguay/combined",
          "Uruguay/combined",
          "Argentina/female",
          "Bolivia/female",
          "Chile/female",
          "Colombia/female",
          "Costa Rica/female",
          "Ecuador/female",
          "El Salvador/female",
          "Guatemala/female",
          "Honduras/female",
          "Nicaragua/female",
          "Paraguay/female",
          "Uruguay/female",
          "Argentina/male",
          "Bolivia/male",
          "Chile/male",
          "Colombia/male",
          "Costa Rica/male",
          "Ecuador/male",
          "El Salvador/male",
          "Guatemala/male",
          "Honduras/male",
          "Nicaragua/male",
          "Paraguay/male",
          "Uruguay/male",
          "Argentina",
          "Bolivia",
          "Chile",
          "Colombia",
          "Costa Rica",
          "Ecuador",
          "El Salvador",
          "Guatemala",
          "Honduras",
          "Nicaragua",
          "Paraguay",
          "Uruguay"
         ],
         "labels": [
          "combined",
          "combined",
          "combined",
          "combined",
          "combined",
          "combined",
          "combined",
          "combined",
          "combined",
          "combined",
          "combined",
          "combined",
          "female",
          "female",
          "female",
          "female",
          "female",
          "female",
          "female",
          "female",
          "female",
          "female",
          "female",
          "female",
          "male",
          "male",
          "male",
          "male",
          "male",
          "male",
          "male",
          "male",
          "male",
          "male",
          "male",
          "male",
          "Argentina",
          "Bolivia",
          "Chile",
          "Colombia",
          "Costa Rica",
          "Ecuador",
          "El Salvador",
          "Guatemala",
          "Honduras",
          "Nicaragua",
          "Paraguay",
          "Uruguay"
         ],
         "name": "",
         "parents": [
          "Argentina",
          "Bolivia",
          "Chile",
          "Colombia",
          "Costa Rica",
          "Ecuador",
          "El Salvador",
          "Guatemala",
          "Honduras",
          "Nicaragua",
          "Paraguay",
          "Uruguay",
          "Argentina",
          "Bolivia",
          "Chile",
          "Colombia",
          "Costa Rica",
          "Ecuador",
          "El Salvador",
          "Guatemala",
          "Honduras",
          "Nicaragua",
          "Paraguay",
          "Uruguay",
          "Argentina",
          "Bolivia",
          "Chile",
          "Colombia",
          "Costa Rica",
          "Ecuador",
          "El Salvador",
          "Guatemala",
          "Honduras",
          "Nicaragua",
          "Paraguay",
          "Uruguay",
          "",
          "",
          "",
          "",
          "",
          "",
          "",
          "",
          "",
          "",
          "",
          ""
         ],
         "type": "sunburst",
         "values": [
          46.025,
          44.054375,
          46.17625,
          44.16625,
          44.39125,
          43.38375,
          44.20125,
          43.685,
          43.928125,
          44.105625,
          45.042500000000004,
          46.155625,
          41.37875,
          37.77875,
          41.582499999999996,
          38.899375,
          38.986875,
          36.4075,
          37.661875,
          36.65375,
          37.79,
          38.265,
          39.320625,
          41.139375,
          38.180625,
          37.958125,
          38.088125,
          36.938125,
          37.676249999999996,
          37.671875,
          38.2375,
          38.206875,
          37.811875,
          37.444375,
          38.636250000000004,
          36.995625000000004,
          125.584375,
          119.79125,
          125.846875,
          120.00375,
          121.054375,
          117.46312499999999,
          120.10062500000001,
          118.545625,
          119.53,
          119.815,
          122.99937500000001,
          124.290625
         ]
        }
       ],
       "layout": {
        "legend": {
         "tracegroupgap": 0
        },
        "template": {
         "data": {
          "bar": [
           {
            "error_x": {
             "color": "#2a3f5f"
            },
            "error_y": {
             "color": "#2a3f5f"
            },
            "marker": {
             "line": {
              "color": "white",
              "width": 0.5
             },
             "pattern": {
              "fillmode": "overlay",
              "size": 10,
              "solidity": 0.2
             }
            },
            "type": "bar"
           }
          ],
          "barpolar": [
           {
            "marker": {
             "line": {
              "color": "white",
              "width": 0.5
             },
             "pattern": {
              "fillmode": "overlay",
              "size": 10,
              "solidity": 0.2
             }
            },
            "type": "barpolar"
           }
          ],
          "carpet": [
           {
            "aaxis": {
             "endlinecolor": "#2a3f5f",
             "gridcolor": "#C8D4E3",
             "linecolor": "#C8D4E3",
             "minorgridcolor": "#C8D4E3",
             "startlinecolor": "#2a3f5f"
            },
            "baxis": {
             "endlinecolor": "#2a3f5f",
             "gridcolor": "#C8D4E3",
             "linecolor": "#C8D4E3",
             "minorgridcolor": "#C8D4E3",
             "startlinecolor": "#2a3f5f"
            },
            "type": "carpet"
           }
          ],
          "choropleth": [
           {
            "colorbar": {
             "outlinewidth": 0,
             "ticks": ""
            },
            "type": "choropleth"
           }
          ],
          "contour": [
           {
            "colorbar": {
             "outlinewidth": 0,
             "ticks": ""
            },
            "colorscale": [
             [
              0,
              "#0d0887"
             ],
             [
              0.1111111111111111,
              "#46039f"
             ],
             [
              0.2222222222222222,
              "#7201a8"
             ],
             [
              0.3333333333333333,
              "#9c179e"
             ],
             [
              0.4444444444444444,
              "#bd3786"
             ],
             [
              0.5555555555555556,
              "#d8576b"
             ],
             [
              0.6666666666666666,
              "#ed7953"
             ],
             [
              0.7777777777777778,
              "#fb9f3a"
             ],
             [
              0.8888888888888888,
              "#fdca26"
             ],
             [
              1,
              "#f0f921"
             ]
            ],
            "type": "contour"
           }
          ],
          "contourcarpet": [
           {
            "colorbar": {
             "outlinewidth": 0,
             "ticks": ""
            },
            "type": "contourcarpet"
           }
          ],
          "heatmap": [
           {
            "colorbar": {
             "outlinewidth": 0,
             "ticks": ""
            },
            "colorscale": [
             [
              0,
              "#0d0887"
             ],
             [
              0.1111111111111111,
              "#46039f"
             ],
             [
              0.2222222222222222,
              "#7201a8"
             ],
             [
              0.3333333333333333,
              "#9c179e"
             ],
             [
              0.4444444444444444,
              "#bd3786"
             ],
             [
              0.5555555555555556,
              "#d8576b"
             ],
             [
              0.6666666666666666,
              "#ed7953"
             ],
             [
              0.7777777777777778,
              "#fb9f3a"
             ],
             [
              0.8888888888888888,
              "#fdca26"
             ],
             [
              1,
              "#f0f921"
             ]
            ],
            "type": "heatmap"
           }
          ],
          "heatmapgl": [
           {
            "colorbar": {
             "outlinewidth": 0,
             "ticks": ""
            },
            "colorscale": [
             [
              0,
              "#0d0887"
             ],
             [
              0.1111111111111111,
              "#46039f"
             ],
             [
              0.2222222222222222,
              "#7201a8"
             ],
             [
              0.3333333333333333,
              "#9c179e"
             ],
             [
              0.4444444444444444,
              "#bd3786"
             ],
             [
              0.5555555555555556,
              "#d8576b"
             ],
             [
              0.6666666666666666,
              "#ed7953"
             ],
             [
              0.7777777777777778,
              "#fb9f3a"
             ],
             [
              0.8888888888888888,
              "#fdca26"
             ],
             [
              1,
              "#f0f921"
             ]
            ],
            "type": "heatmapgl"
           }
          ],
          "histogram": [
           {
            "marker": {
             "pattern": {
              "fillmode": "overlay",
              "size": 10,
              "solidity": 0.2
             }
            },
            "type": "histogram"
           }
          ],
          "histogram2d": [
           {
            "colorbar": {
             "outlinewidth": 0,
             "ticks": ""
            },
            "colorscale": [
             [
              0,
              "#0d0887"
             ],
             [
              0.1111111111111111,
              "#46039f"
             ],
             [
              0.2222222222222222,
              "#7201a8"
             ],
             [
              0.3333333333333333,
              "#9c179e"
             ],
             [
              0.4444444444444444,
              "#bd3786"
             ],
             [
              0.5555555555555556,
              "#d8576b"
             ],
             [
              0.6666666666666666,
              "#ed7953"
             ],
             [
              0.7777777777777778,
              "#fb9f3a"
             ],
             [
              0.8888888888888888,
              "#fdca26"
             ],
             [
              1,
              "#f0f921"
             ]
            ],
            "type": "histogram2d"
           }
          ],
          "histogram2dcontour": [
           {
            "colorbar": {
             "outlinewidth": 0,
             "ticks": ""
            },
            "colorscale": [
             [
              0,
              "#0d0887"
             ],
             [
              0.1111111111111111,
              "#46039f"
             ],
             [
              0.2222222222222222,
              "#7201a8"
             ],
             [
              0.3333333333333333,
              "#9c179e"
             ],
             [
              0.4444444444444444,
              "#bd3786"
             ],
             [
              0.5555555555555556,
              "#d8576b"
             ],
             [
              0.6666666666666666,
              "#ed7953"
             ],
             [
              0.7777777777777778,
              "#fb9f3a"
             ],
             [
              0.8888888888888888,
              "#fdca26"
             ],
             [
              1,
              "#f0f921"
             ]
            ],
            "type": "histogram2dcontour"
           }
          ],
          "mesh3d": [
           {
            "colorbar": {
             "outlinewidth": 0,
             "ticks": ""
            },
            "type": "mesh3d"
           }
          ],
          "parcoords": [
           {
            "line": {
             "colorbar": {
              "outlinewidth": 0,
              "ticks": ""
             }
            },
            "type": "parcoords"
           }
          ],
          "pie": [
           {
            "automargin": true,
            "type": "pie"
           }
          ],
          "scatter": [
           {
            "fillpattern": {
             "fillmode": "overlay",
             "size": 10,
             "solidity": 0.2
            },
            "type": "scatter"
           }
          ],
          "scatter3d": [
           {
            "line": {
             "colorbar": {
              "outlinewidth": 0,
              "ticks": ""
             }
            },
            "marker": {
             "colorbar": {
              "outlinewidth": 0,
              "ticks": ""
             }
            },
            "type": "scatter3d"
           }
          ],
          "scattercarpet": [
           {
            "marker": {
             "colorbar": {
              "outlinewidth": 0,
              "ticks": ""
             }
            },
            "type": "scattercarpet"
           }
          ],
          "scattergeo": [
           {
            "marker": {
             "colorbar": {
              "outlinewidth": 0,
              "ticks": ""
             }
            },
            "type": "scattergeo"
           }
          ],
          "scattergl": [
           {
            "marker": {
             "colorbar": {
              "outlinewidth": 0,
              "ticks": ""
             }
            },
            "type": "scattergl"
           }
          ],
          "scattermapbox": [
           {
            "marker": {
             "colorbar": {
              "outlinewidth": 0,
              "ticks": ""
             }
            },
            "type": "scattermapbox"
           }
          ],
          "scatterpolar": [
           {
            "marker": {
             "colorbar": {
              "outlinewidth": 0,
              "ticks": ""
             }
            },
            "type": "scatterpolar"
           }
          ],
          "scatterpolargl": [
           {
            "marker": {
             "colorbar": {
              "outlinewidth": 0,
              "ticks": ""
             }
            },
            "type": "scatterpolargl"
           }
          ],
          "scatterternary": [
           {
            "marker": {
             "colorbar": {
              "outlinewidth": 0,
              "ticks": ""
             }
            },
            "type": "scatterternary"
           }
          ],
          "surface": [
           {
            "colorbar": {
             "outlinewidth": 0,
             "ticks": ""
            },
            "colorscale": [
             [
              0,
              "#0d0887"
             ],
             [
              0.1111111111111111,
              "#46039f"
             ],
             [
              0.2222222222222222,
              "#7201a8"
             ],
             [
              0.3333333333333333,
              "#9c179e"
             ],
             [
              0.4444444444444444,
              "#bd3786"
             ],
             [
              0.5555555555555556,
              "#d8576b"
             ],
             [
              0.6666666666666666,
              "#ed7953"
             ],
             [
              0.7777777777777778,
              "#fb9f3a"
             ],
             [
              0.8888888888888888,
              "#fdca26"
             ],
             [
              1,
              "#f0f921"
             ]
            ],
            "type": "surface"
           }
          ],
          "table": [
           {
            "cells": {
             "fill": {
              "color": "#EBF0F8"
             },
             "line": {
              "color": "white"
             }
            },
            "header": {
             "fill": {
              "color": "#C8D4E3"
             },
             "line": {
              "color": "white"
             }
            },
            "type": "table"
           }
          ]
         },
         "layout": {
          "annotationdefaults": {
           "arrowcolor": "#2a3f5f",
           "arrowhead": 0,
           "arrowwidth": 1
          },
          "autotypenumbers": "strict",
          "coloraxis": {
           "colorbar": {
            "outlinewidth": 0,
            "ticks": ""
           }
          },
          "colorscale": {
           "diverging": [
            [
             0,
             "#8e0152"
            ],
            [
             0.1,
             "#c51b7d"
            ],
            [
             0.2,
             "#de77ae"
            ],
            [
             0.3,
             "#f1b6da"
            ],
            [
             0.4,
             "#fde0ef"
            ],
            [
             0.5,
             "#f7f7f7"
            ],
            [
             0.6,
             "#e6f5d0"
            ],
            [
             0.7,
             "#b8e186"
            ],
            [
             0.8,
             "#7fbc41"
            ],
            [
             0.9,
             "#4d9221"
            ],
            [
             1,
             "#276419"
            ]
           ],
           "sequential": [
            [
             0,
             "#0d0887"
            ],
            [
             0.1111111111111111,
             "#46039f"
            ],
            [
             0.2222222222222222,
             "#7201a8"
            ],
            [
             0.3333333333333333,
             "#9c179e"
            ],
            [
             0.4444444444444444,
             "#bd3786"
            ],
            [
             0.5555555555555556,
             "#d8576b"
            ],
            [
             0.6666666666666666,
             "#ed7953"
            ],
            [
             0.7777777777777778,
             "#fb9f3a"
            ],
            [
             0.8888888888888888,
             "#fdca26"
            ],
            [
             1,
             "#f0f921"
            ]
           ],
           "sequentialminus": [
            [
             0,
             "#0d0887"
            ],
            [
             0.1111111111111111,
             "#46039f"
            ],
            [
             0.2222222222222222,
             "#7201a8"
            ],
            [
             0.3333333333333333,
             "#9c179e"
            ],
            [
             0.4444444444444444,
             "#bd3786"
            ],
            [
             0.5555555555555556,
             "#d8576b"
            ],
            [
             0.6666666666666666,
             "#ed7953"
            ],
            [
             0.7777777777777778,
             "#fb9f3a"
            ],
            [
             0.8888888888888888,
             "#fdca26"
            ],
            [
             1,
             "#f0f921"
            ]
           ]
          },
          "colorway": [
           "#636efa",
           "#EF553B",
           "#00cc96",
           "#ab63fa",
           "#FFA15A",
           "#19d3f3",
           "#FF6692",
           "#B6E880",
           "#FF97FF",
           "#FECB52"
          ],
          "font": {
           "color": "#2a3f5f"
          },
          "geo": {
           "bgcolor": "white",
           "lakecolor": "white",
           "landcolor": "white",
           "showlakes": true,
           "showland": true,
           "subunitcolor": "#C8D4E3"
          },
          "hoverlabel": {
           "align": "left"
          },
          "hovermode": "closest",
          "mapbox": {
           "style": "light"
          },
          "paper_bgcolor": "white",
          "plot_bgcolor": "white",
          "polar": {
           "angularaxis": {
            "gridcolor": "#EBF0F8",
            "linecolor": "#EBF0F8",
            "ticks": ""
           },
           "bgcolor": "white",
           "radialaxis": {
            "gridcolor": "#EBF0F8",
            "linecolor": "#EBF0F8",
            "ticks": ""
           }
          },
          "scene": {
           "xaxis": {
            "backgroundcolor": "white",
            "gridcolor": "#DFE8F3",
            "gridwidth": 2,
            "linecolor": "#EBF0F8",
            "showbackground": true,
            "ticks": "",
            "zerolinecolor": "#EBF0F8"
           },
           "yaxis": {
            "backgroundcolor": "white",
            "gridcolor": "#DFE8F3",
            "gridwidth": 2,
            "linecolor": "#EBF0F8",
            "showbackground": true,
            "ticks": "",
            "zerolinecolor": "#EBF0F8"
           },
           "zaxis": {
            "backgroundcolor": "white",
            "gridcolor": "#DFE8F3",
            "gridwidth": 2,
            "linecolor": "#EBF0F8",
            "showbackground": true,
            "ticks": "",
            "zerolinecolor": "#EBF0F8"
           }
          },
          "shapedefaults": {
           "line": {
            "color": "#2a3f5f"
           }
          },
          "ternary": {
           "aaxis": {
            "gridcolor": "#DFE8F3",
            "linecolor": "#A2B1C6",
            "ticks": ""
           },
           "baxis": {
            "gridcolor": "#DFE8F3",
            "linecolor": "#A2B1C6",
            "ticks": ""
           },
           "bgcolor": "white",
           "caxis": {
            "gridcolor": "#DFE8F3",
            "linecolor": "#A2B1C6",
            "ticks": ""
           }
          },
          "title": {
           "x": 0.05
          },
          "xaxis": {
           "automargin": true,
           "gridcolor": "#EBF0F8",
           "linecolor": "#EBF0F8",
           "ticks": "",
           "title": {
            "standoff": 15
           },
           "zerolinecolor": "#EBF0F8",
           "zerolinewidth": 2
          },
          "yaxis": {
           "automargin": true,
           "gridcolor": "#EBF0F8",
           "linecolor": "#EBF0F8",
           "ticks": "",
           "title": {
            "standoff": 15
           },
           "zerolinecolor": "#EBF0F8",
           "zerolinewidth": 2
          }
         }
        },
        "title": {
         "text": "Distribución de Valores Promedios: Hombres vs Mujeres por País"
        }
       }
      }
     },
     "metadata": {},
     "output_type": "display_data"
    }
   ],
   "source": [
    "# Visualización 11: \n",
    "# Calcular el valor promedio por país y género\n",
    "promedio_por_pais_genero = data_latam.groupby(['Geography', 'Gender'])['Value'].mean().reset_index()\n",
    "\n",
    "# Crear una columna 'Valor Promedio' para usar en el gráfico Sunburst\n",
    "promedio_por_pais_genero['Valor Promedio'] = promedio_por_pais_genero['Value']\n",
    "\n",
    "# Crear el gráfico Sunburst\n",
    "fig = px.sunburst(promedio_por_pais_genero, \n",
    "                  path=['Geography', 'Gender'], \n",
    "                  values='Valor Promedio',\n",
    "                  title=\"Distribución de Valores Promedios: Hombres vs Mujeres por País\")\n",
    "\n",
    "# Configuración de la gráfica\n",
    "fig.update_layout(\n",
    "    template=\"plotly_white\"\n",
    ")\n",
    "\n",
    "# Mostrar la gráfica\n",
    "fig.show()"
   ]
  }
 ],
 "metadata": {
  "kernelspec": {
   "display_name": "base",
   "language": "python",
   "name": "python3"
  },
  "language_info": {
   "codemirror_mode": {
    "name": "ipython",
    "version": 3
   },
   "file_extension": ".py",
   "mimetype": "text/x-python",
   "name": "python",
   "nbconvert_exporter": "python",
   "pygments_lexer": "ipython3",
   "version": "3.12.4"
  }
 },
 "nbformat": 4,
 "nbformat_minor": 5
}
